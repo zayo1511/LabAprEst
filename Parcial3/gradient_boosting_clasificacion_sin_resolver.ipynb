{
 "cells": [
  {
   "cell_type": "code",
   "execution_count": 30,
   "id": "15b61470-abbf-42df-a61d-c1ccdb715620",
   "metadata": {},
   "outputs": [],
   "source": [
    "import pandas as pd\n",
    "import numpy as np\n",
    "from sklearn.model_selection import train_test_split, GridSearchCV\n",
    "from sklearn.metrics import roc_auc_score\n",
    "from sklearn.pipeline import Pipeline\n",
    "from sklearn.preprocessing import StandardScaler\n",
    "import matplotlib.pyplot as plt\n",
    "from sklearn.inspection import PartialDependenceDisplay\n",
    "\n",
    "\n",
    "# --- Limpieza de datos según lo indicado ---\n",
    "df = pd.read_csv('titanic.csv')\n",
    "df = df.drop(['PassengerId', 'Name', 'Ticket', 'Cabin'], axis=1)\n",
    "df = pd.get_dummies(df)\n",
    "del df['Sex_female']\n",
    "df['Age'] = df['Age'].fillna(df.Age.mean())\n",
    "\n",
    "# Variables predictoras y variable objetivo\n",
    "X = df.drop('Survived', axis=1)\n",
    "y = df['Survived']\n",
    "\n",
    "# --- División en conjunto de entrenamiento y test (80%-20%) ---\n",
    "X_train, X_test, y_train, y_test = train_test_split(\n",
    "    X, y, test_size=0.2, stratify=y, random_state=42\n",
    ")"
   ]
  },
  {
   "cell_type": "code",
   "execution_count": 1,
   "id": "df250d16-e98f-4615-b421-97fecf536547",
   "metadata": {},
   "outputs": [],
   "source": [
    "# Crea un gradient boosting\n"
   ]
  },
  {
   "cell_type": "code",
   "execution_count": 2,
   "id": "aa887305-0dd9-4ff1-91fd-dece0921bf30",
   "metadata": {},
   "outputs": [],
   "source": [
    "## Cross validation \n"
   ]
  },
  {
   "cell_type": "code",
   "execution_count": 3,
   "id": "49577fe9-8cdf-46e0-9c7f-dbcb105a9f09",
   "metadata": {},
   "outputs": [],
   "source": [
    "# Mejor estimador \n"
   ]
  },
  {
   "cell_type": "code",
   "execution_count": null,
   "id": "e49bd8d9-ceb2-4409-8f3c-64a5cebbf33d",
   "metadata": {},
   "outputs": [],
   "source": []
  },
  {
   "cell_type": "code",
   "execution_count": 4,
   "id": "df66af40-5fbe-4ef2-b396-694be2f6bdc0",
   "metadata": {},
   "outputs": [],
   "source": [
    "# AUC\n"
   ]
  },
  {
   "cell_type": "code",
   "execution_count": 5,
   "id": "1b8b6547-3c39-4c66-885a-e78459210f7e",
   "metadata": {},
   "outputs": [],
   "source": [
    "## Calibracion"
   ]
  },
  {
   "cell_type": "code",
   "execution_count": 6,
   "id": "f092f14e-dd84-4dec-91f7-a0c7e60b5cfd",
   "metadata": {},
   "outputs": [],
   "source": [
    "# Entendiendo el modelo "
   ]
  },
  {
   "cell_type": "code",
   "execution_count": 7,
   "id": "e31ab6b8-4ba5-4842-a189-3bc12d4c3385",
   "metadata": {},
   "outputs": [],
   "source": [
    "# Codigo for para partial dependence plot "
   ]
  },
  {
   "cell_type": "code",
   "execution_count": null,
   "id": "aa05bbcc-7dc5-4a58-90b6-35bcae54ef79",
   "metadata": {},
   "outputs": [],
   "source": []
  },
  {
   "cell_type": "code",
   "execution_count": null,
   "id": "016ba5ec-d00b-4853-ac21-03d4ab5df91c",
   "metadata": {},
   "outputs": [],
   "source": []
  }
 ],
 "metadata": {
  "kernelspec": {
   "display_name": "Python 3 (ipykernel)",
   "language": "python",
   "name": "python3"
  },
  "language_info": {
   "codemirror_mode": {
    "name": "ipython",
    "version": 3
   },
   "file_extension": ".py",
   "mimetype": "text/x-python",
   "name": "python",
   "nbconvert_exporter": "python",
   "pygments_lexer": "ipython3",
   "version": "3.10.16"
  }
 },
 "nbformat": 4,
 "nbformat_minor": 5
}

{
 "cells": [
  {
   "cell_type": "code",
   "execution_count": 13,
   "id": "15b61470-abbf-42df-a61d-c1ccdb715620",
   "metadata": {},
   "outputs": [],
   "source": [
    "import pandas as pd\n",
    "import numpy as np\n",
    "from sklearn.model_selection import train_test_split, GridSearchCV\n",
    "from sklearn.metrics import roc_auc_score\n",
    "from sklearn.pipeline import Pipeline\n",
    "from sklearn.preprocessing import StandardScaler\n",
    "import matplotlib.pyplot as plt\n",
    "from sklearn.inspection import PartialDependenceDisplay\n",
    "\n",
    "import seaborn as sns\n",
    "from matplotlib.colors import LinearSegmentedColormap\n",
    "\n",
    "colors = [\"cornflowerblue\", \"indianred\", \"darkseagreen\", \"plum\", \"dimgray\"]\n",
    "\n",
    "\n",
    "# --- Limpieza de datos según lo indicado ---\n",
    "df = pd.read_csv('Data/titanic.csv')\n",
    "df = df.drop(['PassengerId', 'Name', 'Ticket', 'Cabin'], axis=1)\n",
    "df = pd.get_dummies(df)\n",
    "del df['Sex_female']\n",
    "df['Age'] = df['Age'].fillna(df.Age.mean())\n",
    "\n",
    "# Variables predictoras y variable objetivo\n",
    "X = df.drop('Survived', axis=1)\n",
    "y = df['Survived']\n",
    "\n",
    "# --- División en conjunto de entrenamiento y test (80%-20%) ---\n",
    "X_train, X_test, y_train, y_test = train_test_split(\n",
    "    X, y, test_size=0.2, stratify=y, random_state=42\n",
    ")"
   ]
  },
  {
   "cell_type": "code",
   "execution_count": 11,
   "id": "df250d16-e98f-4615-b421-97fecf536547",
   "metadata": {},
   "outputs": [
    {
     "name": "stdout",
     "output_type": "stream",
     "text": [
      "AUC: 0.792094861660079\n"
     ]
    }
   ],
   "source": [
    "# Crea un gradient boosting\n",
    "from sklearn.ensemble import GradientBoostingClassifier\n",
    "\n",
    "model = GradientBoostingClassifier(n_estimators=300, learning_rate=0.1, max_depth=4, random_state=42).fit(X_train, y_train)\n",
    "\n",
    "predicciones = model.predict_proba(X_test)[:,1]\n",
    "\n",
    "print('AUC:', roc_auc_score(y_test, predicciones))"
   ]
  },
  {
   "cell_type": "code",
   "execution_count": 7,
   "id": "aa887305-0dd9-4ff1-91fd-dece0921bf30",
   "metadata": {},
   "outputs": [],
   "source": [
    "## Cross validation \n",
    "from sklearn.pipeline import Pipeline\n",
    "from sklearn.model_selection import GridSearchCV\n",
    "\n",
    "pipeline = Pipeline([\n",
    "     ('gbt', GradientBoostingClassifier(n_estimators=300))\n",
    "     ])\n",
    "\n",
    "params = {\n",
    "     'gbt__max_depth': [2, 3, 4, 5],\n",
    "     'gbt__learning_rate': [0.1, 0.5, 0.01]\n",
    "}\n",
    "\n",
    "grid_gbt = GridSearchCV(estimator=pipeline, param_grid=params, cv=5, n_jobs=-1, scoring=\"roc_auc\").fit(X_train, y_train)"
   ]
  },
  {
   "cell_type": "code",
   "execution_count": 9,
   "id": "49577fe9-8cdf-46e0-9c7f-dbcb105a9f09",
   "metadata": {},
   "outputs": [
    {
     "data": {
      "text/plain": [
       "{'gbt__learning_rate': 0.1, 'gbt__max_depth': 2}"
      ]
     },
     "execution_count": 9,
     "metadata": {},
     "output_type": "execute_result"
    }
   ],
   "source": [
    "# Mejor estimador \n",
    "grid_gbt.best_params_"
   ]
  },
  {
   "cell_type": "code",
   "execution_count": null,
   "id": "e49bd8d9-ceb2-4409-8f3c-64a5cebbf33d",
   "metadata": {},
   "outputs": [],
   "source": []
  },
  {
   "cell_type": "code",
   "execution_count": 12,
   "id": "df66af40-5fbe-4ef2-b396-694be2f6bdc0",
   "metadata": {},
   "outputs": [
    {
     "name": "stdout",
     "output_type": "stream",
     "text": [
      "AUC: 0.7951910408432148\n"
     ]
    }
   ],
   "source": [
    "# AUC\n",
    "best_model = grid_gbt.best_estimator_.named_steps['gbt']\n",
    "predicciones = best_model.predict_proba(X_test)[:,1]\n",
    "print('AUC:', roc_auc_score(y_test, predicciones))"
   ]
  },
  {
   "cell_type": "code",
   "execution_count": 5,
   "id": "1b8b6547-3c39-4c66-885a-e78459210f7e",
   "metadata": {},
   "outputs": [],
   "source": [
    "## Calibracion"
   ]
  },
  {
   "cell_type": "code",
   "execution_count": 15,
   "id": "f092f14e-dd84-4dec-91f7-a0c7e60b5cfd",
   "metadata": {},
   "outputs": [
    {
     "name": "stderr",
     "output_type": "stream",
     "text": [
      "/var/folders/tr/mb4tgd2j63j6tf50s0kl_p680000gn/T/ipykernel_46684/3923727249.py:13: FutureWarning: \n",
      "\n",
      "Passing `palette` without assigning `hue` is deprecated and will be removed in v0.14.0. Assign the `y` variable to `hue` and set `legend=False` for the same effect.\n",
      "\n",
      "  sns.barplot(x=\"Importancia\", y=\"Variable\", data=model_interpretability, palette=custom_palette)\n"
     ]
    },
    {
     "data": {
      "image/png": "[encoded data removed]",
      "text/plain": [
       "<Figure size 1000x500 with 1 Axes>"
      ]
     },
     "metadata": {},
     "output_type": "display_data"
    }
   ],
   "source": [
    "# Entendiendo el modelo \n",
    "def interpretability(X, model, n_var):\n",
    "    model_interpretability = pd.DataFrame({\n",
    "          'Variable': X.keys(),\n",
    "          'Importancia': model.feature_importances_\n",
    "    })\n",
    "    model_interpretability = model_interpretability.sort_values(by='Importancia', ascending=False).head(n_var)\n",
    "\n",
    "    cmap = LinearSegmentedColormap.from_list(\"custom_coolwarm\", [colors[1], colors[0]])\n",
    "    custom_palette = sns.color_palette([cmap(i) for i in np.linspace(0, 1, len(model_interpretability))])\n",
    "\n",
    "    plt.figure(figsize=(10, 5))\n",
    "    sns.barplot(x=\"Importancia\", y=\"Variable\", data=model_interpretability, palette=custom_palette)\n",
    "    for index, value in enumerate(model_interpretability[\"Importancia\"]):\n",
    "        plt.text(value + 0.002, index, f\"{value:.4f}\", va=\"center\", fontsize=10)\n",
    "    plt.xlabel('Importancia')\n",
    "    plt.xlim(0, max(model_interpretability[\"Importancia\"]) + 0.03)\n",
    "    plt.ylabel('Variables')\n",
    "    plt.title(f'{n_var} variables más importantes del GBT')\n",
    "    plt.show()\n",
    "\n",
    "interpretability(X, best_model, 5)"
   ]
  },
  {
   "cell_type": "code",
   "execution_count": 7,
   "id": "e31ab6b8-4ba5-4842-a189-3bc12d4c3385",
   "metadata": {},
   "outputs": [],
   "source": [
    "# Codigo for para partial dependence plot "
   ]
  },
  {
   "cell_type": "code",
   "execution_count": null,
   "id": "aa05bbcc-7dc5-4a58-90b6-35bcae54ef79",
   "metadata": {},
   "outputs": [],
   "source": []
  },
  {
   "cell_type": "code",
   "execution_count": null,
   "id": "016ba5ec-d00b-4853-ac21-03d4ab5df91c",
   "metadata": {},
   "outputs": [],
   "source": []
  }
 ],
 "metadata": {
  "kernelspec": {
   "display_name": "base",
   "language": "python",
   "name": "python3"
  },
  "language_info": {
   "codemirror_mode": {
    "name": "ipython",
    "version": 3
   },
   "file_extension": ".py",
   "mimetype": "text/x-python",
   "name": "python",
   "nbconvert_exporter": "python",
   "pygments_lexer": "ipython3",
   "version": "3.12.7"
  }
 },
 "nbformat": 4,
 "nbformat_minor": 5
}

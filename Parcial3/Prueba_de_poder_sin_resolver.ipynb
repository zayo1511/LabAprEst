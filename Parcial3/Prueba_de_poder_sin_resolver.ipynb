{
 "cells": [
  {
   "cell_type": "markdown",
   "id": "43278186-8ffe-4486-a279-2d3a9be4de37",
   "metadata": {},
   "source": [
    "La prueba Z evalúa si una media o proporción observada difiere significativamente de un valor esperado o de otra media/proporción. Se basa en la distribución normal estándar N(0,1).\n",
    "\n",
    "La estadística de prueba se calcula como:\n",
    "\n",
    "$$Z = \\frac{\\text{Estadistico observado - Valor esperado}}{\\text{Desviación estandard del estadístico}}$$\n",
    "\n",
    "_Esta expresión nos dice cuántas desviaciones estándar se encuentra el estadístico observado con respecto al valor esperado._\n",
    "\n",
    "\n",
    "### Para una media poblacional\n",
    "\n",
    "$$ Z = \\frac{\\mu_1 - \\mu_2}{\\frac{\\sigma}{\\sqrt{n}}}$$\n",
    "\n",
    "Ejemplo:\n",
    "Se espera que la altura promedio de una población sea 170 cm, pero una muestra de 50 personas tiene una media de 172 cm y una desviación estándar poblacional de 6 cm. \n",
    "\n",
    "¿Es esta diferencia significativa?\n",
    "\n",
    "stats.norm.cdf(abs(z))\n"
   ]
  },
  {
   "cell_type": "code",
   "execution_count": 1,
   "id": "80b038ab-a467-48fa-9011-01cd3b425784",
   "metadata": {},
   "outputs": [],
   "source": [
    "import numpy as np\n",
    "import scipy.stats as stats\n",
    "\n",
    "\n",
    "## La probabilidad de que la hipotesis nula se cumpla es muy baja y aceptamos la alternativa"
   ]
  },
  {
   "cell_type": "markdown",
   "id": "084e85d4-1c95-4457-a87a-eb05b97f24aa",
   "metadata": {},
   "source": [
    "### Prueba para 2 medias\n",
    "\n",
    "Compara las medias de dos grupos cuando ambas muestras son grandes.\n",
    "\n",
    "\n",
    "$$Z = \\frac{\\hat{X_1} - \\hat{X_2}}{\\sqrt{\\frac{\\sigma_1^2}{n_1} + \\frac{\\sigma_2^2}{n_2}}}$$\n",
    "\n",
    "Ojo: en este caso el estadístico observado es $\\hat{X_1} - \\hat{X_2}$ y se divide entre su error estandar (el que surge al restar dos normales).\n",
    "\n",
    "La hipotesis nula es que no hay diferencia, es decir ... ¿qué tan probable es que no haya ninguna diferencia entre ambas medias?\n",
    "\n",
    "$$Z = \\frac{(\\hat{X_1} - \\hat{X_2}) - H_0}{\\sqrt{\\frac{\\sigma_1^2}{n_1} + \\frac{\\sigma_2^2}{n_2}}}$$\n",
    "\n",
    "Dado que $H_0$ = 0, nos quedamos con \n",
    "\n",
    "$$Z = \\frac{\\hat{X_1} - \\hat{X_2}}{\\sqrt{\\frac{\\sigma_1^2}{n_1} + \\frac{\\sigma_2^2}{n_2}}}$$\n",
    "\n",
    "\n",
    "\n",
    "\n",
    "\n",
    "Ejemplo: Comparando la altura promedio entre dos ciudades:\n",
    "- Ciudad A: Media 172 cm, n=40, σ=6.\n",
    "- Ciudad B: Media 169 cm, n=35, σ=5.\n",
    "\n",
    "$H_0$ la diferencia entre las dos ciudades no es significativa\n"
   ]
  },
  {
   "cell_type": "code",
   "execution_count": null,
   "id": "56b0f770-161a-450f-92fa-9c4b490129b3",
   "metadata": {},
   "outputs": [],
   "source": []
  },
  {
   "cell_type": "markdown",
   "id": "8d01f425-ff79-4104-a102-c687a69a28b8",
   "metadata": {},
   "source": [
    "Un p-value bajo indica que, bajo la suposición de que $H_0=0$, la probabilidad de oberrvar una diferneica de medias igual o más baja es muy baja. \n",
    "\n",
    "Esto sugiere evidencia en contra de $H_0$, por lo que podríamos rechazarla en favor de la hipotesis alternativa"
   ]
  },
  {
   "cell_type": "markdown",
   "id": "5f47667a-a3cb-41bd-bafc-7e2a9ad0b5aa",
   "metadata": {},
   "source": [
    "### Prueba AB test\n",
    "\n",
    "Tenemos una pagina web donde todos los botones son azules, vamos a hacer el experimento de cambiar a rojo \n",
    "\n",
    "$$Z = \\frac{(\\hat{P_A} - \\hat{P_B})}{\\sqrt{\\frac{2p(1-p)}{N}}}$$\n",
    "\n",
    "- Grupo A (control): recibe la versión original (botón azul).\n",
    "- Grupo B (tratamiento): recibe la versión nueva (botón rojo).\n",
    "\n",
    "\n",
    "Ojo, aquí también estamos asumiendo que $H_0$ es 0 \n",
    "$$Z = \\frac{(\\hat{P_A} - \\hat{P_B})- H_0}{\\sqrt{\\frac{2p(1-p)}{N}}}$$\n",
    "\n",
    "Es decir, también obrenemos la probabilidad de que ambas son de la misma distribución (no hay un valor externo que haga el ajuste $H_0$)\n",
    "\n",
    "\n",
    "Ejemplo\n",
    "Grupo A: $P_A$ = 10% (500 de 5000)\n",
    "Grupo B: $P_B$ = 12% (600/5000)\n",
    "\n",
    "Diferencia = 2% = 0.02\n",
    "\n",
    "Proporción cominada\n",
    "$$p = \\frac{P_A + P_B}{2}$$\n",
    "\n",
    "Error estandard\n",
    "\n",
    "$$SE = \\sqrt{\\frac{2p(1-p)}{N}}$$\n"
   ]
  },
  {
   "cell_type": "code",
   "execution_count": null,
   "id": "ec54d0d6-1c61-4d04-ad5f-544ae89cdf79",
   "metadata": {},
   "outputs": [],
   "source": []
  },
  {
   "cell_type": "code",
   "execution_count": null,
   "id": "4a9103b3-44e3-46fa-b1f6-91774127ff7e",
   "metadata": {},
   "outputs": [],
   "source": []
  },
  {
   "cell_type": "markdown",
   "id": "72ec0b2a-6791-4b63-8dae-a80a99a7c7f3",
   "metadata": {},
   "source": [
    "### Análisis de poder: ¿Cuantos datos necesito en un AB test para confiar en mis resultados?\n",
    "\n",
    "Caso conversión\n",
    "\n",
    "_Una empresa de redes sociales cambia todos sus botones de azul a rojo_\n",
    "\n",
    "\n",
    "\n",
    "- $H_0$ (Hipótesis nula): No hay diferencia en la tasa de conversión entre el botón azul (control) y el botón rojo (tratamiento).\n",
    "- $H_A$ (Hipótesis alternativa): La tasa de conversión es diferente (mayor o menor) con el botón rojo.\n",
    "\n",
    "### Error tipo I $\\alpha$\n",
    "\n",
    "Falso positivo: rechazamos $H_0$ cuando en realidad es verdadera\n",
    "\n",
    "Caso AB test:\n",
    "- Hacemos la prueba y encontramos que el botón rojo tiene una conversión aparentemente mayor que el azul\n",
    "- Decidimos cambiar todos los botones a rojo\n",
    "- En realidad no hay diferencia real, solo fue azar de los datos\n",
    "\n",
    "Consecuencia:\n",
    "\n",
    "Se ha tomado una decisión incorrecta en base a ruido estadístico y se pierde dinero\n",
    "\n",
    "### Error tipo II ($\\beta$)\n",
    "\n",
    "Falso negativo: No rechazamos $H_0$ cuando en realidad $H_A$ es la verdadera\n",
    "\n",
    "Caso en el AB test\n",
    "- Hacemos la prueba y no encontramos una diferencia estadísticamente singificativa entre el botón rojo y azul\n",
    "- Concluimos que no hay afectación y nos quedamos con el azul ... pero en realidad el botón rojo si amenta la conversión \n",
    "\n",
    "Consecuencia: no hacemos el cambio necesario y se pierde dinero\n",
    "\n",
    "| Tipo de Error | Decisión Tomada  | Realidad         | Consecuencia |\n",
    "|--------------|-----------------|-----------------|--------------|\n",
    "| **Tipo I $\\alpha$** | Cambiamos a rojo | No había diferencia | Cambio innecesario, pérdida de recursos |\n",
    "| **Tipo II $\\beta$** | No cambiamos a rojo | Rojo era mejor | Perdemos una oportunidad de mejora |\n",
    "\n"
   ]
  },
  {
   "cell_type": "markdown",
   "id": "a75d9f1f-cbee-4829-a2de-91b1e0ae2121",
   "metadata": {},
   "source": [
    "### Power Analysis (Análisis de Potencia)\n",
    "El power analysis es una técnica estadística utilizada para determinar el tamaño de muestra (N) necesario para detectar un efecto de interés con una probabilidad específica. También se puede usar para calcular la potencia de una prueba dada una muestra y un tamaño de efecto.\n",
    "\n",
    "En términos simples, nos ayuda a responder preguntas como:\n",
    "\n",
    "- ¿Cuántas observaciones necesito para detectar un efecto real con alta probabilidad?\n",
    "- ¿Qué tan probable es que mi estudio detecte un efecto real si realmente existe?\n",
    "\n",
    "### Elementos clave\n",
    "- Potencia : (1 - $\\beta$) Es la probabilidad de rechazar $H_0$ cuando $H_A$ es negativa (Error tipo II). Usualmente queremos tener $\\beta$ en 80%\n",
    "- Nivel de significancia: $\\alpha$ Es la probabilidad de rechazar $H_0$ cuando $H_0$ es verdadera (error tipo I)"
   ]
  },
  {
   "cell_type": "markdown",
   "id": "881f1d28-cbe1-4a86-bf8a-0d39e2c5e20d",
   "metadata": {},
   "source": [
    "# **Cálculo del Tamaño de Muestra \\( N \\) en un A/B Test**\n",
    "\n",
    "En un **A/B test**, queremos determinar cuántos usuarios necesitamos en cada grupo (control y tratamiento) para detectar si un cambio (por ejemplo, el color de un botón) **afecta la tasa de conversión** con alta probabilidad.\n",
    "\n",
    "\n",
    "## **Paso 1: Definir las hipótesis**\n",
    "- **$H_0$ (Hipótesis nula):** No hay diferencia en la tasa de conversión entre A y B.\n",
    "- **$H_A$ (Hipótesis alternativa):** Sí hay una diferencia en la tasa de conversión.\n",
    "\n",
    "Queremos asegurarnos de que si **existe una diferencia real**, podamos detectarla con **alta probabilidad (potencia estadística)** y sin rechazar $H_0$ por error.\n",
    "\n",
    "---\n",
    "\n",
    "## **Paso 2: Fórmula del tamaño de muestra \\( N \\)**\n",
    "\n",
    "Recordando\n",
    "$$Z = \\frac{\\text{Estadistico observado - Valor esperado}}{\\text{Desviación estandard del estadístico}}$$\n",
    "\n",
    "Estadístico observado = \n",
    "\n",
    "\n",
    "El estadístico de prueba en un A/B test para diferencia de proporciones se basa en:\n",
    "\n",
    "$$\n",
    "Z = \\frac{\\hat{p}_A - \\hat{p}_B}{\\sqrt{\\frac{2p(1-p)}{N}}}\n",
    "$$\n",
    "\n",
    "\n",
    "donde:\n",
    "- $\\hat{p}_A$ y $\\hat{p}_B$ son las tasas de conversión observadas en cada grupo.\n",
    "- $p$ es la tasa de conversión promedio $p = \\frac{p_A + p_B}{2}$.\n",
    "- $N$ es el número de usuarios en cada grupo.\n",
    "\n",
    "Para asegurar que detectemos una diferencia real $\\Delta = p_B - p_A$, la potencia del test debe cumplir:\n",
    "\n",
    "$$\n",
    "Z_{\\alpha/2} + Z_{\\beta} = \\frac{\\Delta}{\\sqrt{\\frac{2p(1-p)}{N}}}\n",
    "$$\n",
    "\n",
    "Despejando N:\n",
    "\n",
    "$$\n",
    "N = \\frac{(Z_{\\alpha/2} + Z_{\\beta})^2 \\cdot 2p(1-p)}{\\Delta^2}\n",
    "$$\n",
    "\n",
    "donde:\n",
    "- **$Z_{\\alpha/2}$** es el umbral para rechazar $H_0$ (ej. 1.96 para $\\alpha = 0.05$.\n",
    "- **$Z_{\\beta}$** se elige según la potencia deseada (ej. 0.84 para 80% de potencia).\n",
    "- **$p(1-p)$** es la varianza de la tasa de conversión.\n",
    "- **$\\Delta$** es la diferencia esperada entre A y B.\n",
    "\n",
    "\n",
    "## **Paso 3: Ejemplo Numérico**\n",
    "Supongamos:\n",
    "- $p_A = 0.10$ (10% de conversión con el botón azul).\n",
    "- $p_B = 0.12$ (12% de conversión con el botón rojo).\n",
    "- $\\alpha = 0.05$ (Z = 1.96).\n",
    "- $\\beta = 0.2$ (Z = 0.84).\n",
    "- $\\Delta = 0.02$ (diferencia de tasas).\n",
    "\n",
    "N = sms.proportion_effectsize(p_A, p_B)  # Efecto\n",
    "\n",
    "sample_size = sms.NormalIndPower().solve_power(effect_size=N, alpha=0.05, power=0.8, ratio=1)\n",
    "\n"
   ]
  },
  {
   "cell_type": "code",
   "execution_count": null,
   "id": "43b7a1b4-434c-47ee-b3ce-255252bb8b31",
   "metadata": {},
   "outputs": [],
   "source": []
  },
  {
   "cell_type": "code",
   "execution_count": 9,
   "id": "603d5bf4-cbed-429b-aca0-acec3ab063a9",
   "metadata": {},
   "outputs": [
    {
     "data": {
      "text/plain": [
       "3834.5957398840183"
      ]
     },
     "execution_count": 9,
     "metadata": {},
     "output_type": "execute_result"
    }
   ],
   "source": [
    "import statsmodels.stats.api as sms\n",
    "\n",
    "# Cálculo del tamaño de muestra\n",
    "N = sms.proportion_effectsize(p_A, p_B)  # Efecto\n",
    "sample_size = sms.NormalIndPower().solve_power(effect_size=N, alpha=0.05, power=0.8, ratio=1)\n",
    "sample_size"
   ]
  },
  {
   "cell_type": "code",
   "execution_count": null,
   "id": "e91cab1b-9e87-4cf8-8ced-3ebafe11b8a4",
   "metadata": {},
   "outputs": [],
   "source": []
  },
  {
   "cell_type": "code",
   "execution_count": null,
   "id": "442cc82e-dd95-413d-8af8-b202385c1eaa",
   "metadata": {},
   "outputs": [],
   "source": []
  },
  {
   "cell_type": "code",
   "execution_count": null,
   "id": "fb1db140-f666-43ad-a7f9-7fe3770b1475",
   "metadata": {},
   "outputs": [],
   "source": []
  },
  {
   "cell_type": "code",
   "execution_count": null,
   "id": "ed5fc418-a0f9-4665-aaf3-c3693fa4c6c9",
   "metadata": {},
   "outputs": [],
   "source": []
  },
  {
   "cell_type": "code",
   "execution_count": null,
   "id": "942d5c8d-1cb0-4149-8527-50c529dbf4b0",
   "metadata": {},
   "outputs": [],
   "source": []
  }
 ],
 "metadata": {
  "kernelspec": {
   "display_name": "Python 3 (ipykernel)",
   "language": "python",
   "name": "python3"
  },
  "language_info": {
   "codemirror_mode": {
    "name": "ipython",
    "version": 3
   },
   "file_extension": ".py",
   "mimetype": "text/x-python",
   "name": "python",
   "nbconvert_exporter": "python",
   "pygments_lexer": "ipython3",
   "version": "3.10.16"
  }
 },
 "nbformat": 4,
 "nbformat_minor": 5
}

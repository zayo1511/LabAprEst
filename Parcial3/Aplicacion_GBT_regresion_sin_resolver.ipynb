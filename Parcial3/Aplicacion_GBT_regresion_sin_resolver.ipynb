{
 "cells": [
  {
   "cell_type": "code",
   "execution_count": 16,
   "id": "837460a6-363d-41f9-b767-ff55beca706c",
   "metadata": {},
   "outputs": [],
   "source": [
    "import pandas as pd \n",
    "import numpy as np\n",
    "import matplotlib.pyplot as plt\n",
    "from sklearn.model_selection import train_test_split\n",
    "from sklearn.metrics import r2_score"
   ]
  },
  {
   "cell_type": "markdown",
   "id": "fdae6bb8-265f-4baf-8070-69edfb72df6b",
   "metadata": {},
   "source": [
    "Cargar y limpiar datos"
   ]
  },
  {
   "cell_type": "code",
   "execution_count": 18,
   "id": "9b3468f9-1636-4d8c-b131-4dcc38f82e93",
   "metadata": {},
   "outputs": [],
   "source": [
    "housing = pd.read_csv('housing.csv')\n",
    "housing = pd.get_dummies(housing, drop_first=True)\n",
    "housing['total_bedrooms'] = housing['total_bedrooms'].fillna(housing['total_bedrooms'].mean())\n",
    "target = 'median_house_value'\n",
    "X = housing.copy().drop(target, axis=1)\n",
    "y = housing[target]\n",
    "\n",
    "X_train, X_test, y_train, y_test = train_test_split(\n",
    "    X, y, test_size=0.2, random_state=42\n",
    ")"
   ]
  },
  {
   "cell_type": "code",
   "execution_count": 1,
   "id": "5a97a36c-7253-4c47-81e0-f188ef93cbc5",
   "metadata": {},
   "outputs": [],
   "source": [
    "# Ejempolo gradient boosting\n"
   ]
  },
  {
   "cell_type": "code",
   "execution_count": 2,
   "id": "f2005389-4c31-4ff7-a74a-6211d9f27526",
   "metadata": {},
   "outputs": [],
   "source": [
    "## Cross validation \n"
   ]
  },
  {
   "cell_type": "markdown",
   "id": "5e0e5ee5-61a0-4560-8e12-9dc3c2f6a37a",
   "metadata": {},
   "source": [
    "grid_gbt.best_estimator_.named_steps['gbt']"
   ]
  },
  {
   "cell_type": "code",
   "execution_count": 3,
   "id": "111832b5-84e2-4bd9-a6e5-d480d9f9c15e",
   "metadata": {},
   "outputs": [],
   "source": [
    "# Mejor estimador\n"
   ]
  },
  {
   "cell_type": "code",
   "execution_count": 4,
   "id": "218a2fad-52da-4e24-936d-bfe82d792cd9",
   "metadata": {},
   "outputs": [],
   "source": [
    "# r2 score\n"
   ]
  },
  {
   "cell_type": "code",
   "execution_count": 5,
   "id": "ee90728a-3d36-451a-98d8-33cc9536c185",
   "metadata": {},
   "outputs": [],
   "source": [
    "## Calibracion\n"
   ]
  },
  {
   "cell_type": "code",
   "execution_count": 6,
   "id": "640360a3-9bb9-43b1-a53c-035287c13ba6",
   "metadata": {},
   "outputs": [],
   "source": [
    "# Entendiendo el modelo \n"
   ]
  },
  {
   "cell_type": "markdown",
   "id": "0f26e197-ecfc-4e68-91fd-2b05167643f6",
   "metadata": {},
   "source": [
    "    PartialDependenceDisplay.from_estimator(\n",
    "        best_grid_gbt,\n",
    "        X_train,\n",
    "        [i],\n",
    "        feature_names=X_train.columns\n",
    "    )"
   ]
  },
  {
   "cell_type": "code",
   "execution_count": 7,
   "id": "a44c4707-f7b8-4828-bf31-2b1c87a09d06",
   "metadata": {},
   "outputs": [],
   "source": [
    "# Codigo for para partial dependence plot \n"
   ]
  },
  {
   "cell_type": "code",
   "execution_count": null,
   "id": "5e5a5427-c0af-4399-a8ed-1d3773173474",
   "metadata": {},
   "outputs": [],
   "source": []
  }
 ],
 "metadata": {
  "kernelspec": {
   "display_name": "Python 3 (ipykernel)",
   "language": "python",
   "name": "python3"
  },
  "language_info": {
   "codemirror_mode": {
    "name": "ipython",
    "version": 3
   },
   "file_extension": ".py",
   "mimetype": "text/x-python",
   "name": "python",
   "nbconvert_exporter": "python",
   "pygments_lexer": "ipython3",
   "version": "3.10.16"
  }
 },
 "nbformat": 4,
 "nbformat_minor": 5
}

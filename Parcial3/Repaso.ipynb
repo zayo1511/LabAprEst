{
 "cells": [
  {
   "cell_type": "markdown",
   "metadata": {},
   "source": [
    "# Arbol de decisión\n",
    "\n",
    "Un árbol de decisión es un modelo de predicción, el cual utiliza distinos niveles de clasificación de datos con base en cierto valor (umbral). Divide los datos en grupos que sobrepasan o no ese umbral.\n",
    "\n",
    "## Regresión\n",
    "\n",
    "Este modelo utiliza todas las varibles y splits posibles, donde finalmente aplica el tipo de split con mayor reducción de varianza, con base en el error cuadrático medio.\n",
    "\n",
    "$$\\text{Reducción de varianza} = \\text{Varianza total} - \\left( \\frac{N_1}{N} \\times \\text{Var}(G1) + \\frac{N_2}{N} \\times \\text{Var}(G2) \\right)$$\n",
    "\n",
    "## Clasificación\n",
    "\n",
    "De manera similar a la regresión, el calsificador utiliza todas las variables y umbrales posibles, eligiendo en este caso el umbral que maximice la impureza, con base en Gini o entropía. \n",
    "\n",
    "$$\\text{Ganancia de Impureza} = \\text{Impureza Nodo Padre} - \\left( \\frac{N_1}{N} \\times \\text{Impureza}(G1) + \\frac{N_2}{N} \\times \\text{Impureza}(G2) \\right)$$\n"
   ]
  },
  {
   "cell_type": "markdown",
   "metadata": {},
   "source": [
    "# Random Forest\n",
    "\n",
    "## Regresión\n",
    "\n",
    "Utilizando bootstrap se hacen muestreos aleatorios sobre tus datos, con los cuales se entrena el modelo y se relaiza la predicción. Al final, cuando se tienen todas las predicciones, se calcula la media de esas predicciones, la cual es la predicción del random forest.\n",
    "\n",
    "## Clasificación\n",
    "\n",
    "En el modelo clasificador, en lugar de calcular la media de todas las predicciones, se utiliza la categoría que más repite (modal)."
   ]
  },
  {
   "cell_type": "markdown",
   "metadata": {},
   "source": [
    "# Gradient boosting\n",
    "\n",
    "Es un método que combina varios modelos \"débiles\" como los árboles de decisión, de modo que genera una predicción inicial y calcula error de la misma, para despues crear un modelo que trate de predecir este error, de modod que logre diminuirlo. Esto se repite iterativamente con un factor de aprendizaje hasta covnverger, muy parecido al decenso en gradiente. \n",
    "\n",
    "La predicción del árbol anterior es el promedio de los valores obtenidos por hoja. La diferencia entre el regresor y el clasificador es que en el clasificador usa los log-odds para predecir."
   ]
  },
  {
   "cell_type": "markdown",
   "metadata": {},
   "source": [
    "# Light GBM\n",
    "\n"
   ]
  },
  {
   "cell_type": "markdown",
   "metadata": {},
   "source": [
    "# Catboost\n",
    "\n"
   ]
  },
  {
   "cell_type": "markdown",
   "metadata": {},
   "source": [
    "# XGBoost\n",
    "\n",
    "Es un modelo que consiste en sumar un nuevo árbol iterativamente a la predicción que ya se tiene.\n",
    "\n",
    "$$\\hat{y}_i^{(t)} = \\hat{y}_i^{(t-1)} + f_t(x_i)$$\n",
    "\n",
    "Donde:\n",
    "- $\\hat{y}_i^{(t)}$ es la predicción\n",
    "- $f_t(x_i)$ es el nuevo árbol \n",
    "\n",
    "Con cada una de estas iteraciones su busca minimizar la contribución marginl del nuevo árbol a la pérdida total. Esta función de pérdida consiste de 2 partes: \n",
    "\n",
    "$$\n",
    "\\mathcal{L}^{(t)} =\n",
    "\\underbrace{\n",
    "\\sum_{i=1}^n l(y_i, \\hat{y}_i^{(t-1)}) + \\sum_{k=1}^{t-1} \\Omega(f_k)\n",
    "}_{\\text{Parte ya construida (constante en esta iteración)}} +\n",
    "\\underbrace{\n",
    "\\sum_{i=1}^n \\left[ l(y_i, \\hat{y}_i^{(t-1)} + f_t(x_i)) - l(y_i, \\hat{y}_i^{(t-1)}) \\right] + \\Omega(f_t)\n",
    "}_{\\text{Lo que añade el nuevo árbol $f_t$}}\n",
    "$$\n",
    "\n",
    "donde $\\Omega$ es un factor de regularización que penaliza la complejidad de los árboles.\n",
    "\n",
    "Ya que esta función de pérdida es compleja, se utiliza su expansión de Taylos de grado 2, ya que esta es fácil de optimizar.\n",
    "\n",
    "$$f(x) \\approx f(a) + f'(a)(x - a) + \\frac{1}{2} f''(a)(x - a)^2$$\n",
    "\n",
    "Aplicando el gradiente y hessiano con esta lógica, la función de pérdida queda de la manera:\n",
    "\n",
    "$$\\tilde{\\mathcal{L}}^{(t)} = \\sum_{i=1}^n \\left[ g_i f_t(x_i) + \\frac{1}{2} h_i f_t(x_i)^2 \\right] + \\Omega(f_t)$$\n",
    "\n",
    "Ya que el modelo utiliza áboles de decisión de le agrega la constante $w_j$ a la función de pérdida, de modo que se logre regularizar:\n",
    "\n",
    "$$\n",
    "\\mathcal{L}^{(t)} \\approx \\sum_{j=1}^{T} \\left[\n",
    "G_j w_j + \\frac{1}{2} (H_j + \\lambda) w_j^2\n",
    "\\right] + \\gamma T\n",
    "$$\n",
    "\n",
    "Posteriormente, se minimiza el término por hoja respecto a $w_j$, obteniendo el output value.\n",
    "\n",
    "$$\\text{Output value} = w_j^* = -\\frac{G_j}{H_j + \\lambda}$$\n",
    "\n",
    "Una vez que se tienen estos valores se calcula la mejora que hay en cada hoja por utilizar el óptimo:\n",
    "\n",
    "$$\\text{Similarity Score} = \\frac{G_j^2}{H_j + \\lambda}$$\n",
    "\n",
    "Con base en este valor, se obtine el gain, para determinar si es útil realizar un split. Si el gain es positivo, se realiza el split, si es negativo se detiene.\n",
    "\n",
    "$$\\text{Gain} = \\frac{1}{2} \\left( \\text{Similarity}_\\text{izq} + \\text{Similarity}_\\text{der} - \\text{Similarity}_\\text{padre} \\right) - \\gamma$$\n",
    "\n",
    "Finalmente con el árbol terminado se realiza la predicción final, sumando todos los árboles\n",
    "\n",
    "$$\\hat{y}_i = F_0(x_i) + \\sum_{t=1}^{M} f_t(x_i)$$"
   ]
  },
  {
   "cell_type": "markdown",
   "metadata": {},
   "source": [
    "# Comparación de modelos"
   ]
  },
  {
   "cell_type": "markdown",
   "metadata": {},
   "source": [
    "| Característica              | **XGBoost**                                                | **LightGBM**                                               | **CatBoost**                                                  |\n",
    "|-----------------------------|------------------------------------------------------------|-------------------------------------------------------------|----------------------------------------------------------------|\n",
    "| **Velocidad**               | Rápido, pero más lento que LightGBM y CatBoost             | 🔥 Muy rápido gracias a histogramas y leaf-wise growth      | Rápido, aunque un poco más lento que LightGBM                  |\n",
    "| **Precisión**               | Alta                                                       | Alta, a veces mejor con buen tuning                         | Muy alta, especialmente con categóricas                        |\n",
    "| **Variables categóricas**   | ❌ No las maneja (requiere encoding manual)                | ❌ No las maneja (requiere encoding manual)                 | ✅ Soporte nativo + regularización secuencial                  |\n",
    "| **Uso de memoria**          | Moderado                                                   | ✅ Muy eficiente (binning)                                   | Similar a XGBoost                                              |\n",
    "| **Manejo de missing values**| ✅ Automático                                               | ✅ Automático                                                | ✅ Automático                                                   |\n",
    "| **Soporte GPU**             | ✅ Sí (bastante estable)                                   | ✅ Sí (muy rápido)                                           | ✅ Sí (algo más limitado)                                      |\n",
    "| **Instalación**             | Fácil (`pip install xgboost`)                             | Fácil (`pip install lightgbm`)                              | Un poco más pesada (`pip install catboost`)                   |\n",
    "| **Documentación**           | Excelente                                                  | Buena                                                       | Muy buena                                                     |\n",
    "| **Interacción con sklearn** | Muy buena                                                  | Muy buena                                                   | Muy buena                                                     |\n",
    "| **Tolerancia al orden**     | ✅ Neutral                                                  | ✅ Neutral                                                   | ⚠️ Sensible (por codificación secuencial)                      |\n",
    "\n",
    "Cuando usar cada modelo:\n",
    "\n",
    "| Situación                                                  | Recomendación                                      |\n",
    "|------------------------------------------------------------|----------------------------------------------------|\n",
    "| Dataset tabular pequeño o mediano                          | ✅ XGBoost o CatBoost                               |\n",
    "| Dataset grande, muchas variables numéricas                 | ✅ LightGBM                                         |\n",
    "| Muchas variables categóricas sin preprocesamiento          | ✅ CatBoost (manejo nativo y robusto)              |\n",
    "| Quieres algo robusto y estable con buen soporte            | ✅ XGBoost (muy probado en producción y Kaggle)     |\n",
    "| Entrenamiento rápido con buen desempeño                    | ✅ LightGBM                                         |\n",
    "| Quieres interpretabilidad con SHAP                         | ✅ Cualquiera, pero CatBoost da mejores resultados con categóricas |\n",
    "| Necesitas buen rendimiento sin mucho tuning                | ✅ CatBoost (buenos defaults)                       |\n",
    "| Ya tienes pipeline con OneHot/Target Encoding              | ✅ XGBoost o LightGBM                               |\n",
    "| Tuning automático (Optuna, GridSearchCV, etc.)             | ✅ LightGBM (rápido y convergente)                  |\n",
    "| Producción en sistemas legacy o APIs bien documentadas     | ✅ XGBoost (mayor madurez, más integración)         |\n",
    "| Clasificación multi-label o problemas no estándar          | ✅ XGBoost (soporte más flexible)                   |\n",
    "\n",
    "---\n",
    "\n",
    "- **LightGBM** puede overfittear fácilmente → cuida `num_leaves` y `min_data_in_leaf`.\n",
    "- **CatBoost** funciona muy bien con defaults y sin preprocessing.\n",
    "- **XGBoost** es muy robusto y balanceado, ideal si ya tienes un pipeline con encoding hecho.\n",
    "\n",
    "La estructura del árbol:\n",
    "\n",
    "* XGBoost produce árboles más simétricos y balanceados.\n",
    "\n",
    "* LightGBM produce árboles más profundos y desbalanceados si no se controla.\n",
    "\n",
    "La precisión y riesgo de overfitting:\n",
    "\n",
    "* Leaf-wise (LightGBM) puede encontrar mejores divisiones, pero se sobreajusta más fácil.\n",
    "\n",
    "* Level-wise (XGBoost) es más estable, pero a veces menos preciso."
   ]
  },
  {
   "cell_type": "markdown",
   "metadata": {},
   "source": []
  }
 ],
 "metadata": {
  "kernelspec": {
   "display_name": "base",
   "language": "python",
   "name": "python3"
  },
  "language_info": {
   "name": "python",
   "version": "3.12.7"
  }
 },
 "nbformat": 4,
 "nbformat_minor": 2
}

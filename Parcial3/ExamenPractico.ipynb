{
 "cells": [
  {
   "cell_type": "markdown",
   "metadata": {},
   "source": [
    "# Examen práctico \n",
    "## Parcial 2 Laboratorio de Aprendizaje Estadístico\n",
    "Diego Lozoya Morales | 745345"
   ]
  },
  {
   "cell_type": "markdown",
   "metadata": {},
   "source": [
    "# Paqueterías"
   ]
  },
  {
   "cell_type": "code",
   "execution_count": 1,
   "metadata": {},
   "outputs": [],
   "source": [
    "import numpy as np\n",
    "import pandas as pd\n",
    "import matplotlib.pyplot as plt\n",
    "import seaborn as sns\n",
    "import statsmodels.formula.api as smf\n",
    "from matplotlib.colors import LinearSegmentedColormap\n",
    "from sklearn.model_selection import train_test_split, GridSearchCV, RandomizedSearchCV\n",
    "from sklearn import linear_model\n",
    "from sklearn.metrics import roc_auc_score, roc_curve\n",
    "from sklearn.preprocessing import StandardScaler, PolynomialFeatures\n",
    "from sklearn.pipeline import Pipeline\n",
    "from sklearn import neighbors\n",
    "from sklearn import discriminant_analysis\n",
    "from IPython.display import display\n",
    "from sklearn.neural_network import MLPClassifier\n",
    "\n",
    "import warnings\n",
    "warnings.filterwarnings('ignore')\n",
    "\n",
    "colors = [\"cornflowerblue\", \"indianred\", \"darkseagreen\", \"plum\", \"dimgray\"]"
   ]
  },
  {
   "cell_type": "markdown",
   "metadata": {},
   "source": [
    "# Funciones"
   ]
  },
  {
   "cell_type": "code",
   "execution_count": 2,
   "metadata": {},
   "outputs": [],
   "source": [
    "def vibariado(df, y):\n",
    "    target = y.name\n",
    "    num_vars = len(df.keys().drop(target))\n",
    "    num_rows = (num_vars + 1) // 2 \n",
    "    \n",
    "    fig, axes = plt.subplots(num_rows, 2, figsize=(15, 5 * num_rows))\n",
    "    axes = axes.flatten()\n",
    "    \n",
    "    for idx, i in enumerate(df.keys().drop(target)):\n",
    "        X = df[[i]]\n",
    "        model = linear_model.LinearRegression().fit(X, y)\n",
    "        \n",
    "        q = len(X.iloc[:, 0].unique()) if len(X.iloc[:, 0].unique()) < 5 else 10\n",
    "        df[i + \"_bin\"] = pd.qcut(df[i], q=q, labels=False, duplicates=\"drop\") + 1\n",
    "        grouped = df.groupby(i + \"_bin\").mean()\n",
    "        \n",
    "        ax = axes[idx]\n",
    "        ax.plot(grouped[i].values, grouped[target].values, color=colors[0], marker='o')\n",
    "        ax.set_xlabel(f\"{i} bins\")\n",
    "        ax.set_ylabel(target)\n",
    "        ax.set_title(f\"Análisis bivariado entre {i} y {target}\")\n",
    "        ax.grid()\n",
    "        \n",
    "        df.drop(columns=[i + \"_bin\"], inplace=True)\n",
    "    \n",
    "    plt.tight_layout()\n",
    "    plt.show()\n",
    "\n",
    "def histograma(probabilidades, y_test):\n",
    "     df = pd.DataFrame({\n",
    "     'real': y_test,\n",
    "     'probabilidades': probabilidades\n",
    "     })\n",
    "\n",
    "     plt.figure(figsize=(10, 5))\n",
    "     plt.hist(df[df.real == 1]['probabilidades'], density=True, color=colors[0], alpha=0.5, label = '1')\n",
    "     plt.hist(df[df.real == 0]['probabilidades'], density=True, color=colors[1], alpha=0.5, label = '0')\n",
    "     plt.title(f'Histograma de probabilidades')\n",
    "     plt.xlabel(\"Probabilidad\")\n",
    "     plt.ylabel(\" \")\n",
    "     plt.legend()\n",
    "     plt.show()\n",
    "\n",
    "def calibracion(probabilidades, y_test):\n",
    "    df_calibracion = pd.DataFrame({\n",
    "        'probabilidades':probabilidades,\n",
    "        'y':y_test\n",
    "    })\n",
    "    df_calibracion['bins'] = pd.qcut(df_calibracion['probabilidades'], q=15, labels=False, duplicates='drop')+1\n",
    "    grouped = df_calibracion.groupby('bins').mean()\n",
    "\n",
    "    plt.figure(figsize=(10, 5))\n",
    "    plt.plot(grouped.probabilidades, grouped.y, label=\"Modelo\", marker=\"o\", color=colors[0])\n",
    "    plt.plot(grouped.probabilidades, grouped.probabilidades, label=\"Real\", marker=\"o\", color=colors[1])\n",
    "    plt.xlabel(\"Probabilidad\")\n",
    "    plt.ylabel(\"Real\")\n",
    "    plt.title(\"Calibración\")\n",
    "    plt.grid()\n",
    "    plt.legend()\n",
    "    plt.show()\n",
    "\n",
    "def roc(probabilidades, y_test):\n",
    "     fpr, fnp, scores = roc_curve(y_score=probabilidades, y_true=y_test)\n",
    "     plt.figure(figsize=(10, 5))\n",
    "     plt.plot(fpr, fnp, color=colors[0], lw=2)\n",
    "     plt.plot([0, 1], [0, 1], color=colors[1], linestyle='--', lw=2, label='Clasificador aleatorio')\n",
    "     plt.xlabel('1 - Specificity')\n",
    "     plt.ylabel('Sensitivity')\n",
    "     plt.title('ROC curve')\n",
    "     plt.grid()\n",
    "     plt.legend()\n",
    "     plt.show()\n",
    "\n",
    "def coefficients(var, coef, n_var):\n",
    "    model_coeficients = pd.DataFrame({\n",
    "          'Variable': var,\n",
    "          'Coeficiente': coef\n",
    "    })\n",
    "    model_coeficients = model_coeficients.sort_values(by='Coeficiente', ascending=False).head(n_var)\n",
    "\n",
    "    cmap = LinearSegmentedColormap.from_list(\"custom_coolwarm\", [colors[1], colors[0]])\n",
    "    custom_palette = sns.color_palette([cmap(i) for i in np.linspace(0, 1, len(model_coeficients))])\n",
    "\n",
    "    plt.figure(figsize=(10, 5))\n",
    "    sns.barplot(x=\"Coeficiente\", y=\"Variable\", data=model_coeficients, palette=custom_palette)\n",
    "    for index, value in enumerate(model_coeficients[\"Coeficiente\"]):\n",
    "        plt.text(value + 0.002, index, f\"{value:.4f}\", va=\"center\", fontsize=10)\n",
    "    plt.xlabel('Coeficiente')\n",
    "    plt.xlim(0, max(model_coeficients[\"Coeficiente\"]) + 0.09)\n",
    "    plt.ylabel('Variables')\n",
    "    plt.title(f'{n_var} variables más importantes del modelo')\n",
    "    plt.show()\n",
    "\n",
    "def logistic(X_train, X_test, y_train, y_test):\n",
    "     pipeline = Pipeline([\n",
    "          ('scaler', StandardScaler()),\n",
    "          ('poly', PolynomialFeatures()),\n",
    "          ('logistic', linear_model.LogisticRegression(random_state=42))\n",
    "     ])\n",
    "\n",
    "     params = {\n",
    "          'poly__degree': [1, 2, 3],\n",
    "          'logistic__penalty': ['l1', 'l2', None]\n",
    "     }\n",
    "\n",
    "     log_grid = RandomizedSearchCV(estimator=pipeline, param_distributions=params, cv=5, scoring='roc_auc', n_jobs=-1, n_iter=15, random_state=42)\n",
    "     log_grid.fit(X_train, y_train)\n",
    "     best_pipeline = log_grid.best_estimator_\n",
    "     probabilidades = best_pipeline.predict_proba(X_test)[:, 1]\n",
    "     auc = roc_auc_score(y_score=probabilidades, y_true=y_test)\n",
    "     gini = 2*auc - 1\n",
    "\n",
    "     calibracion(probabilidades, y_test)\n",
    "     roc(probabilidades, y_test)\n",
    "     histograma(probabilidades, y_test)\n",
    "\n",
    "     var = log_grid.best_estimator_.named_steps['poly'].get_feature_names_out(X_train.columns)\n",
    "     coef = log_grid.best_estimator_.named_steps['logistic'].coef_[0]\n",
    "\n",
    "     coefficients(var=var, coef=coef, n_var=5)\n",
    "\n",
    "     return print(f'Mejor modelo: {log_grid.best_params_}\\n\\nAUC: {auc:.4f}\\nGini: {gini:.4f}')\n",
    "\n",
    "def knn(X_train, X_test, y_train, y_test, neighbors_range):\n",
    "     pipeline = Pipeline([\n",
    "     ('scaler', StandardScaler()),\n",
    "     ('logistic', neighbors.KNeighborsClassifier())\n",
    "     ])\n",
    "\n",
    "     params = {\n",
    "          'logistic__n_neighbors': neighbors_range\n",
    "     }\n",
    "\n",
    "     knn_grid = RandomizedSearchCV(estimator=pipeline, param_distributions=params, cv=5, scoring='roc_auc', n_jobs=-1, n_iter=10, random_state=42)\n",
    "     knn_grid.fit(X_train, y_train)\n",
    "     best_pipeline = knn_grid.best_estimator_\n",
    "     probabilidades = best_pipeline.predict_proba(X_test)[:, 1]\n",
    "     auc = roc_auc_score(y_score=probabilidades, y_true=y_test)\n",
    "     gini = 2*auc - 1\n",
    "\n",
    "     calibracion(probabilidades, y_test)\n",
    "     roc(probabilidades, y_test)\n",
    "     histograma(probabilidades, y_test)\n",
    "\n",
    "     nn_opt = knn_grid.best_params_['logistic__n_neighbors']\n",
    "     \n",
    "     return print(f'Mejor Modelo: {knn_grid.best_params_}\\n\\nCon {nn_opt} neighbors:\\n- AUC: {auc:.4f}\\n- Gini: {gini:.4f}')\n",
    "\n",
    "def discriminant(X_train, X_test, y_train, y_test):\n",
    "     pipeline = Pipeline([\n",
    "     ('scaler', StandardScaler()),\n",
    "     ('logistic', discriminant_analysis.LinearDiscriminantAnalysis())\n",
    "     ])\n",
    "\n",
    "     pipeline.fit(X_train, y_train)\n",
    "     probabilidades = pipeline.predict_proba(X_test)[:, 1]\n",
    "     auc = roc_auc_score(y_score=probabilidades, y_true=y_test)\n",
    "     gini = 2*auc - 1\n",
    "\n",
    "     calibracion(probabilidades, y_test)\n",
    "     roc(probabilidades, y_test)\n",
    "     histograma(probabilidades, y_test)\n",
    "\n",
    "     return print(f'AUC: {auc:.4f}\\nGini: {gini:.4f}')\n",
    "\n",
    "def neural_network(X_train, X_test, y_train, y_test):\n",
    "     pipeline = Pipeline([\n",
    "          ('scaler', StandardScaler()),\n",
    "          ('poly', PolynomialFeatures()),\n",
    "          ('nn', MLPClassifier(random_state=42))\n",
    "     ])\n",
    "\n",
    "     params = {\n",
    "          'poly__degree': [1, 2, 3],\n",
    "          'nn__hidden_layer_sizes': [(10,10,10), (10,10), (10,)],\n",
    "          'nn__activation': ['tanh', 'relu', 'logistic'],\n",
    "          'nn__alpha': [0.1, 0.01]\n",
    "     }\n",
    "\n",
    "     grid_nn = GridSearchCV(estimator=pipeline, n_jobs=-1, cv=5, scoring='roc_auc', param_grid=params)\n",
    "     grid_nn.fit(X_train, y_train)\n",
    "     probabilidades = grid_nn.best_estimator_.predict_proba(X_test)[:, 1]\n",
    "     auc = roc_auc_score(y_score=probabilidades, y_true=y_test)\n",
    "     gini = 2*auc - 1\n",
    "\n",
    "     calibracion(probabilidades, y_test)\n",
    "     roc(probabilidades, y_test)\n",
    "     histograma(probabilidades, y_test)\n",
    "\n",
    "     return print(f'Mejor modelo: {grid_nn.best_params_}\\n\\nAUC: {auc:.4f}\\nGini: {gini:.4f}')"
   ]
  },
  {
   "cell_type": "markdown",
   "metadata": {},
   "source": [
    "# Data"
   ]
  },
  {
   "cell_type": "code",
   "execution_count": 3,
   "metadata": {},
   "outputs": [
    {
     "data": {
      "text/html": [
       "<div>\n",
       "<style scoped>\n",
       "    .dataframe tbody tr th:only-of-type {\n",
       "        vertical-align: middle;\n",
       "    }\n",
       "\n",
       "    .dataframe tbody tr th {\n",
       "        vertical-align: top;\n",
       "    }\n",
       "\n",
       "    .dataframe thead th {\n",
       "        text-align: right;\n",
       "    }\n",
       "</style>\n",
       "<table border=\"1\" class=\"dataframe\">\n",
       "  <thead>\n",
       "    <tr style=\"text-align: right;\">\n",
       "      <th></th>\n",
       "      <th>gender</th>\n",
       "      <th>age</th>\n",
       "      <th>hypertension</th>\n",
       "      <th>heart_disease</th>\n",
       "      <th>smoking_history</th>\n",
       "      <th>bmi</th>\n",
       "      <th>diabetes</th>\n",
       "    </tr>\n",
       "  </thead>\n",
       "  <tbody>\n",
       "    <tr>\n",
       "      <th>0</th>\n",
       "      <td>Female</td>\n",
       "      <td>80.0</td>\n",
       "      <td>0</td>\n",
       "      <td>1</td>\n",
       "      <td>never</td>\n",
       "      <td>25.19</td>\n",
       "      <td>0</td>\n",
       "    </tr>\n",
       "    <tr>\n",
       "      <th>1</th>\n",
       "      <td>Female</td>\n",
       "      <td>54.0</td>\n",
       "      <td>0</td>\n",
       "      <td>0</td>\n",
       "      <td>No Info</td>\n",
       "      <td>27.32</td>\n",
       "      <td>0</td>\n",
       "    </tr>\n",
       "    <tr>\n",
       "      <th>2</th>\n",
       "      <td>Male</td>\n",
       "      <td>28.0</td>\n",
       "      <td>0</td>\n",
       "      <td>0</td>\n",
       "      <td>never</td>\n",
       "      <td>27.32</td>\n",
       "      <td>0</td>\n",
       "    </tr>\n",
       "    <tr>\n",
       "      <th>3</th>\n",
       "      <td>Female</td>\n",
       "      <td>36.0</td>\n",
       "      <td>0</td>\n",
       "      <td>0</td>\n",
       "      <td>current</td>\n",
       "      <td>23.45</td>\n",
       "      <td>0</td>\n",
       "    </tr>\n",
       "    <tr>\n",
       "      <th>4</th>\n",
       "      <td>Male</td>\n",
       "      <td>76.0</td>\n",
       "      <td>1</td>\n",
       "      <td>1</td>\n",
       "      <td>current</td>\n",
       "      <td>20.14</td>\n",
       "      <td>0</td>\n",
       "    </tr>\n",
       "  </tbody>\n",
       "</table>\n",
       "</div>"
      ],
      "text/plain": [
       "   gender   age  hypertension  heart_disease smoking_history    bmi  diabetes\n",
       "0  Female  80.0             0              1           never  25.19         0\n",
       "1  Female  54.0             0              0         No Info  27.32         0\n",
       "2    Male  28.0             0              0           never  27.32         0\n",
       "3  Female  36.0             0              0         current  23.45         0\n",
       "4    Male  76.0             1              1         current  20.14         0"
      ]
     },
     "execution_count": 3,
     "metadata": {},
     "output_type": "execute_result"
    }
   ],
   "source": [
    "data = pd.read_csv('Data/diabetes.csv')\n",
    "data.head()"
   ]
  },
  {
   "cell_type": "markdown",
   "metadata": {},
   "source": [
    "## Variable dependiente"
   ]
  },
  {
   "cell_type": "code",
   "execution_count": 4,
   "metadata": {},
   "outputs": [],
   "source": [
    "target = 'diabetes'\n",
    "y = data[target]"
   ]
  },
  {
   "cell_type": "markdown",
   "metadata": {},
   "source": [
    "# Análisis Dataset"
   ]
  },
  {
   "cell_type": "markdown",
   "metadata": {},
   "source": [
    "## Análisis vibariado"
   ]
  },
  {
   "cell_type": "code",
   "execution_count": 5,
   "metadata": {},
   "outputs": [
    {
     "data": {
      "image/png": "[encoded data removed]",
      "text/plain": [
       "<Figure size 1500x500 with 2 Axes>"
      ]
     },
     "metadata": {},
     "output_type": "display_data"
    }
   ],
   "source": [
    "vibariado(data[['age', 'bmi', target]], y)"
   ]
  },
  {
   "cell_type": "markdown",
   "metadata": {},
   "source": [
    "# Feature engineering"
   ]
  },
  {
   "cell_type": "markdown",
   "metadata": {},
   "source": [
    "## Dummies"
   ]
  },
  {
   "cell_type": "code",
   "execution_count": 6,
   "metadata": {},
   "outputs": [],
   "source": []
  },
  {
   "cell_type": "markdown",
   "metadata": {},
   "source": [
    "## Transformaciones"
   ]
  },
  {
   "cell_type": "code",
   "execution_count": 7,
   "metadata": {},
   "outputs": [],
   "source": []
  },
  {
   "cell_type": "markdown",
   "metadata": {},
   "source": [
    "## Nuevas variables"
   ]
  },
  {
   "cell_type": "code",
   "execution_count": 8,
   "metadata": {},
   "outputs": [],
   "source": []
  },
  {
   "cell_type": "markdown",
   "metadata": {},
   "source": [
    "# Preparación de datos"
   ]
  },
  {
   "cell_type": "markdown",
   "metadata": {},
   "source": [
    "## Cross validation"
   ]
  },
  {
   "cell_type": "code",
   "execution_count": 9,
   "metadata": {},
   "outputs": [],
   "source": [
    "X = data.copy().drop(target, axis=1)\n",
    "\n",
    "X_train, X_test, y_train, y_test = train_test_split(X, y, test_size=0.2, random_state=42)"
   ]
  },
  {
   "cell_type": "markdown",
   "metadata": {},
   "source": [
    "# "
   ]
  },
  {
   "cell_type": "markdown",
   "metadata": {},
   "source": [
    "# Conlusiones generales"
   ]
  },
  {
   "cell_type": "markdown",
   "metadata": {},
   "source": []
  },
  {
   "cell_type": "markdown",
   "metadata": {},
   "source": []
  }
 ],
 "metadata": {
  "kernelspec": {
   "display_name": "base",
   "language": "python",
   "name": "python3"
  },
  "language_info": {
   "codemirror_mode": {
    "name": "ipython",
    "version": 3
   },
   "file_extension": ".py",
   "mimetype": "text/x-python",
   "name": "python",
   "nbconvert_exporter": "python",
   "pygments_lexer": "ipython3",
   "version": "3.12.7"
  }
 },
 "nbformat": 4,
 "nbformat_minor": 2
}

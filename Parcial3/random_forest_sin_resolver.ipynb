{
 "cells": [
  {
   "cell_type": "markdown",
   "id": "42aaea35-9be2-4a16-94b8-a95b578193da",
   "metadata": {},
   "source": [
    "## Random forest"
   ]
  },
  {
   "cell_type": "code",
   "execution_count": 144,
   "id": "84e86e9d-f445-4bf8-8a52-8da93889c681",
   "metadata": {},
   "outputs": [],
   "source": [
    "import pandas as pd \n",
    "import matplotlib.pyplot as plt\n",
    "from sklearn.model_selection import train_test_split\n",
    "from sklearn.tree import DecisionTreeRegressor, plot_tree\n",
    "import numpy as np\n",
    "\n",
    "housing = pd.read_csv('housing.csv')\n",
    "\n",
    "housing = pd.get_dummies(housing, drop_first=True)\n",
    "target = 'median_house_value'\n",
    "X = housing.copy().drop(target, axis=1)\n",
    "y = housing[target]\n"
   ]
  },
  {
   "cell_type": "markdown",
   "id": "af113b1b-af52-41d2-a90a-438b5b4448af",
   "metadata": {},
   "source": [
    "### Concepto total de variables\n",
    "\n",
    "Árbol normal"
   ]
  },
  {
   "cell_type": "code",
   "execution_count": 4,
   "id": "f9184d52-5f47-40f6-843e-9363518e855e",
   "metadata": {},
   "outputs": [],
   "source": [
    "# Train model    \n",
    "model = DecisionTreeRegressor(max_depth=3, random_state=42, \n",
    "                                  max_features='sqrt')\n",
    "model.fit(X, y)\n",
    "\n",
    "plt.figure(figsize=(20, 10)) \n",
    "plot_tree(model, feature_names=X_train.keys(), filled=True, rounded=True)\n",
    "plt.title(\"Árbol de Decisión para Predicción del Valor de la Vivienda\")\n",
    "plt.show()"
   ]
  },
  {
   "cell_type": "markdown",
   "id": "552177c4-dfbe-4809-ab68-e31c2fd25f1f",
   "metadata": {},
   "source": [
    "### Maximo 3 features"
   ]
  },
  {
   "cell_type": "code",
   "execution_count": 1,
   "id": "853e1f04-83c3-4f46-9169-be9e2dbc8424",
   "metadata": {},
   "outputs": [],
   "source": [
    "# Crear y entrenar el modelo de árbol de decisión\n"
   ]
  },
  {
   "cell_type": "markdown",
   "id": "86afda5f-0a69-4467-92ce-5af2b67117cd",
   "metadata": {},
   "source": [
    "### Maximo 2 features\n"
   ]
  },
  {
   "cell_type": "code",
   "execution_count": 5,
   "id": "1fbf88db-3ec2-4138-8b38-6222afe758ef",
   "metadata": {},
   "outputs": [],
   "source": [
    "# Crear y entrenar el modelo de árbol de decisión\n"
   ]
  },
  {
   "cell_type": "code",
   "execution_count": 6,
   "id": "85f1a9e9-36bc-4121-93b0-e62e475496e7",
   "metadata": {},
   "outputs": [],
   "source": [
    "# Random int\n"
   ]
  },
  {
   "cell_type": "markdown",
   "id": "71aac339-e1e6-4f6e-8b39-049a4a2134e9",
   "metadata": {},
   "source": [
    "### Bootstrap tree"
   ]
  },
  {
   "cell_type": "code",
   "execution_count": 7,
   "id": "821909b3-05cf-47f6-ae3b-1cd2e50e5259",
   "metadata": {},
   "outputs": [],
   "source": [
    "# Crea un bootrap tree, cambia el random_state\n"
   ]
  },
  {
   "cell_type": "markdown",
   "id": "c60feb4a-2f1e-4961-b610-c291be5369ab",
   "metadata": {},
   "source": [
    "### Crea un bosque "
   ]
  },
  {
   "cell_type": "code",
   "execution_count": 8,
   "id": "038c12a3-e646-4d98-a7ce-68e29d29efc5",
   "metadata": {},
   "outputs": [],
   "source": [
    "# X train y test\n",
    "# Dividir en entrenamiento y prueba\n"
   ]
  },
  {
   "cell_type": "code",
   "execution_count": null,
   "id": "a4ad6b3e-7321-4b55-ad53-781f9c7582e8",
   "metadata": {},
   "outputs": [],
   "source": []
  },
  {
   "cell_type": "code",
   "execution_count": null,
   "id": "031da44b-ac5e-4ed1-b860-9a265132bebc",
   "metadata": {},
   "outputs": [],
   "source": []
  },
  {
   "cell_type": "markdown",
   "id": "33924531-1908-4e61-a57f-c4e41b64e7f5",
   "metadata": {},
   "source": [
    "### Usando Sklearn"
   ]
  },
  {
   "cell_type": "code",
   "execution_count": 192,
   "id": "f151274c-fe8f-46d8-bdf5-3adef1057d30",
   "metadata": {},
   "outputs": [],
   "source": [
    "from sklearn.ensemble import RandomForestRegressor\n",
    "\n",
    "housing = pd.read_csv('housing.csv')\n",
    "housing = housing.fillna(-1)\n",
    "housing = pd.get_dummies(housing, drop_first=True)\n",
    "target = 'median_house_value'\n",
    "X = housing.copy().drop(target, axis=1)\n",
    "y = housing[target]\n",
    "\n",
    "X_train, X_test, y_train, y_test = train_test_split(\n",
    "    X, y, test_size=0.2, random_state=42\n",
    ")"
   ]
  },
  {
   "cell_type": "code",
   "execution_count": 193,
   "id": "22fb7e16-282e-4127-a2f6-cbb355b3242c",
   "metadata": {},
   "outputs": [],
   "source": [
    "from sklearn.model_selection import GridSearchCV\n",
    "from sklearn.pipeline import Pipeline"
   ]
  },
  {
   "cell_type": "code",
   "execution_count": 9,
   "id": "513a795c-46fe-49e7-a329-ec6a025ddf3b",
   "metadata": {},
   "outputs": [],
   "source": [
    "# Grid search \n"
   ]
  },
  {
   "cell_type": "code",
   "execution_count": null,
   "id": "44af7c69-de0d-4812-bf73-e4f399c2c6aa",
   "metadata": {},
   "outputs": [],
   "source": []
  },
  {
   "cell_type": "code",
   "execution_count": null,
   "id": "3e9c911f-ccb6-400c-9d2c-92e37f326cbb",
   "metadata": {},
   "outputs": [],
   "source": []
  },
  {
   "cell_type": "code",
   "execution_count": null,
   "id": "17d6eb6d-e62d-491b-a68a-ffae90aff951",
   "metadata": {},
   "outputs": [],
   "source": []
  },
  {
   "cell_type": "code",
   "execution_count": null,
   "id": "7681c915-4889-4405-b9b0-1589a22bd866",
   "metadata": {},
   "outputs": [],
   "source": []
  },
  {
   "cell_type": "code",
   "execution_count": 10,
   "id": "36ba65ab-a2c1-4c1b-996c-453ab50e7c75",
   "metadata": {},
   "outputs": [],
   "source": [
    "# Comparar con regresion lineal \n"
   ]
  },
  {
   "cell_type": "markdown",
   "id": "9b060532-bd92-4bd7-9dff-1debb86a6c91",
   "metadata": {},
   "source": [
    "# Interpretacion del modelo"
   ]
  },
  {
   "cell_type": "code",
   "execution_count": null,
   "id": "3835fdbd-5b28-496a-9f2c-f81e5b27a8e6",
   "metadata": {},
   "outputs": [],
   "source": []
  },
  {
   "cell_type": "markdown",
   "id": "58a50a64-ff5f-40e6-9a8d-10b798a09b04",
   "metadata": {},
   "source": [
    "## Partial dependence plot\n",
    "\n",
    "\n",
    "Un Partial Dependence Plot (PDP) muestra la relación entre una o más características y la predicción de un modelo, manteniendo las demás variables fijas. Es útil para entender cómo un modelo como un Random Forest toma decisiones.\n",
    "\n",
    "fig, ax = plt.subplots(figsize=(8, 5))\n",
    "\n",
    "PartialDependenceDisplay.from_estimator(best_forest, X_train, [7], ax=ax, feature_names=X_train.keys())\n"
   ]
  },
  {
   "cell_type": "code",
   "execution_count": 11,
   "id": "c379a20e-9c89-4f97-91a7-d763a73d4c0d",
   "metadata": {},
   "outputs": [],
   "source": [
    "from sklearn.inspection import partial_dependence, PartialDependenceDisplay\n"
   ]
  },
  {
   "cell_type": "code",
   "execution_count": null,
   "id": "0a24e109-afd3-48f5-b9dc-95b86c869095",
   "metadata": {},
   "outputs": [],
   "source": []
  },
  {
   "cell_type": "markdown",
   "id": "a6f4ce3f-d0d6-44ca-ba10-0d087dd6f162",
   "metadata": {},
   "source": [
    "### Partial dependence 3D\n",
    "PartialDependenceDisplay.from_estimator(best_forest, X_train, [(0, 1)], ax=ax, feature_names=X_train.keys())"
   ]
  },
  {
   "cell_type": "code",
   "execution_count": null,
   "id": "597c342d-ef0f-4e98-9155-7c6e0a93945c",
   "metadata": {},
   "outputs": [],
   "source": []
  },
  {
   "cell_type": "code",
   "execution_count": null,
   "id": "c7ddf413-eaa0-440f-a762-d8e01c676410",
   "metadata": {},
   "outputs": [],
   "source": []
  },
  {
   "cell_type": "code",
   "execution_count": null,
   "id": "c5f9d07d-5f4b-4a9d-9cc1-bc1e50296991",
   "metadata": {},
   "outputs": [],
   "source": []
  }
 ],
 "metadata": {
  "kernelspec": {
   "display_name": "Python 3 (ipykernel)",
   "language": "python",
   "name": "python3"
  },
  "language_info": {
   "codemirror_mode": {
    "name": "ipython",
    "version": 3
   },
   "file_extension": ".py",
   "mimetype": "text/x-python",
   "name": "python",
   "nbconvert_exporter": "python",
   "pygments_lexer": "ipython3",
   "version": "3.10.16"
  }
 },
 "nbformat": 4,
 "nbformat_minor": 5
}

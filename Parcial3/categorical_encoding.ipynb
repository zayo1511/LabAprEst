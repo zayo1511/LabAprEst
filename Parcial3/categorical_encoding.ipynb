{
 "cells": [
  {
   "cell_type": "markdown",
   "id": "4ca9e26b-1d1d-4649-8f82-c7b45ee961d2",
   "metadata": {},
   "source": [
    "### Label encoding \n",
    "\n",
    "Es una codificación ordinal simple: asigna un número entero único a cada categoría."
   ]
  },
  {
   "cell_type": "code",
   "execution_count": 2,
   "id": "b606739e-63ab-4577-9500-2722b99c48d6",
   "metadata": {},
   "outputs": [
    {
     "name": "stdout",
     "output_type": "stream",
     "text": [
      "   color  color_label\n",
      "0   rojo            1\n",
      "1  verde            2\n",
      "2   azul            0\n",
      "3   rojo            1\n",
      "4   azul            0\n"
     ]
    }
   ],
   "source": [
    "import pandas as pd\n",
    "\n",
    "df = pd.DataFrame({\n",
    "    'color': ['rojo', 'verde', 'azul', 'rojo', 'azul']\n",
    "})\n",
    "\n",
    "df['color_label'] = df['color'].astype('category').cat.codes\n",
    "print(df)\n"
   ]
  },
  {
   "cell_type": "markdown",
   "id": "d7ce82bc-748c-4326-9a42-bbe1ea145669",
   "metadata": {},
   "source": [
    "#### Problema\n",
    "Introduce orden artificial: el modelo puede pensar que rojo > verde > azul, lo cual no tiene sentido en variables categóricas nominales.\n",
    "\n"
   ]
  },
  {
   "cell_type": "markdown",
   "id": "ffef7b64-0e23-4316-9135-018f2f52cf7c",
   "metadata": {},
   "source": [
    "### Target encoding\n",
    "Reemplaza cada categoría por el valor promedio del target para esa categoría.\n",
    "\n",
    "\n"
   ]
  },
  {
   "cell_type": "code",
   "execution_count": 3,
   "id": "aef562ad-aa91-48fb-a2a0-e05f5f4635c2",
   "metadata": {},
   "outputs": [
    {
     "data": {
      "text/plain": [
       "color\n",
       "azul     1.0\n",
       "rojo     0.5\n",
       "verde    0.0\n",
       "Name: y, dtype: float64"
      ]
     },
     "execution_count": 3,
     "metadata": {},
     "output_type": "execute_result"
    }
   ],
   "source": [
    "df = pd.DataFrame({\n",
    "    'color': ['rojo', 'verde', 'azul', 'rojo', 'azul'],\n",
    "    'y':     [1,        0,        1,       0,      1]\n",
    "})\n",
    "\n",
    "df.groupby('color')['y'].mean()\n"
   ]
  },
  {
   "cell_type": "markdown",
   "id": "dd991bf4-f0e1-4129-9543-84fe34a30df4",
   "metadata": {},
   "source": [
    "### Problema \n",
    "Puede causar overfitting, especialmente cuando hay pocas observaciones por categoría (ej. categorías raras).\n",
    "\n"
   ]
  },
  {
   "cell_type": "markdown",
   "id": "378581a3-76ff-4b2c-a3f2-306a8291394e",
   "metadata": {},
   "source": [
    "## Aplicando al titanic \n"
   ]
  },
  {
   "cell_type": "code",
   "execution_count": 4,
   "id": "6d2ac043-1d4c-4575-b1e6-9fd32ca56fa8",
   "metadata": {},
   "outputs": [],
   "source": [
    "import pandas as pd\n",
    "from sklearn.model_selection import train_test_split\n",
    "from catboost import CatBoostClassifier, Pool\n",
    "\n",
    "# Cargar Titanic desde seaborn (puede usar también Kaggle)\n",
    "df = pd.read_csv('titanic.csv')\n",
    "# Limpiar un poco\n",
    "df = df[['Survived', 'Sex', 'Embarked']].dropna()\n",
    "\n",
    "# Codificamos solo \"embarked\" para este ejemplo\n",
    "X = df[['Embarked']]\n",
    "y = df['Survived']"
   ]
  },
  {
   "cell_type": "markdown",
   "id": "2741d279-66e4-4047-b7c7-2c1cf29d0388",
   "metadata": {},
   "source": [
    "### Label encoding"
   ]
  },
  {
   "cell_type": "code",
   "execution_count": 5,
   "id": "d2162cb9-6f14-4983-9355-8dd0c6688286",
   "metadata": {},
   "outputs": [
    {
     "data": {
      "text/html": [
       "<div>\n",
       "<style scoped>\n",
       "    .dataframe tbody tr th:only-of-type {\n",
       "        vertical-align: middle;\n",
       "    }\n",
       "\n",
       "    .dataframe tbody tr th {\n",
       "        vertical-align: top;\n",
       "    }\n",
       "\n",
       "    .dataframe thead th {\n",
       "        text-align: right;\n",
       "    }\n",
       "</style>\n",
       "<table border=\"1\" class=\"dataframe\">\n",
       "  <thead>\n",
       "    <tr style=\"text-align: right;\">\n",
       "      <th></th>\n",
       "      <th>Embarked</th>\n",
       "    </tr>\n",
       "  </thead>\n",
       "  <tbody>\n",
       "    <tr>\n",
       "      <th>0</th>\n",
       "      <td>2</td>\n",
       "    </tr>\n",
       "    <tr>\n",
       "      <th>1</th>\n",
       "      <td>0</td>\n",
       "    </tr>\n",
       "    <tr>\n",
       "      <th>2</th>\n",
       "      <td>2</td>\n",
       "    </tr>\n",
       "    <tr>\n",
       "      <th>3</th>\n",
       "      <td>2</td>\n",
       "    </tr>\n",
       "    <tr>\n",
       "      <th>4</th>\n",
       "      <td>2</td>\n",
       "    </tr>\n",
       "  </tbody>\n",
       "</table>\n",
       "</div>"
      ],
      "text/plain": [
       "   Embarked\n",
       "0         2\n",
       "1         0\n",
       "2         2\n",
       "3         2\n",
       "4         2"
      ]
     },
     "execution_count": 5,
     "metadata": {},
     "output_type": "execute_result"
    }
   ],
   "source": [
    "from sklearn.preprocessing import LabelEncoder\n",
    "\n",
    "le = LabelEncoder()\n",
    "X_label = X.copy()\n",
    "X_label['Embarked'] = le.fit_transform(X_label['Embarked'])\n",
    "\n",
    "X_label.head()\n"
   ]
  },
  {
   "cell_type": "markdown",
   "id": "526ae6df-8383-4211-9115-81b9222a6fb4",
   "metadata": {},
   "source": [
    "### Target encoding"
   ]
  },
  {
   "cell_type": "code",
   "execution_count": 6,
   "id": "e14550d7-b8ed-4e1d-969f-56dc590861b2",
   "metadata": {},
   "outputs": [
    {
     "data": {
      "text/html": [
       "<div>\n",
       "<style scoped>\n",
       "    .dataframe tbody tr th:only-of-type {\n",
       "        vertical-align: middle;\n",
       "    }\n",
       "\n",
       "    .dataframe tbody tr th {\n",
       "        vertical-align: top;\n",
       "    }\n",
       "\n",
       "    .dataframe thead th {\n",
       "        text-align: right;\n",
       "    }\n",
       "</style>\n",
       "<table border=\"1\" class=\"dataframe\">\n",
       "  <thead>\n",
       "    <tr style=\"text-align: right;\">\n",
       "      <th></th>\n",
       "      <th>Embarked</th>\n",
       "    </tr>\n",
       "  </thead>\n",
       "  <tbody>\n",
       "    <tr>\n",
       "      <th>0</th>\n",
       "      <td>0.336957</td>\n",
       "    </tr>\n",
       "    <tr>\n",
       "      <th>1</th>\n",
       "      <td>0.553571</td>\n",
       "    </tr>\n",
       "    <tr>\n",
       "      <th>2</th>\n",
       "      <td>0.336957</td>\n",
       "    </tr>\n",
       "    <tr>\n",
       "      <th>3</th>\n",
       "      <td>0.336957</td>\n",
       "    </tr>\n",
       "    <tr>\n",
       "      <th>4</th>\n",
       "      <td>0.336957</td>\n",
       "    </tr>\n",
       "  </tbody>\n",
       "</table>\n",
       "</div>"
      ],
      "text/plain": [
       "   Embarked\n",
       "0  0.336957\n",
       "1  0.553571\n",
       "2  0.336957\n",
       "3  0.336957\n",
       "4  0.336957"
      ]
     },
     "execution_count": 6,
     "metadata": {},
     "output_type": "execute_result"
    }
   ],
   "source": [
    "mean_target = df.groupby('Embarked')['Survived'].mean()\n",
    "X_target = X.copy()\n",
    "X_target['Embarked'] = X_target['Embarked'].map(mean_target)\n",
    "\n",
    "X_target.head()\n"
   ]
  },
  {
   "cell_type": "markdown",
   "id": "44236070-76a2-45af-b05a-1054407120e2",
   "metadata": {},
   "source": [
    "## Catboost encoding\n",
    "\n",
    "#### ¿Cómo CatBoost maneja variables categóricas?\n",
    "\n",
    "CatBoost puede trabajar directamente con variables categóricas **sin necesidad de encoding manual** (como one-hot o label encoding).\n",
    "\n",
    "Esto lo logra utilizando una **forma especial de target encoding regularizado**, diseñada para evitar **overfitting** y **data leakage**.\n",
    "\n",
    "### 1. Orden aleatorio + acumulación (sin usar el target actual)\n",
    "Durante el entrenamiento, CatBoost:\n",
    "\n",
    "- Ordena las filas de forma aleatoria.\n",
    "\n",
    "- Para cada fila, codifica la categoría con el promedio acumulado del target de las observaciones anteriores con esa misma categoría.\n",
    "\n",
    "- Nunca incluye el target de la fila actual en el cálculo →  no hay data leakage.\n",
    "\n",
    "Esto ya funciona como una forma de regularización natural: las primeras apariciones tienen poca información y por lo tanto un encoding más neutro (por ejemplo, cero o el promedio global).\n",
    "\n",
    "### 2. Múltiples permutaciones del dataset\n",
    "CatBoost no hace esto una sola vez, sino que:\n",
    "\n",
    "Genera varias permutaciones aleatorias del dataset.\n",
    "\n",
    "Calcula el encoding acumulado en cada una.\n",
    "\n",
    "Y luego promedia los resultados.\n",
    "\n",
    "_Esto hace el encoding más estable y reduce la varianza_\n",
    "\n",
    "### 3. Regularización tipo bayesiana\n",
    "Además, CatBoost aplica una suavización adicional, similar al smoothing bayesiano:\n",
    "\n",
    "$$ encoding = \\frac{\\sum y  + a * \\mu}{n + a} $$\n",
    "\n",
    "Donde:\n",
    "\n",
    "- ∑y = suma de los targets anteriores para esa categoría\n",
    "- n = número de ocurrencias anteriores\n",
    "- μ = promedio global del target\n",
    "- a = parámetro de suavizamiento\n",
    "\n",
    "\n",
    "\n",
    "\n",
    "Esto suaviza los valores extremos y evita que categorías raras generen codificaciones inestables.\n",
    "\n"
   ]
  },
  {
   "cell_type": "code",
   "execution_count": 7,
   "id": "1138807e-142d-4fc7-8631-c4ffdc856590",
   "metadata": {},
   "outputs": [
    {
     "data": {
      "text/html": [
       "<div>\n",
       "<style scoped>\n",
       "    .dataframe tbody tr th:only-of-type {\n",
       "        vertical-align: middle;\n",
       "    }\n",
       "\n",
       "    .dataframe tbody tr th {\n",
       "        vertical-align: top;\n",
       "    }\n",
       "\n",
       "    .dataframe thead th {\n",
       "        text-align: right;\n",
       "    }\n",
       "</style>\n",
       "<table border=\"1\" class=\"dataframe\">\n",
       "  <thead>\n",
       "    <tr style=\"text-align: right;\">\n",
       "      <th></th>\n",
       "      <th>Survived</th>\n",
       "      <th>Embarked</th>\n",
       "      <th>catboost_enc</th>\n",
       "    </tr>\n",
       "  </thead>\n",
       "  <tbody>\n",
       "    <tr>\n",
       "      <th>0</th>\n",
       "      <td>0</td>\n",
       "      <td>S</td>\n",
       "      <td>0.382452</td>\n",
       "    </tr>\n",
       "    <tr>\n",
       "      <th>1</th>\n",
       "      <td>0</td>\n",
       "      <td>S</td>\n",
       "      <td>0.347684</td>\n",
       "    </tr>\n",
       "    <tr>\n",
       "      <th>2</th>\n",
       "      <td>0</td>\n",
       "      <td>S</td>\n",
       "      <td>0.318710</td>\n",
       "    </tr>\n",
       "    <tr>\n",
       "      <th>3</th>\n",
       "      <td>0</td>\n",
       "      <td>C</td>\n",
       "      <td>0.382452</td>\n",
       "    </tr>\n",
       "    <tr>\n",
       "      <th>4</th>\n",
       "      <td>0</td>\n",
       "      <td>S</td>\n",
       "      <td>0.294194</td>\n",
       "    </tr>\n",
       "    <tr>\n",
       "      <th>5</th>\n",
       "      <td>1</td>\n",
       "      <td>C</td>\n",
       "      <td>0.347684</td>\n",
       "    </tr>\n",
       "    <tr>\n",
       "      <th>6</th>\n",
       "      <td>0</td>\n",
       "      <td>S</td>\n",
       "      <td>0.273180</td>\n",
       "    </tr>\n",
       "    <tr>\n",
       "      <th>7</th>\n",
       "      <td>0</td>\n",
       "      <td>S</td>\n",
       "      <td>0.254968</td>\n",
       "    </tr>\n",
       "    <tr>\n",
       "      <th>8</th>\n",
       "      <td>0</td>\n",
       "      <td>S</td>\n",
       "      <td>0.239033</td>\n",
       "    </tr>\n",
       "    <tr>\n",
       "      <th>9</th>\n",
       "      <td>0</td>\n",
       "      <td>S</td>\n",
       "      <td>0.224972</td>\n",
       "    </tr>\n",
       "  </tbody>\n",
       "</table>\n",
       "</div>"
      ],
      "text/plain": [
       "   Survived Embarked  catboost_enc\n",
       "0         0        S      0.382452\n",
       "1         0        S      0.347684\n",
       "2         0        S      0.318710\n",
       "3         0        C      0.382452\n",
       "4         0        S      0.294194\n",
       "5         1        C      0.347684\n",
       "6         0        S      0.273180\n",
       "7         0        S      0.254968\n",
       "8         0        S      0.239033\n",
       "9         0        S      0.224972"
      ]
     },
     "execution_count": 7,
     "metadata": {},
     "output_type": "execute_result"
    }
   ],
   "source": [
    "import pandas as pd\n",
    "\n",
    "# Suponemos que ya cargaste tu DataFrame con columnas 'Embarked' y 'Survived'\n",
    "\n",
    "# Mezclamos aleatoriamente el orden de las filas (simula una permutación interna de CatBoost)\n",
    "df = df.sample(frac=1).reset_index(drop=True)\n",
    "\n",
    "# Parámetros para suavizamiento\n",
    "alpha = 10  # entre más alto, más peso al promedio global\n",
    "global_mean = df['Survived'].mean()  # promedio global del target\n",
    "\n",
    "# Inicializamos la columna de codificación y el diccionario de stats por categoría\n",
    "df['catboost_enc'] = 0.0\n",
    "enc_stats = {}  # {'Embarked_value': [suma_y, conteo]}\n",
    "\n",
    "# Recorremos las filas en orden aleatorio\n",
    "for i, row in df.iterrows():\n",
    "    cat = row['Embarked']  # categoría actual\n",
    "    \n",
    "    # Si ya tenemos historial para esa categoría, aplicamos codificación suavizada\n",
    "    if cat in enc_stats:\n",
    "        sum_y, count_y = enc_stats[cat]\n",
    "        enc_val = (sum_y + alpha * global_mean) / (count_y + alpha)\n",
    "    else:\n",
    "        # Si es la primera vez que aparece la categoría, usamos el promedio global\n",
    "        enc_val = global_mean\n",
    "    \n",
    "    # Asignamos el encoding a la fila actual\n",
    "    df.at[i, 'catboost_enc'] = enc_val\n",
    "    \n",
    "    # Actualizamos el historial con el valor actual (después de usarlo para codificar)\n",
    "    if cat not in enc_stats:\n",
    "        enc_stats[cat] = [row['Survived'], 1]\n",
    "    else:\n",
    "        enc_stats[cat][0] += row['Survived']\n",
    "        enc_stats[cat][1] += 1\n",
    "\n",
    "# Mostrar las primeras 20 filas para inspeccionar cómo evoluciona el encoding\n",
    "df[['Survived', 'Embarked', 'catboost_enc']].head(10)\n"
   ]
  },
  {
   "cell_type": "code",
   "execution_count": null,
   "id": "bbe4d2ed-e072-40f6-86ad-4eafc3ccdfbb",
   "metadata": {},
   "outputs": [],
   "source": []
  },
  {
   "cell_type": "code",
   "execution_count": null,
   "id": "f0a9b981-b4f9-4354-84bb-1705aabcdd00",
   "metadata": {},
   "outputs": [],
   "source": []
  }
 ],
 "metadata": {
  "kernelspec": {
   "display_name": "Python 3 (ipykernel)",
   "language": "python",
   "name": "python3"
  },
  "language_info": {
   "codemirror_mode": {
    "name": "ipython",
    "version": 3
   },
   "file_extension": ".py",
   "mimetype": "text/x-python",
   "name": "python",
   "nbconvert_exporter": "python",
   "pygments_lexer": "ipython3",
   "version": "3.10.16"
  }
 },
 "nbformat": 4,
 "nbformat_minor": 5
}

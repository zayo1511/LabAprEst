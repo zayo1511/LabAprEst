{
 "cells": [
  {
   "cell_type": "markdown",
   "id": "d9df8cb7-c90c-447d-a799-5b5ba9eceb96",
   "metadata": {},
   "source": [
    "# Expansión de Taylor (motivación para XGBoost)\n",
    "\n",
    "La **expansión de Taylor** es una herramienta matemática que permite aproximar una función complicada usando un polinomio. En el caso de XGBoost, se utiliza para **aproximar la función de pérdida** con el fin de encontrar la mejor mejora en cada iteración.\n",
    "\n",
    "## Intuición\n",
    "\n",
    "Supón que tienes una función complicada, como una función de pérdida que depende del modelo y de los datos, y quieres entender su comportamiento local para mejorarla paso a paso. La expansión de Taylor permite aproximarla con un polinomio más manejable, utilizando derivadas.\n",
    "\n",
    "En particular, XGBoost **utiliza una expansión de segundo orden** (es decir, hasta la derivada segunda), porque esto da más información que una expansión lineal (como la que usan métodos de gradiente tradicional) y sigue siendo computacionalmente eficiente.\n",
    "\n",
    "## Fórmula general de Taylor\n",
    "\n",
    "La expansión de Taylor de una función $f(x)$ alrededor de un punto $a$ es:\n",
    "\n",
    "$$\n",
    "f(x) \\approx f(a) + f'(a)(x - a) + \\frac{f''(a)}{2}(x - a)^2\n",
    "$$\n",
    "\n",
    "(omitimos términos de orden mayor porque no se usan en XGBoost)\n",
    "\n",
    "Si tomamos $a = 0$ para simplificar (como suele hacerse), entonces:\n",
    "\n",
    "$$\n",
    "f(x) \\approx f(0) + f'(0)x + \\frac{f''(0)}{2}x^2\n",
    "$$\n",
    "\n",
    "Esto es justamente lo que usa XGBoost: aproxima la función de pérdida como un polinomio cuadrático alrededor del valor actual de la predicción.\n",
    "\n",
    "## Ejemplo simple\n",
    "\n",
    "Aproximemos $f(x) = x^3 - 3x^2 + 2x + 1$ alrededor de $x = 0$, usando solo hasta la segunda derivada:\n",
    "\n",
    "### Paso 1: Derivadas\n",
    "\n",
    "- $f(x) = x^3 - 3x^2 + 2x + 1$\n",
    "- $f'(x) = 3x^2 - 6x + 2$\n",
    "- $f''(x) = 6x - 6$\n",
    "\n",
    "### Paso 2: Evaluar en $x = 0$\n",
    "\n",
    "- $f(0) = 1$\n",
    "- $f'(0) = 2$\n",
    "- $f''(0) = -6$\n",
    "\n",
    "### Paso 3: Aproximación\n",
    "\n",
    "Usando Taylor de segundo orden:\n",
    "\n",
    "$$\n",
    "f(x) \\approx 1 + 2x - 3x^2\n",
    "$$\n",
    "\n",
    "### Paso 4: Evaluar en $x = 0.1$\n",
    "\n",
    "$$\n",
    "f(0.1) \\approx 1 + 0.2 - 0.03 = 1.17\n",
    "$$\n",
    "\n",
    "El valor real es $f(0.1) = 1.171$, muy cerca.\n",
    "\n",
    "## Conclusión\n",
    "\n",
    "Con solo la derivada primera y segunda, podemos aproximar muy bien el valor de una función cerca de un punto.\n",
    "\n",
    "**Esto es justo lo que hace XGBoost:**  \n",
    "- Usa la **derivada primera** de la pérdida para saber hacia dónde moverse (gradiente)  \n",
    "- Usa la **derivada segunda** para saber qué tan agresivo o conservador debe ser ese movimiento (curvatura)\n",
    "\n",
    "Este enfoque cuadrático permite hacer mejoras más precisas en cada iteración del boosting.\n"
   ]
  },
  {
   "cell_type": "code",
   "execution_count": null,
   "id": "348591a9-1bb9-4b74-a8ec-212a5d8ea952",
   "metadata": {},
   "outputs": [],
   "source": []
  },
  {
   "cell_type": "code",
   "execution_count": 12,
   "id": "cfa695ae-8aeb-47ed-9c5f-1d127e139c64",
   "metadata": {},
   "outputs": [
    {
     "data": {
      "application/vnd.jupyter.widget-view+json": {
       "model_id": "05ce79f2e8694f4f9f71dfc6d36f1c8a",
       "version_major": 2,
       "version_minor": 0
      },
      "text/plain": [
       "interactive(children=(FloatSlider(value=0.0, description='a', max=2.5, min=-1.0), Output()), _dom_classes=('wi…"
      ]
     },
     "metadata": {},
     "output_type": "display_data"
    },
    {
     "data": {
      "text/plain": [
       "<function __main__.plot_taylor(a)>"
      ]
     },
     "execution_count": 12,
     "metadata": {},
     "output_type": "execute_result"
    }
   ],
   "source": [
    "import numpy as np\n",
    "import matplotlib.pyplot as plt\n",
    "from ipywidgets import interact, FloatSlider\n",
    "\n",
    "# Función original\n",
    "def f(x):\n",
    "    return x**3 - 3*x**2 + 2*x + 1\n",
    "\n",
    "# Derivadas\n",
    "def f_prime(x):\n",
    "    return 3*x**2 - 6*x + 2\n",
    "\n",
    "def f_double_prime(x):\n",
    "    return 6*x - 6\n",
    "\n",
    "# Aproximación de Taylor de orden 2 centrada en a\n",
    "def taylor_orden2(x, a):\n",
    "    f0 = f(a)\n",
    "    f1 = f_prime(a)\n",
    "    f2 = f_double_prime(a)\n",
    "    return f0 + f1 * (x - a) + (f2 / 2) * (x - a)**2\n",
    "\n",
    "# Rango de valores para x\n",
    "x_vals = np.linspace(-1, 3, 300)\n",
    "\n",
    "# Función para graficar\n",
    "def plot_taylor(a):\n",
    "    true_vals = f(x_vals)\n",
    "    taylor_vals = taylor_orden2(x_vals, a)\n",
    "\n",
    "    plt.figure(figsize=(8, 5))\n",
    "    plt.plot(x_vals, true_vals, label='Función real: $x^3 - 3x^2 + 2x + 1$', linewidth=2)\n",
    "    plt.plot(x_vals, taylor_vals, '--', label=f'Aprox. Taylor (orden 2, $a={a}$)', linewidth=2)\n",
    "    plt.axvline(a, color='red', linestyle=':', label=f'$a={a}$', linewidth=1.5)\n",
    "    plt.title(r\"Aproximación de segundo orden:  $f(x) \\approx f(0) + f'(0)x + \\frac{f''(0)}{2}x^2$\")\n",
    "    plt.xlabel(\"x\")\n",
    "    plt.ylabel(\"f(x)\")\n",
    "    plt.legend()\n",
    "    plt.grid(True)\n",
    "    plt.tight_layout()\n",
    "    plt.show()\n",
    "\n",
    "# Slider interactivo para a\n",
    "interact(plot_taylor, a=FloatSlider(value=0, min=-1.0, max=2.5, step=0.1))\n"
   ]
  },
  {
   "cell_type": "code",
   "execution_count": null,
   "id": "8859dd46-86e4-45d3-80f1-432a54fb7997",
   "metadata": {},
   "outputs": [],
   "source": []
  },
  {
   "cell_type": "code",
   "execution_count": 7,
   "id": "14a1b41d-f6e4-4b9a-a955-31b67fd3772c",
   "metadata": {},
   "outputs": [
    {
     "name": "stdout",
     "output_type": "stream",
     "text": [
      "Requirement already satisfied: ipywidgets in /Users/antoniomanguart/opt/anaconda3/envs/nuevo_entorno/lib/python3.10/site-packages (8.1.5)\n",
      "Requirement already satisfied: comm>=0.1.3 in /Users/antoniomanguart/opt/anaconda3/envs/nuevo_entorno/lib/python3.10/site-packages (from ipywidgets) (0.2.2)\n",
      "Requirement already satisfied: ipython>=6.1.0 in /Users/antoniomanguart/opt/anaconda3/envs/nuevo_entorno/lib/python3.10/site-packages (from ipywidgets) (8.34.0)\n",
      "Requirement already satisfied: traitlets>=4.3.1 in /Users/antoniomanguart/opt/anaconda3/envs/nuevo_entorno/lib/python3.10/site-packages (from ipywidgets) (5.14.3)\n",
      "Requirement already satisfied: widgetsnbextension~=4.0.12 in /Users/antoniomanguart/opt/anaconda3/envs/nuevo_entorno/lib/python3.10/site-packages (from ipywidgets) (4.0.13)\n",
      "Requirement already satisfied: jupyterlab-widgets~=3.0.12 in /Users/antoniomanguart/opt/anaconda3/envs/nuevo_entorno/lib/python3.10/site-packages (from ipywidgets) (3.0.13)\n",
      "Requirement already satisfied: decorator in /Users/antoniomanguart/opt/anaconda3/envs/nuevo_entorno/lib/python3.10/site-packages (from ipython>=6.1.0->ipywidgets) (5.2.1)\n",
      "Requirement already satisfied: exceptiongroup in /Users/antoniomanguart/opt/anaconda3/envs/nuevo_entorno/lib/python3.10/site-packages (from ipython>=6.1.0->ipywidgets) (1.2.2)\n",
      "Requirement already satisfied: jedi>=0.16 in /Users/antoniomanguart/opt/anaconda3/envs/nuevo_entorno/lib/python3.10/site-packages (from ipython>=6.1.0->ipywidgets) (0.19.2)\n",
      "Requirement already satisfied: matplotlib-inline in /Users/antoniomanguart/opt/anaconda3/envs/nuevo_entorno/lib/python3.10/site-packages (from ipython>=6.1.0->ipywidgets) (0.1.7)\n",
      "Requirement already satisfied: pexpect>4.3 in /Users/antoniomanguart/opt/anaconda3/envs/nuevo_entorno/lib/python3.10/site-packages (from ipython>=6.1.0->ipywidgets) (4.9.0)\n",
      "Requirement already satisfied: prompt_toolkit<3.1.0,>=3.0.41 in /Users/antoniomanguart/opt/anaconda3/envs/nuevo_entorno/lib/python3.10/site-packages (from ipython>=6.1.0->ipywidgets) (3.0.50)\n",
      "Requirement already satisfied: pygments>=2.4.0 in /Users/antoniomanguart/opt/anaconda3/envs/nuevo_entorno/lib/python3.10/site-packages (from ipython>=6.1.0->ipywidgets) (2.19.1)\n",
      "Requirement already satisfied: stack_data in /Users/antoniomanguart/opt/anaconda3/envs/nuevo_entorno/lib/python3.10/site-packages (from ipython>=6.1.0->ipywidgets) (0.6.3)\n",
      "Requirement already satisfied: typing_extensions>=4.6 in /Users/antoniomanguart/opt/anaconda3/envs/nuevo_entorno/lib/python3.10/site-packages (from ipython>=6.1.0->ipywidgets) (4.12.2)\n",
      "Requirement already satisfied: parso<0.9.0,>=0.8.4 in /Users/antoniomanguart/opt/anaconda3/envs/nuevo_entorno/lib/python3.10/site-packages (from jedi>=0.16->ipython>=6.1.0->ipywidgets) (0.8.4)\n",
      "Requirement already satisfied: ptyprocess>=0.5 in /Users/antoniomanguart/opt/anaconda3/envs/nuevo_entorno/lib/python3.10/site-packages (from pexpect>4.3->ipython>=6.1.0->ipywidgets) (0.7.0)\n",
      "Requirement already satisfied: wcwidth in /Users/antoniomanguart/opt/anaconda3/envs/nuevo_entorno/lib/python3.10/site-packages (from prompt_toolkit<3.1.0,>=3.0.41->ipython>=6.1.0->ipywidgets) (0.2.13)\n",
      "Requirement already satisfied: executing>=1.2.0 in /Users/antoniomanguart/opt/anaconda3/envs/nuevo_entorno/lib/python3.10/site-packages (from stack_data->ipython>=6.1.0->ipywidgets) (2.2.0)\n",
      "Requirement already satisfied: asttokens>=2.1.0 in /Users/antoniomanguart/opt/anaconda3/envs/nuevo_entorno/lib/python3.10/site-packages (from stack_data->ipython>=6.1.0->ipywidgets) (3.0.0)\n",
      "Requirement already satisfied: pure-eval in /Users/antoniomanguart/opt/anaconda3/envs/nuevo_entorno/lib/python3.10/site-packages (from stack_data->ipython>=6.1.0->ipywidgets) (0.2.3)\n"
     ]
    }
   ],
   "source": [
    "!pip install ipywidgets\n"
   ]
  },
  {
   "cell_type": "code",
   "execution_count": null,
   "id": "8120b6a4-c4bc-46ed-936a-f245803a2537",
   "metadata": {},
   "outputs": [],
   "source": []
  }
 ],
 "metadata": {
  "kernelspec": {
   "display_name": "Python 3 (ipykernel)",
   "language": "python",
   "name": "python3"
  },
  "language_info": {
   "codemirror_mode": {
    "name": "ipython",
    "version": 3
   },
   "file_extension": ".py",
   "mimetype": "text/x-python",
   "name": "python",
   "nbconvert_exporter": "python",
   "pygments_lexer": "ipython3",
   "version": "3.10.16"
  }
 },
 "nbformat": 4,
 "nbformat_minor": 5
}

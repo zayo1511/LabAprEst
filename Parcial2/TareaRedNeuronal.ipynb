{
 "cells": [
  {
   "cell_type": "markdown",
   "metadata": {},
   "source": [
    "# Tarea Primer Red Neuronal \n",
    "\n",
    "Diego Lozoya Morales | 745345"
   ]
  },
  {
   "cell_type": "markdown",
   "metadata": {},
   "source": [
    "# Paqueterías"
   ]
  },
  {
   "cell_type": "code",
   "execution_count": null,
   "metadata": {},
   "outputs": [],
   "source": [
    "import numpy as np\n",
    "import pandas as pd\n",
    "import matplotlib.pyplot as plt\n",
    "import seaborn as sns\n",
    "import statsmodels.formula.api as smf\n",
    "from sklearn.metrics import mean_squared_error, r2_score\n",
    "from sklearn.model_selection import train_test_split, GridSearchCV\n",
    "from sklearn.linear_model import LinearRegression, Ridge, Lasso\n",
    "from sklearn.preprocessing import PolynomialFeatures, StandardScaler\n",
    "from scipy import stats\n",
    "from sklearn.neighbors import KNeighborsRegressor\n",
    "from sklearn.pipeline import Pipeline\n",
    "from sklearn.neural_network import MLPRegressor\n",
    "from IPython.display import display\n",
    "\n",
    "import warnings\n",
    "warnings.filterwarnings('ignore')\n",
    "\n",
    "colors = [\"cornflowerblue\", \"indianred\", \"darkseagreen\", \"plum\", \"dimgray\"]"
   ]
  },
  {
   "cell_type": "markdown",
   "metadata": {},
   "source": [
    "# Funciones"
   ]
  },
  {
   "cell_type": "code",
   "execution_count": null,
   "metadata": {},
   "outputs": [],
   "source": [
    "def calibracion(predicciones, y_test):\n",
    "    df_calibracion = pd.DataFrame({\n",
    "        'predicciones':predicciones,\n",
    "        'y':y_test\n",
    "    })\n",
    "    df_calibracion['bins'] = pd.qcut(df_calibracion['predicciones'], q=15, labels=False)+1\n",
    "    grouped = df_calibracion.groupby('bins').mean()\n",
    "\n",
    "    plt.figure(figsize=(10, 5))\n",
    "    plt.plot(grouped.predicciones, grouped.y, label=\"Modelo\", marker=\"o\", color=colors[0])\n",
    "    plt.plot(grouped.predicciones, grouped.predicciones, label=\"Real\", marker=\"o\", color=colors[1])\n",
    "    plt.xlabel(\"Probabilidad\")\n",
    "    plt.ylabel(\"Real\")\n",
    "    plt.title(\"Calibración\")\n",
    "    plt.grid()\n",
    "    plt.legend()\n",
    "    plt.show()"
   ]
  },
  {
   "cell_type": "markdown",
   "metadata": {},
   "source": [
    "# Data"
   ]
  },
  {
   "cell_type": "code",
   "execution_count": null,
   "metadata": {},
   "outputs": [],
   "source": [
    "data = pd.read_csv(\"Data/Boston.csv\").drop('Unnamed: 0', axis=1, inplace=True)\n",
    "data = pd.get_dummies(data, columns=['rad'])"
   ]
  },
  {
   "cell_type": "markdown",
   "metadata": {},
   "source": [
    "## Variable dependiente"
   ]
  },
  {
   "cell_type": "code",
   "execution_count": null,
   "metadata": {},
   "outputs": [],
   "source": [
    "target = 'medv'\n",
    "y = data[target]"
   ]
  },
  {
   "cell_type": "markdown",
   "metadata": {},
   "source": [
    "# Cross validation"
   ]
  },
  {
   "cell_type": "code",
   "execution_count": null,
   "metadata": {},
   "outputs": [],
   "source": [
    "X = data.copy().drop(target, axis=1)\n",
    "\n",
    "X_train, X_test, y_train, y_test = train_test_split(X, y, test_size=0.3, random_state=42)"
   ]
  },
  {
   "cell_type": "markdown",
   "metadata": {},
   "source": [
    "# Red Neuronal"
   ]
  },
  {
   "cell_type": "code",
   "execution_count": null,
   "metadata": {},
   "outputs": [],
   "source": [
    "pipeline = Pipeline([\n",
    "    ('scaler', StandardScaler()),\n",
    "    ('nn', MLPRegressor())\n",
    "])\n",
    "\n",
    "params_grid = {\n",
    "     'nn__hidden_layer_sizes': [(5,5,5), (10,), (100,), (10,10)],\n",
    "     'nn__activation': ['tanh', 'relu', 'logistic'],\n",
    "     'nn__alpha': [0.1, 0.01]\n",
    "}\n",
    "\n",
    "grid_nn = GridSearchCV(estimator=pipeline, n_jobs=-1, cv=5, scoring= 'r2', param_grid=params_grid)\n",
    "grid_nn.fit(X_train, y_train)"
   ]
  },
  {
   "cell_type": "code",
   "execution_count": null,
   "metadata": {},
   "outputs": [],
   "source": [
    "predicciones_nn = grid_nn.best_estimator_.predict(X_test)\n",
    "r2_score(y_pred=predicciones_nn, y_true=y_test)"
   ]
  },
  {
   "cell_type": "markdown",
   "metadata": {},
   "source": [
    "## Calibración"
   ]
  },
  {
   "cell_type": "code",
   "execution_count": null,
   "metadata": {},
   "outputs": [],
   "source": [
    "calibracion(predicciones_nn, y_test)"
   ]
  },
  {
   "cell_type": "markdown",
   "metadata": {},
   "source": [
    "# Conclusiones"
   ]
  },
  {
   "cell_type": "markdown",
   "metadata": {},
   "source": []
  }
 ],
 "metadata": {
  "kernelspec": {
   "display_name": "base",
   "language": "python",
   "name": "python3"
  },
  "language_info": {
   "name": "python",
   "version": "3.12.7"
  }
 },
 "nbformat": 4,
 "nbformat_minor": 2
}

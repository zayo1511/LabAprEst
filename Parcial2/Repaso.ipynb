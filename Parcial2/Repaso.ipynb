{
 "cells": [
  {
   "cell_type": "markdown",
   "metadata": {},
   "source": [
    "# Regresión logística"
   ]
  },
  {
   "cell_type": "markdown",
   "metadata": {},
   "source": []
  },
  {
   "cell_type": "markdown",
   "metadata": {
    "vscode": {
     "languageId": "plaintext"
    }
   },
   "source": [
    "# Odds y log odds"
   ]
  },
  {
   "cell_type": "markdown",
   "metadata": {},
   "source": [
    "Las odds son la razón de éxito frente al fracaso en donde se calculan con la fórmmula\n",
    "\n",
    "$$\\text{odds} = \\frac{p}{1-p}$$\n",
    "\n",
    "Ya que este crecimiento es exponencial, se aplica logaritmo, de modo que se linealize este comportamiento.\n",
    "\n",
    "$$log \\text{ odds} = log (\\frac{p}{1-p})$$\n",
    "\n",
    "---\n",
    "\n",
    "Una vez que se tienen los coeficientes de la regresión logística, con ayuda del simoide se calcula la combinación lineal de los coeficientes con las características (X), obteniendo el valor de z \n",
    "\n",
    "$$z=\\Theta ^T X$$\n",
    "\n",
    "Con esto se ultiliza la fórmula\n",
    "\n",
    "$$p= \\frac{1}{1 + e^{-z}}$$\n",
    "\n",
    "donde p es la probabilidad de que l modelo clasifique como 1. Si la probabilidad es menor a 0.5 se clasifica como 0 y si es mayor a 0.5 de clasiifica como 1."
   ]
  },
  {
   "cell_type": "markdown",
   "metadata": {},
   "source": [
    "# Softmax"
   ]
  },
  {
   "cell_type": "markdown",
   "metadata": {},
   "source": []
  },
  {
   "cell_type": "markdown",
   "metadata": {},
   "source": [
    "# Análisis del discriminante lineal"
   ]
  },
  {
   "cell_type": "markdown",
   "metadata": {},
   "source": []
  },
  {
   "cell_type": "markdown",
   "metadata": {},
   "source": [
    "# Redes neuronales"
   ]
  },
  {
   "cell_type": "markdown",
   "metadata": {},
   "source": []
  },
  {
   "cell_type": "markdown",
   "metadata": {},
   "source": [
    "# AUC"
   ]
  },
  {
   "cell_type": "markdown",
   "metadata": {},
   "source": []
  }
 ],
 "metadata": {
  "language_info": {
   "name": "python"
  }
 },
 "nbformat": 4,
 "nbformat_minor": 2
}

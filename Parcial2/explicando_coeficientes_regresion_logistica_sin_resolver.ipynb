{
 "cells": [
  {
   "cell_type": "code",
   "execution_count": 11,
   "metadata": {},
   "outputs": [],
   "source": [
    "import pandas as pd\n",
    "import statsmodels.formula.api as smf\n"
   ]
  },
  {
   "cell_type": "code",
   "execution_count": 12,
   "metadata": {},
   "outputs": [],
   "source": [
    "df = pd.read_csv('risk_data.csv')"
   ]
  },
  {
   "cell_type": "markdown",
   "metadata": {},
   "source": [
    "$$z = \\theta_0 + \\theta_1*creditlimit$$\n",
    "\n",
    "$$P(y = 1 | X) = \\frac{1}{1 + e^{-z}}$$"
   ]
  },
  {
   "cell_type": "markdown",
   "metadata": {},
   "source": [
    "## Interpretando coeficientes\n",
    "\n",
    "### Supuestos\n",
    "- Sabemos por el teorema central del limite, que el promedio de los promedios es normal\n",
    "- Beta es realmente, en promedio _cuanto incremental log odds a medida que cambi $j$_ \n",
    "- Dado que beta es un promedio que se distribuye normal y tiene un error estandard, podemos ver si es estdísticamente diferente de 0 con la prueba Z\n",
    "\n",
    "\n",
    "### Procedimiento\n",
    "Se usa el estadístico $z score$ para probar si $\\beta_j=0$\n",
    "\n",
    "\n",
    "Es decir, la hipotesis nula nos dice que beta no tiene efecto, $H_0=0$\n",
    "\n",
    "Al igual que cuando normalizamos mediante esta forma:\n",
    "\n",
    "$$z = \\frac{\\mu - x}{\\sigma}$$\n",
    "\n",
    "Hacemos lo mismo con $\\beta_j$ ya que las $\\beta$ de una regresión lineal \n",
    "\n",
    "$$z_j = \\frac{\\beta_j - H_0}{SE_j}$$\n",
    "\n",
    "\n",
    "Dedo que la hipotsis nula es 0:\n",
    "\n",
    "$$z_j = \\frac{\\beta_j}{SE_j}$$\n",
    "\n",
    "Z se distribuye normal estandard, $Z -> N(0, \\sigma^2)$\n",
    "\n",
    "Buscamos el valor $Z$ en las tablitas de normal estandard y estimamos el P-value \n",
    "\n",
    "La prueba es de dos colas dado que la distribución normal es simetrica:\n",
    "\n",
    "$$p=2 * pvalue$$\n"
   ]
  },
  {
   "cell_type": "code",
   "execution_count": 28,
   "metadata": {},
   "outputs": [
    {
     "name": "stdout",
     "output_type": "stream",
     "text": [
      "Optimization terminated successfully.\n",
      "         Current function value: 0.419710\n",
      "         Iterations 6\n"
     ]
    },
    {
     "data": {
      "text/html": [
       "<table class=\"simpletable\">\n",
       "<tr>\n",
       "        <td></td>          <th>coef</th>     <th>std err</th>      <th>z</th>      <th>P>|z|</th>  <th>[0.025</th>    <th>0.975]</th>  \n",
       "</tr>\n",
       "<tr>\n",
       "  <th>Intercept</th>    <td>   -1.1910</td> <td>    0.028</td> <td>  -42.555</td> <td> 0.000</td> <td>   -1.246</td> <td>   -1.136</td>\n",
       "</tr>\n",
       "<tr>\n",
       "  <th>credit_limit</th> <td>   -0.0002</td> <td> 9.63e-06</td> <td>  -20.508</td> <td> 0.000</td> <td>   -0.000</td> <td>   -0.000</td>\n",
       "</tr>\n",
       "</table>"
      ],
      "text/latex": [
       "\\begin{center}\n",
       "\\begin{tabular}{lcccccc}\n",
       "\\toprule\n",
       "                       & \\textbf{coef} & \\textbf{std err} & \\textbf{z} & \\textbf{P$> |$z$|$} & \\textbf{[0.025} & \\textbf{0.975]}  \\\\\n",
       "\\midrule\n",
       "\\textbf{Intercept}     &      -1.1910  &        0.028     &   -42.555  &         0.000        &       -1.246    &       -1.136     \\\\\n",
       "\\textbf{credit\\_limit} &      -0.0002  &     9.63e-06     &   -20.508  &         0.000        &       -0.000    &       -0.000     \\\\\n",
       "\\bottomrule\n",
       "\\end{tabular}\n",
       "\\end{center}"
      ],
      "text/plain": [
       "<class 'statsmodels.iolib.table.SimpleTable'>"
      ]
     },
     "execution_count": 28,
     "metadata": {},
     "output_type": "execute_result"
    }
   ],
   "source": [
    "model = smf.logit('default ~credit_limit', data=df).fit()\n",
    "\n",
    "model.summary().tables[1]"
   ]
  },
  {
   "cell_type": "markdown",
   "metadata": {},
   "source": [
    "### ¿Tiene sentido lo anterior? ¿cómo puede ser que _a mayor líite de crédito, menor default_ ?\n",
    "\n",
    "Las empresas le dan más límite de crédtito a los mejores clientes, podemos controlar por score de crédito y salario\n",
    "\n",
    "\n",
    "$$z = \\theta_0 + \\theta_1*creditlimit + \\theta_2*Salario + \\theta_3*score$$\n",
    "\n",
    "$$P(y = 1 | X) = \\frac{1}{1 + e^{-z}}$$"
   ]
  },
  {
   "cell_type": "code",
   "execution_count": 46,
   "metadata": {},
   "outputs": [
    {
     "name": "stdout",
     "output_type": "stream",
     "text": [
      "Optimization terminated successfully.\n",
      "         Current function value: 0.407682\n",
      "         Iterations 6\n"
     ]
    },
    {
     "data": {
      "text/html": [
       "<table class=\"simpletable\">\n",
       "<tr>\n",
       "        <td></td>           <th>coef</th>     <th>std err</th>      <th>z</th>      <th>P>|z|</th>  <th>[0.025</th>    <th>0.975]</th>  \n",
       "</tr>\n",
       "<tr>\n",
       "  <th>Intercept</th>     <td>    0.2995</td> <td>    0.056</td> <td>    5.371</td> <td> 0.000</td> <td>    0.190</td> <td>    0.409</td>\n",
       "</tr>\n",
       "<tr>\n",
       "  <th>credit_limit</th>  <td> 2.524e-05</td> <td> 1.25e-05</td> <td>    2.011</td> <td> 0.044</td> <td> 6.43e-07</td> <td> 4.98e-05</td>\n",
       "</tr>\n",
       "<tr>\n",
       "  <th>credit_score2</th> <td>   -0.0024</td> <td>    0.000</td> <td>  -19.478</td> <td> 0.000</td> <td>   -0.003</td> <td>   -0.002</td>\n",
       "</tr>\n",
       "<tr>\n",
       "  <th>wage</th>          <td>   -0.0010</td> <td> 4.94e-05</td> <td>  -19.878</td> <td> 0.000</td> <td>   -0.001</td> <td>   -0.001</td>\n",
       "</tr>\n",
       "</table>"
      ],
      "text/latex": [
       "\\begin{center}\n",
       "\\begin{tabular}{lcccccc}\n",
       "\\toprule\n",
       "                        & \\textbf{coef} & \\textbf{std err} & \\textbf{z} & \\textbf{P$> |$z$|$} & \\textbf{[0.025} & \\textbf{0.975]}  \\\\\n",
       "\\midrule\n",
       "\\textbf{Intercept}      &       0.2995  &        0.056     &     5.371  &         0.000        &        0.190    &        0.409     \\\\\n",
       "\\textbf{credit\\_limit}  &    2.524e-05  &     1.25e-05     &     2.011  &         0.044        &     6.43e-07    &     4.98e-05     \\\\\n",
       "\\textbf{credit\\_score2} &      -0.0024  &        0.000     &   -19.478  &         0.000        &       -0.003    &       -0.002     \\\\\n",
       "\\textbf{wage}           &      -0.0010  &     4.94e-05     &   -19.878  &         0.000        &       -0.001    &       -0.001     \\\\\n",
       "\\bottomrule\n",
       "\\end{tabular}\n",
       "\\end{center}"
      ],
      "text/plain": [
       "<class 'statsmodels.iolib.table.SimpleTable'>"
      ]
     },
     "execution_count": 46,
     "metadata": {},
     "output_type": "execute_result"
    }
   ],
   "source": [
    "model = smf.logit('default ~credit_limit+credit_score2+wage', data=df).fit()\n",
    "\n",
    "model.summary().tables[1]"
   ]
  },
  {
   "cell_type": "markdown",
   "metadata": {},
   "source": [
    "Al igual que en regresiones lineales, si controlamos por las variables adecuadas podemos obtener el coeficiente correcto"
   ]
  },
  {
   "cell_type": "code",
   "execution_count": null,
   "metadata": {},
   "outputs": [],
   "source": []
  },
  {
   "cell_type": "code",
   "execution_count": null,
   "metadata": {},
   "outputs": [],
   "source": []
  }
 ],
 "metadata": {
  "kernelspec": {
   "display_name": "Python 3",
   "language": "python",
   "name": "python3"
  },
  "language_info": {
   "codemirror_mode": {
    "name": "ipython",
    "version": 3
   },
   "file_extension": ".py",
   "mimetype": "text/x-python",
   "name": "python",
   "nbconvert_exporter": "python",
   "pygments_lexer": "ipython3",
   "version": "3.8.5"
  }
 },
 "nbformat": 4,
 "nbformat_minor": 4
}

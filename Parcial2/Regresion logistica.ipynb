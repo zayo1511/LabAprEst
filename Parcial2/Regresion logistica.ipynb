{
 "cells": [
  {
   "cell_type": "markdown",
   "metadata": {},
   "source": [
    "### Función sigmoide \n",
    "\n",
    "Función comunmente usada para transformar un numero (el que sea) a algo entre 0 y 1"
   ]
  },
  {
   "cell_type": "code",
   "execution_count": 18,
   "metadata": {},
   "outputs": [
    {
     "data": {
      "image/png": "[encoded data removed]",
      "text/plain": [
       "<Figure size 720x432 with 1 Axes>"
      ]
     },
     "metadata": {
      "needs_background": "light"
     },
     "output_type": "display_data"
    }
   ],
   "source": [
    "import numpy as np\n",
    "import matplotlib.pyplot as plt\n",
    "\n",
    "# Definir la función sigmoide\n",
    "def sigmoid(z):\n",
    "    return 1 / (1 + np.exp(-z))\n",
    "\n",
    "# Crear un rango de valores para z\n",
    "z_values = np.linspace(-10, 10, 100)  # Valores de z desde -10 hasta 10\n",
    "\n",
    "# Calcular los valores de la función sigmoide para cada z\n",
    "sigmoid_values = sigmoid(z_values)\n",
    "\n",
    "# Graficar la función sigmoide\n",
    "plt.figure(figsize=(10, 6))\n",
    "plt.plot(z_values, sigmoid_values, label=r'$\\sigma(z) = \\frac{1}{1 + e^{-z}}$', color='blue', linewidth=2)\n",
    "plt.xlabel(r'$z$', fontsize=14)\n",
    "plt.ylabel(r'$\\sigma(z)$', fontsize=14)\n",
    "plt.title('Función Sigmoide', fontsize=16)\n",
    "plt.grid(True)\n",
    "plt.axhline(0.5, color='red', linestyle='--', label='Umbral (0.5)')  # Línea horizontal en y = 0.5\n",
    "plt.axvline(0, color='green', linestyle='--', label='z = 0')  # Línea vertical en z = 0\n",
    "plt.legend()\n",
    "plt.show()"
   ]
  },
  {
   "cell_type": "code",
   "execution_count": null,
   "metadata": {},
   "outputs": [],
   "source": []
  },
  {
   "cell_type": "code",
   "execution_count": null,
   "metadata": {},
   "outputs": [],
   "source": []
  },
  {
   "cell_type": "markdown",
   "metadata": {},
   "source": [
    "# **Regresión Logística y Máxima Verosimilitud**\n",
    "\n",
    "En **regresión logística**, modelamos la **probabilidad de éxito** como:\n",
    "\n",
    "$$\n",
    "p(y = 1 | X) = \\sigma(\\theta^T X) = \\frac{1}{1 + e^{-\\theta^T X}}\n",
    "$$\n",
    "\n",
    "Donde $\\sigma(z)$ es la función sigmoide:\n",
    "\n",
    "$$\n",
    "\\sigma(z) = \\frac{1}{1 + e^{-z}}\n",
    "$$\n",
    "\n",
    "### **Función de Verosimilitud**\n",
    "Como \\( y \\) sigue una **distribución de Bernoulli**, la función de verosimilitud es:\n",
    "\n",
    "$$\n",
    "L(\\theta) = \\prod_{i=1}^{m} p(y_i | X_i; \\theta) = \\prod_{i=1}^{m} \\left[ \\sigma(\\theta^T X_i) \\right]^{y_i} \\cdot \\left[ 1 - \\sigma(\\theta^T X_i) \\right]^{(1 - y_i)}\n",
    "$$\n",
    "\n",
    "Tomamos el **logaritmo de la verosimilitud**:\n",
    "\n",
    "$$\n",
    "\\log L(\\theta) = \\sum_{i=1}^{m} \\left[ y_i \\log \\sigma(\\theta^T X_i) + (1 - y_i) \\log (1 - \\sigma(\\theta^T X_i)) \\right]\n",
    "$$\n",
    "\n",
    "### Función de Pérdida\n",
    "Para estimar $\\theta$, **maximizamos la log-verosimilitud**. \n",
    "\n",
    "$$\n",
    "J(\\theta) = \\frac{1}{m} \\sum_{i=1}^{m} \\left[ y_i \\log \\sigma(\\theta^T X_i) + (1 - y_i) \\log (1 - \\sigma(\\theta^T X_i)) \\right]\n",
    "$$\n",
    "\n"
   ]
  },
  {
   "cell_type": "markdown",
   "metadata": {},
   "source": [
    "# **Regresión Logística con ascenso en Gradiente**\n",
    "\n",
    "Queremos minimizar la función de pérdida:\n",
    "\n",
    "$$\n",
    "J(\\theta) = \\frac{1}{m} \\sum_{i=1}^{m} \\left[ y_i \\log \\sigma(\\theta^T X_i) + (1 - y_i) \\log (1 - \\sigma(\\theta^T X_i)) \\right]\n",
    "$$\n",
    "\n",
    "### **Algoritmo ascenso en Gradiente**\n",
    "\n",
    "$$\n",
    "\\theta_j := \\theta_j + \\alpha \\frac{\\partial J}{\\partial \\theta_j}\n",
    "$$\n",
    "\n",
    "\n",
    "\n",
    "### **Gradiente**\n",
    "El gradiente con respecto a $\\theta_j$ es:\n",
    "\n",
    "$$\n",
    "\\frac{\\partial J}{\\partial \\theta_j} = \\frac{1}{m} \\sum_{i=1}^{m} \\left( \\sigma(\\theta^T X_i) - y_i \\right) X_{ij}\n",
    "$$\n",
    "\n",
    "### **Algoritmo del Descenso en Gradiente**\n",
    "1. **Inicializar** $\\theta$.\n",
    "2. **Repetir** hasta convergencia:\n",
    "\n",
    "$$\n",
    "\\theta_j := \\theta_j + \\alpha \\cdot \\frac{1}{m} \\sum_{i=1}^{m} \\left( \\sigma(\\theta^T X_i) - y_i \\right) X_{ij}\n",
    "$$\n",
    "\n",
    "Donde $\\alpha$ es la **tasa de aprendizaje**.\n",
    "\n",
    "**Conclusión:**  \n",
    "El descenso en gradiente encuentra los valores óptimos de $\\theta$ iterativamente, ajustándolos en la dirección del gradiente para minimizar la función de pérdida.\n"
   ]
  },
  {
   "cell_type": "markdown",
   "metadata": {},
   "source": [
    "### **Derivada de la Función de Pérdida en Regresión Logística**\n",
    "\n",
    "La función de pérdida (log-verosimilitud negativa) para la regresión logística es:\n",
    "\n",
    "$$\n",
    "J(\\theta) = \\frac{1}{m} \\sum_{i=1}^{m} \\left[ y_i \\log \\sigma(\\theta^T X_i) + (1 - y_i) \\log (1 - \\sigma(\\theta^T X_i)) \\right]\n",
    "$$\n",
    "\n",
    "donde $\\sigma(z)$ es la función sigmoide:\n",
    "\n",
    "$$\n",
    "\\sigma(z) = \\frac{1}{1 + e^{-z}}\n",
    "$$\n",
    "\n",
    "### **Paso 1: Aplicamos la Regla de la Cadena**\n",
    "Queremos derivar $J(\\theta)$ con respecto a $\\theta_j$:\n",
    "\n",
    "$$\n",
    "\\frac{\\partial J}{\\partial \\theta_j} = \\frac{1}{m} \\sum_{i=1}^{m} \\left[ y_i \\frac{\\partial}{\\partial \\theta_j} \\log \\sigma(\\theta^T X_i) + (1 - y_i) \\frac{\\partial}{\\partial \\theta_j} \\log (1 - \\sigma(\\theta^T X_i)) \\right]\n",
    "$$\n",
    "\n",
    "### **Paso 2: Derivadas de los términos logarítmicos**\n",
    "Sabemos que la derivada de la sigmoide es:\n",
    "\n",
    "$$\n",
    "\\frac{d}{dz} \\sigma(z) = \\sigma(z) (1 - \\sigma(z))\n",
    "$$\n",
    "\n",
    "1. Para el primer término:\n",
    "\n",
    "$$\n",
    "\\frac{\\partial}{\\partial \\theta_j} \\log \\sigma(\\theta^T X_i) = \\frac{1}{\\sigma(\\theta^T X_i)} \\cdot \\sigma(\\theta^T X_i) (1 - \\sigma(\\theta^T X_i)) \\cdot X_{ij}\n",
    "$$\n",
    "\n",
    "$$\n",
    "= (1 - \\sigma(\\theta^T X_i)) X_{ij}\n",
    "$$\n",
    "\n",
    "2. Para el segundo término:\n",
    "\n",
    "$$\n",
    "\\frac{\\partial}{\\partial \\theta_j} \\log (1 - \\sigma(\\theta^T X_i)) = -\\frac{1}{1 - \\sigma(\\theta^T X_i)} \\cdot \\sigma(\\theta^T X_i) (1 - \\sigma(\\theta^T X_i)) \\cdot X_{ij}\n",
    "$$\n",
    "\n",
    "$$\n",
    "= -\\sigma(\\theta^T X_i) X_{ij}\n",
    "$$\n",
    "\n",
    "### **Paso 3: Factorizamos**\n",
    "Sustituyendo estas derivadas en la ecuación original:\n",
    "\n",
    "$$\n",
    "\\frac{\\partial J}{\\partial \\theta_j} = \\frac{1}{m} \\sum_{i=1}^{m} \\left[ y_i (1 - \\sigma(\\theta^T X_i)) X_{ij} - (1 - y_i) \\sigma(\\theta^T X_i) X_{ij} \\right]\n",
    "$$\n",
    "\n",
    "Factorizando $X_{ij}$, tenemos el **resultado final**:\n",
    "\n",
    "$$\n",
    "\\frac{\\partial J}{\\partial \\theta_j} = \\frac{1}{m} \\sum_{i=1}^{m} X_{ij} \\left[ y_i - \\sigma(\\theta^T X_i) \\right]\n",
    "$$\n",
    "\n",
    "Este es el **gradiente** que usamos en descenso de gradiente para actualizar \\( \\theta \\):\n",
    "\n",
    "$$\n",
    "\\theta_j \\leftarrow \\theta_j + \\alpha \\frac{\\partial J}{\\partial \\theta_j}\n",
    "$$\n"
   ]
  },
  {
   "cell_type": "markdown",
   "metadata": {},
   "source": [
    "### ¿Por qué no es descenso en gradiente sino asccenso? \n",
    "\n",
    "La función de perdida de la regresión logistica, a diferencia de la regresión lineal es creciente ... por lo tanto necesitamos *maximizar* y no minimizar"
   ]
  },
  {
   "cell_type": "code",
   "execution_count": 1,
   "metadata": {},
   "outputs": [
    {
     "name": "stderr",
     "output_type": "stream",
     "text": [
      "<ipython-input-1-773b0d732471>:13: RuntimeWarning: divide by zero encountered in log\n",
      "  loss = (1/m) * np.sum(y * np.log(h) + (1 - y) * np.log(1 - h))\n",
      "<ipython-input-1-773b0d732471>:13: RuntimeWarning: invalid value encountered in multiply\n",
      "  loss = (1/m) * np.sum(y * np.log(h) + (1 - y) * np.log(1 - h))\n"
     ]
    },
    {
     "data": {
      "image/png": "[encoded data removed]",
      "text/plain": [
       "<Figure size 720x432 with 1 Axes>"
      ]
     },
     "metadata": {
      "needs_background": "light"
     },
     "output_type": "display_data"
    }
   ],
   "source": [
    "import numpy as np\n",
    "import matplotlib.pyplot as plt\n",
    "\n",
    "# Función sigmoide\n",
    "def sigmoid(z):\n",
    "    return 1 / (1 + np.exp(-z))\n",
    "\n",
    "# Función de pérdida logística para un solo theta\n",
    "def logistic_loss(theta, X, y):\n",
    "    m = len(y)\n",
    "    z = X * theta  # X es un vector en este caso\n",
    "    h = sigmoid(z)\n",
    "    loss = (1/m) * np.sum(y * np.log(h) + (1 - y) * np.log(1 - h))\n",
    "    return loss\n",
    "\n",
    "# Datos de ejemplo (en una dimensión)\n",
    "X = np.array([2, 3, 4, 5])  # Características (una sola característica)\n",
    "y = np.array([0, 0, 1, 1])  # Etiquetas (0 o 1)\n",
    "\n",
    "# Rango de valores para theta\n",
    "theta_values = np.linspace(-10, 10, 150)  # Valores de theta desde -10 hasta 10\n",
    "\n",
    "# Calcular la pérdida para cada valor de theta\n",
    "loss_values = [logistic_loss(theta, X, y) for theta in theta_values]\n",
    "\n",
    "# Graficar la función de pérdida\n",
    "plt.figure(figsize=(10, 6))\n",
    "plt.plot(theta_values, loss_values, label='Función de Pérdida', color='blue', linewidth=2)\n",
    "plt.xlabel(r'$\\theta$', fontsize=14)\n",
    "plt.ylabel('Pérdida Logística', fontsize=14)\n",
    "plt.title('Función de Pérdida Logística en función de $\\theta$', fontsize=16)\n",
    "plt.grid(True)\n",
    "plt.legend()\n",
    "plt.show()"
   ]
  },
  {
   "cell_type": "markdown",
   "metadata": {},
   "source": [
    "### Ejemplo, codigo para obtener una regresión lógistica"
   ]
  },
  {
   "cell_type": "code",
   "execution_count": 22,
   "metadata": {},
   "outputs": [
    {
     "name": "stdout",
     "output_type": "stream",
     "text": [
      "Theta óptimo: [-3.37307951  1.05486382]\n"
     ]
    },
    {
     "data": {
      "image/png": "[encoded data removed]",
      "text/plain": [
       "<Figure size 720x432 with 1 Axes>"
      ]
     },
     "metadata": {
      "needs_background": "light"
     },
     "output_type": "display_data"
    }
   ],
   "source": [
    "\n",
    "# Función sigmoide\n",
    "def sigmoid(z):\n",
    "    return 1 / (1 + np.exp(-z))\n",
    "\n",
    "# Función de verosimilitud (log-likelihood)\n",
    "def log_likelihood(X, y, theta):\n",
    "    z = X.dot(theta)\n",
    "    h = sigmoid(z)\n",
    "    likelihood = np.sum(y * np.log(h) + (1 - y) * np.log(1 - h))\n",
    "    return likelihood\n",
    "\n",
    "# Ascenso en gradiente\n",
    "def gradient_ascent(X, y, theta, alpha, num_iterations):\n",
    "    m = len(y)\n",
    "    likelihood_history = []\n",
    "\n",
    "    for i in range(num_iterations):\n",
    "        z = X.dot(theta)\n",
    "        h = sigmoid(z)\n",
    "        gradient = X.T.dot(y - h)  # Gradiente de la verosimilitud\n",
    "        theta += alpha * gradient  # Actualización de theta (ascenso en gradiente)\n",
    "        \n",
    "        # Guardar el valor de la verosimilitud en cada iteración\n",
    "        likelihood_history.append(log_likelihood(X, y, theta))\n",
    "    \n",
    "    return theta, likelihood_history\n",
    "\n",
    "# Datos de ejemplo\n",
    "X = np.array([[1, 2], [1, 3], [1, 4], [1, 5]])  # Matriz de características (con columna de unos para el término de sesgo)\n",
    "y = np.array([0, 0, 1, 1])  # Etiquetas (0 o 1)\n",
    "\n",
    "# Parámetros iniciales\n",
    "theta = np.zeros(X.shape[1])  # Inicializamos theta con ceros\n",
    "alpha = 0.01  # Tasa de aprendizaje\n",
    "num_iterations = 1000  # Número de iteraciones\n",
    "\n",
    "# Ejecutar el ascenso en gradiente\n",
    "theta_optimal, likelihood_history = gradient_ascent(X, y, theta, alpha, num_iterations)\n",
    "\n",
    "# Resultados\n",
    "print(\"Theta óptimo:\", theta_optimal)\n",
    "\n",
    "# Graficar la evolución de la verosimilitud\n",
    "plt.figure(figsize=(10, 6))\n",
    "plt.plot(range(num_iterations), likelihood_history, color='blue', linewidth=2)\n",
    "plt.xlabel('Iteraciones', fontsize=14)\n",
    "plt.ylabel('Verosimilitud', fontsize=14)\n",
    "plt.title('Evolución de la Verosimilitud durante el Ascenso en Gradiente', fontsize=16)\n",
    "plt.grid(True)\n",
    "plt.show()"
   ]
  },
  {
   "cell_type": "markdown",
   "metadata": {},
   "source": [
    "\n",
    "Quiere decir que la ecuación estimada es: \n",
    "\n",
    "$$\n",
    "\\hat{y} = \\sigma(\\theta^T X) = \\frac{1}{1 + e^{-3.47 + 1.05 x_1}}\n",
    "$$\n"
   ]
  },
  {
   "cell_type": "markdown",
   "metadata": {},
   "source": [
    "## Anexo derivada de la función sigmoide\n",
    "\n",
    "La función **sigmoide** se define como:\n",
    "\n",
    "$$\n",
    "\\sigma(z) = \\frac{1}{1 + e^{-z}}\n",
    "$$\n",
    "\n",
    "### **Paso 1: Aplicamos la Regla de la Cadena**  \n",
    "Derivamos \\( \\sigma(z) \\) con respecto a \\( z \\):\n",
    "\n",
    "$$\n",
    "\\frac{d}{dz} \\sigma(z) = \\frac{d}{dz} \\left( \\frac{1}{1 + e^{-z}} \\right)\n",
    "$$\n",
    "\n",
    "Usamos la regla del cociente:\n",
    "\n",
    "$$\n",
    "\\frac{d}{dz} \\left( \\frac{1}{f(z)} \\right) = -\\frac{f'(z)}{f(z)^2}\n",
    "$$\n",
    "\n",
    "donde \\( f(z) = 1 + e^{-z} \\), así que:\n",
    "\n",
    "$$\n",
    "f'(z) = -e^{-z}\n",
    "$$\n",
    "\n",
    "Aplicamos la regla:\n",
    "\n",
    "$$\n",
    "\\frac{d}{dz} \\sigma(z) = -\\frac{-e^{-z}}{(1 + e^{-z})^2} = \\frac{e^{-z}}{(1 + e^{-z})^2}\n",
    "$$\n",
    "\n",
    "---\n",
    "\n",
    "### **Paso 2: Factorizamos en términos de \\( \\sigma(z) \\)**  \n",
    "Sabemos que:\n",
    "\n",
    "$$\n",
    "\\sigma(z) = \\frac{1}{1 + e^{-z}}\n",
    "$$\n",
    "\n",
    "y también que:\n",
    "\n",
    "$$\n",
    "1 - \\sigma(z) = \\frac{e^{-z}}{1 + e^{-z}}\n",
    "$$\n",
    "\n",
    "Multiplicamos ambas expresiones:\n",
    "\n",
    "$$\n",
    "\\sigma(z) (1 - \\sigma(z)) = \\left(\\frac{1}{1 + e^{-z}}\\right) \\left(\\frac{e^{-z}}{1 + e^{-z}}\\right) = \\frac{e^{-z}}{(1 + e^{-z})^2}\n",
    "$$\n",
    "\n",
    "---\n",
    "\n",
    "### **Resultado Final**  \n",
    "La derivada de la sigmoide es:\n",
    "\n",
    "$$\n",
    "\\frac{d}{dz} \\sigma(z) = \\sigma(z) (1 - \\sigma(z))\n",
    "$$\n"
   ]
  },
  {
   "cell_type": "code",
   "execution_count": null,
   "metadata": {},
   "outputs": [],
   "source": []
  }
 ],
 "metadata": {
  "kernelspec": {
   "display_name": "Python 3",
   "language": "python",
   "name": "python3"
  },
  "language_info": {
   "codemirror_mode": {
    "name": "ipython",
    "version": 3
   },
   "file_extension": ".py",
   "mimetype": "text/x-python",
   "name": "python",
   "nbconvert_exporter": "python",
   "pygments_lexer": "ipython3",
   "version": "3.8.5"
  }
 },
 "nbformat": 4,
 "nbformat_minor": 4
}

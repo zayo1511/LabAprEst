{
 "cells": [
  {
   "cell_type": "code",
   "execution_count": 115,
   "metadata": {},
   "outputs": [],
   "source": [
    "import pandas as pd\n",
    "import numpy as np\n",
    "import matplotlib.pyplot as plt\n",
    "from sklearn.model_selection import train_test_split, GridSearchCV\n",
    "from sklearn.neural_network import MLPClassifier, MLPRegressor\n",
    "from sklearn.metrics import roc_auc_score, r2_score\n",
    "from sklearn.pipeline import Pipeline\n",
    "from sklearn.preprocessing import StandardScaler, PolynomialFeatures\n",
    "from sklearn import linear_model\n",
    "\n",
    "\n",
    "import warnings\n",
    "warnings.filterwarnings(\"ignore\")"
   ]
  },
  {
   "cell_type": "markdown",
   "metadata": {},
   "source": [
    "# Redes neuronales"
   ]
  },
  {
   "cell_type": "markdown",
   "metadata": {},
   "source": [
    "## Forward Propagation \n",
    "La **propagación hacia adelante** (forward propagation) es el proceso por el cual una red neuronal transforma una entrada en una salida a través de sus capas. \n",
    "\n",
    "1. **Capa de Entrada:**  \n",
    "   La información inicial (por ejemplo, los píxeles de una imagen o características de un dato) se ingresa a la red a través de la capa de entrada. Cada nodo en esta capa representa una característica.\n",
    "\n",
    "2. **Cálculo en Cada Neurona de una Capa Oculta:**  \n",
    "   Cada neurona en una capa oculta realiza dos operaciones fundamentales:\n",
    "   \n",
    "   - **Suma Ponderada:**  \n",
    "     Calcula una combinación lineal de las entradas, usando unos pesos $W$ y un sesgo $b$:\n",
    "     $$\n",
    "     z^{[l]} = W^{[l]} a^{[l-1]} + b^{[l]}\n",
    "     $$\n",
    "     donde:\n",
    "     - $a^{[l-1]}$ son las activaciones (o salidas) de la capa anterior.\n",
    "     - $W^{[l]}$ es la matriz de pesos que conecta la capa anterior con la capa $l$.\n",
    "     - $b^{[l]}$ es el vector de sesgos de la capa $l$.\n",
    "\n",
    "   - **Función de Activación:**  \n",
    "     La suma ponderada $z^{[l]}$se pasa a través de una función de activación $g$ para introducir no linealidad:\n",
    "     $$\n",
    "     a^{[l]} = g(z^{[l]})\n",
    "     $$\n",
    "     Por ejemplo, \\( g \\) podría ser la función ReLU, sigmoide o tanh.\n",
    "\n",
    "3. **Propagación a Través de las Capas:**  \n",
    "   Este proceso se repite en cada capa oculta. Los valores \\( a^{[l]} \\) calculados en cada capa se utilizan como entrada para la siguiente.\n",
    "\n",
    "4. **Capa de Salida:**  \n",
    "   Finalmente, en la capa de salida se realiza el mismo proceso para obtener el resultado final del modelo. En tareas de clasificación, por ejemplo, se puede usar una función de activación sigmoide para obtener una probabilidad.\n",
    "\n",
    "---\n",
    "\n",
    "**Ejemplo Visual:**\n",
    "\n",
    "Supongamos que tienes una red neuronal simple para clasificación binaria:\n",
    "- **Entrada:** Un vector \\( x \\) con \\( n \\) características.\n",
    "- **Capa Oculta:** Una única capa oculta con \\( m \\) neuronas.\n",
    "- **Salida:** Una sola neurona que da la probabilidad de la clase positiva.\n",
    "\n",
    "El proceso sería:\n",
    "\n",
    "1. **Capa de Entrada:**  \n",
    "   $a^{[0]} = x$)\n",
    "\n",
    "2. **Capa Oculta:**\n",
    "   - Cálculo lineal:  \n",
    "     $z^{[1]} = W^{[1]} x + b^{[1]}$\n",
    "   - Activación:  \n",
    "     $a^{[1]} = g(z^{[1]})$  \n",
    "     (por ejemplo, usando ReLU: $a^{[1]} = \\max(0, z^{[1]})$\n",
    "\n",
    "3. **Capa de Salida:**\n",
    "   - Cálculo lineal:  \n",
    "     $z^{[2]} = W^{[2]} a^{[1]} + b^{[2]}$\n",
    "   - Activación:  \n",
    "     $a^{[2]} = \\sigma(z^{[2]})$\n",
    "     (usando la función sigmoide, $\\sigma(z) = \\frac{1}{1+e^{-z}}$, para obtener una probabilidad)\n",
    "\n",
    "El resultado $a^{[2]}$ es la salida final de la red.\n",
    "\n",
    "Esta explicación ilustra cómo la información se transforma a medida que avanza por la red neuronal, utilizando combinaciones lineales y funciones de activación para capturar relaciones complejas en los datos.\n"
   ]
  },
  {
   "cell_type": "markdown",
   "metadata": {},
   "source": [
    "## Backpropagation \n",
    "\n",
    "\n",
    "**Backpropagation** es el algoritmo fundamental para entrenar redes neuronales. Permite calcular, de manera eficiente, los gradientes de la función de costo respecto a cada uno de los parámetros (pesos y sesgos) de la red. Estos gradientes se utilizan para actualizar los parámetros en la dirección que minimice el error del modelo, generalmente usando algún método de descenso de gradiente.\n",
    "\n",
    "### ¿Cómo funciona?\n",
    "\n",
    "La idea central es aplicar la **regla de la cadena** para propagar el error desde la salida de la red hacia las capas anteriores.\n",
    "\n",
    "1. **Propagación hacia adelante (Forward Propagation):**  \n",
    "   Primero se calcula la salida de la red:\n",
    "   - Cada capa calcula:\n",
    "     $$\n",
    "     z^{[l]} = W^{[l]}a^{[l-1]} + b^{[l]}\n",
    "     $$\n",
    "     $$\n",
    "     a^{[l]} = g(z^{[l]})\n",
    "     $$\n",
    "     donde \\( g \\) es la función de activación.\n",
    "\n",
    "2. **Cálculo del error en la capa de salida:**  \n",
    "   Se mide la diferencia entre la salida predicha $a^{[L]}$ y el valor real $y$. Por ejemplo, para una función de costo $J$ (como la entropía cruzada), se calcula:\n",
    "   $$\n",
    "   \\delta^{[L]} = \\frac{\\partial J}{\\partial z^{[L]}} = (a^{[L]} - y) \\odot g'(z^{[L]})\n",
    "   $$\n",
    "   donde $g'(z^{[L]})$ es la derivada de la función de activación en la capa de salida y $\\odot$ denota la multiplicación elemento a elemento.\n",
    "\n",
    "3. **Propagación del error hacia atrás:**  \n",
    "   Para cada capa $l$ de $L-1$ hasta la primera capa oculta), se calcula:\n",
    "   $$\n",
    "   \\delta^{[l]} = \\left(W^{[l+1]}\\right)^T \\delta^{[l+1]} \\odot g'(z^{[l]})\n",
    "   $$\n",
    "   Esto permite distribuir el error calculado en la capa de salida a todas las neuronas de las capas anteriores, de manera que cada parámetro se ajuste en función de su contribución al error final.\n",
    "\n",
    "4. **Cálculo de los gradientes:**  \n",
    "   Una vez obtenidos los $\\delta$ (errores) para cada capa, se calculan los gradientes de la función de costo respecto a los pesos y sesgos:\n",
    "   $$\n",
    "   \\frac{\\partial J}{\\partial W^{[l]}} = \\delta^{[l]} \\left(a^{[l-1]}\\right)^T\n",
    "   $$\n",
    "   $$\n",
    "   \\frac{\\partial J}{\\partial b^{[l]}} = \\delta^{[l]}\n",
    "   $$\n",
    "\n",
    "5. **Actualización de parámetros:**  \n",
    "   Con un factor de aprendizaje $\\alpha$, se actualizan los parámetros:\n",
    "   $$\n",
    "   W^{[l]} = W^{[l]} - \\alpha \\frac{\\partial J}{\\partial W^{[l]}}\n",
    "   $$\n",
    "   $$\n",
    "   b^{[l]} = b^{[l]} - \\alpha \\frac{\\partial J}{\\partial b^{[l]}}\n",
    "   $$\n",
    "\n",
    "Este proceso se repite para cada ejemplo (o en lotes de ejemplos) durante el entrenamiento de la red, ajustando los parámetros poco a poco para minimizar la función de costo.\n",
    "\n",
    "---\n",
    "\n",
    "**Resumen:**\n",
    "\n",
    "- **Backpropagation** es el algoritmo que permite entrenar redes neuronales calculando los gradientes de la función de costo respecto a cada parámetro.\n",
    "- Se utiliza la **regla de la cadena** para propagar el error desde la salida hasta las capas de entrada.\n",
    "- Una vez calculados los gradientes, se actualizan los parámetros usando un método de optimización (como el descenso de gradiente).\n",
    "- Este proceso es fundamental para que la red aprenda y mejore su capacidad de predicción.\n",
    "\n",
    "\n"
   ]
  },
  {
   "cell_type": "code",
   "execution_count": null,
   "metadata": {},
   "outputs": [],
   "source": []
  },
  {
   "cell_type": "code",
   "execution_count": null,
   "metadata": {},
   "outputs": [],
   "source": []
  },
  {
   "cell_type": "markdown",
   "metadata": {},
   "source": [
    "## Funciones de activación\n",
    "#### Tangente hipoerbolica"
   ]
  },
  {
   "cell_type": "markdown",
   "metadata": {},
   "source": [
    "$$\n",
    "\\text{tanh}(x) = \\frac{e^{x} - e^{-x}}{e^{x} + e^{-x}}\n",
    "$$\n",
    "\n",
    "Esto significa que:\n",
    "\n",
    "- Para valores negativos de \\(x\\), la salida es negativa.\n",
    "- Para valores positivos de \\(x\\), la salida es positiva.\n",
    "- La salida está acotada entre -1 y 1 y, a diferencia de la sigmoide, está centrada en cero, lo que puede ayudar a una mejor convergencia durante el entrenamiento.\n"
   ]
  },
  {
   "cell_type": "code",
   "execution_count": 1,
   "metadata": {},
   "outputs": [],
   "source": [
    "# Grafico de tangente hiperbolica\n"
   ]
  },
  {
   "cell_type": "markdown",
   "metadata": {},
   "source": [
    "### Función de activación sigmoide\n",
    "La **función sigmoide** es una función de activación que transforma cualquier valor de entrada en un rango entre 0 y 1. Se define matemáticamente como:\n",
    "\n",
    "$$\n",
    "\\sigma(x) = \\frac{1}{1 + e^{-x}}\n",
    "$$\n",
    "\n",
    "Donde \\\\( e \\\\) es la constante de Euler.\n"
   ]
  },
  {
   "cell_type": "code",
   "execution_count": 2,
   "metadata": {},
   "outputs": [],
   "source": [
    "# Grafico de sigmoide "
   ]
  },
  {
   "cell_type": "markdown",
   "metadata": {},
   "source": [
    "### Función de Activación ReLU\n",
    "\n",
    "La función de activación **ReLU** (Rectified Linear Unit) se define matemáticamente como:\n",
    "\n",
    "$$\n",
    "\\text{ReLU}(x) = \\max(0, x)\n",
    "$$\n",
    "\n",
    "Esto significa que, para cualquier valor de entrada \\( x \\):\n",
    "\n",
    "- Si \\( x \\) es negativo, la salida es 0.\n",
    "- Si \\( x \\) es positivo, la salida es \\( x \\).\n",
    "\n"
   ]
  },
  {
   "cell_type": "code",
   "execution_count": 3,
   "metadata": {},
   "outputs": [],
   "source": [
    "# Relu function "
   ]
  },
  {
   "cell_type": "markdown",
   "metadata": {},
   "source": [
    "## Clasificación \n",
    "### Regresión logistica con el titanic"
   ]
  },
  {
   "cell_type": "code",
   "execution_count": 61,
   "metadata": {},
   "outputs": [],
   "source": [
    "import pandas as pd\n",
    "import numpy as np\n",
    "from sklearn.model_selection import train_test_split, GridSearchCV\n",
    "from sklearn.neural_network import MLPClassifier\n",
    "from sklearn.metrics import roc_auc_score\n",
    "from sklearn.pipeline import Pipeline\n",
    "from sklearn.preprocessing import StandardScaler\n",
    "\n",
    "# --- Limpieza de datos según lo indicado ---\n",
    "df = pd.read_csv('titanic.csv')\n",
    "df = df.drop(['PassengerId', 'Name', 'Ticket', 'Cabin'], axis=1)\n",
    "df = pd.get_dummies(df)\n",
    "del df['Sex_female']\n",
    "df['Age'] = df['Age'].fillna(df.Age.mean())\n",
    "\n",
    "# Variables predictoras y variable objetivo\n",
    "X = df.drop('Survived', axis=1)\n",
    "y = df['Survived']\n",
    "\n",
    "# --- División en conjunto de entrenamiento y test (80%-20%) ---\n",
    "X_train, X_test, y_train, y_test = train_test_split(\n",
    "    X, y, test_size=0.2, stratify=y, random_state=42\n",
    ")"
   ]
  },
  {
   "cell_type": "code",
   "execution_count": 4,
   "metadata": {},
   "outputs": [],
   "source": [
    "# Pipeline\n"
   ]
  },
  {
   "cell_type": "code",
   "execution_count": 6,
   "metadata": {},
   "outputs": [],
   "source": [
    "# Grid Search \n"
   ]
  },
  {
   "cell_type": "code",
   "execution_count": 7,
   "metadata": {},
   "outputs": [],
   "source": [
    "# AUC \n"
   ]
  },
  {
   "cell_type": "markdown",
   "metadata": {},
   "source": [
    "### Neural network Titanic"
   ]
  },
  {
   "cell_type": "code",
   "execution_count": 8,
   "metadata": {},
   "outputs": [],
   "source": [
    "# Pipeline\n",
    "\n",
    "# Params grid\n",
    "\n",
    "# Fit \n",
    "\n",
    "# AUC\n"
   ]
  },
  {
   "cell_type": "code",
   "execution_count": null,
   "metadata": {},
   "outputs": [],
   "source": []
  },
  {
   "cell_type": "code",
   "execution_count": null,
   "metadata": {},
   "outputs": [],
   "source": []
  },
  {
   "cell_type": "code",
   "execution_count": null,
   "metadata": {},
   "outputs": [],
   "source": []
  },
  {
   "cell_type": "markdown",
   "metadata": {},
   "source": [
    "## Regresión "
   ]
  },
  {
   "cell_type": "code",
   "execution_count": 85,
   "metadata": {},
   "outputs": [],
   "source": [
    "housing = pd.read_csv('housing.csv')\n",
    "\n",
    "housing = pd.get_dummies(housing, drop_first=True)\n",
    "housing['total_bedrooms'] = housing['total_bedrooms'].fillna(housing['total_bedrooms'].mean())\n",
    "target = 'median_house_value'\n",
    "X = housing.copy().drop(target, axis=1)\n",
    "y = housing[target]\n",
    "\n",
    "X_train, X_test, y_train, y_test = train_test_split(\n",
    "    X, y, test_size=0.2, random_state=42\n",
    ")"
   ]
  },
  {
   "cell_type": "markdown",
   "metadata": {},
   "source": [
    "### Red neuronal"
   ]
  },
  {
   "cell_type": "code",
   "execution_count": 9,
   "metadata": {},
   "outputs": [],
   "source": [
    "# Pipeline\n",
    "\n",
    "# Grid search \n",
    "\n",
    "# Fit grid search \n"
   ]
  },
  {
   "cell_type": "code",
   "execution_count": 10,
   "metadata": {},
   "outputs": [],
   "source": [
    "# Calcular R2\n"
   ]
  },
  {
   "cell_type": "markdown",
   "metadata": {},
   "source": [
    "### Regresión lineal"
   ]
  },
  {
   "cell_type": "code",
   "execution_count": 11,
   "metadata": {},
   "outputs": [],
   "source": [
    "# Pipeline \n",
    "\n",
    "# Params grid\n",
    "\n",
    "# Fit \n"
   ]
  },
  {
   "cell_type": "code",
   "execution_count": null,
   "metadata": {},
   "outputs": [],
   "source": []
  },
  {
   "cell_type": "code",
   "execution_count": 12,
   "metadata": {},
   "outputs": [],
   "source": [
    "# Calcular R2\n"
   ]
  },
  {
   "cell_type": "markdown",
   "metadata": {},
   "source": [
    "### Visualización de mapas"
   ]
  },
  {
   "cell_type": "code",
   "execution_count": 13,
   "metadata": {},
   "outputs": [],
   "source": [
    "#####\n"
   ]
  },
  {
   "cell_type": "code",
   "execution_count": 106,
   "metadata": {},
   "outputs": [
    {
     "data": {
      "image/png": "[encoded data removed]",
      "text/plain": [
       "<Figure size 720x432 with 2 Axes>"
      ]
     },
     "metadata": {
      "needs_background": "light"
     },
     "output_type": "display_data"
    }
   ],
   "source": [
    "\n",
    "# Crear el gráfico de dispersión ponderado por median_house_value\n",
    "plt.figure(figsize=(10, 6))\n",
    "scatter = plt.scatter(\n",
    "    mapa[\"longitude\"], mapa[\"latitude\"],\n",
    "    c=mapa[\"median_house_value\"], cmap=\"YlOrRd\", alpha=0.6,\n",
    "    s=10  # Tamaño de los puntos\n",
    ")\n",
    "\n",
    "# Agregar una barra de color\n",
    "cbar = plt.colorbar(scatter)\n",
    "cbar.set_label(\"Median House Value ($)\")\n",
    "\n",
    "# Etiquetas y título\n",
    "plt.xlabel(\"Longitude\")\n",
    "plt.ylabel(\"Latitude\")\n",
    "plt.title(\"Distribución Geográfica del Valor Medio de la Casa\")\n",
    "\n",
    "# Mostrar el mapa\n",
    "plt.show()"
   ]
  },
  {
   "cell_type": "code",
   "execution_count": 14,
   "metadata": {},
   "outputs": [],
   "source": [
    "# Mapa regresion lineal\n"
   ]
  },
  {
   "cell_type": "code",
   "execution_count": 15,
   "metadata": {},
   "outputs": [],
   "source": [
    "# Red neuronal\n"
   ]
  },
  {
   "cell_type": "markdown",
   "metadata": {},
   "source": [
    "### Calibracion regresion "
   ]
  },
  {
   "cell_type": "code",
   "execution_count": null,
   "metadata": {},
   "outputs": [],
   "source": []
  },
  {
   "cell_type": "code",
   "execution_count": null,
   "metadata": {},
   "outputs": [],
   "source": []
  },
  {
   "cell_type": "code",
   "execution_count": null,
   "metadata": {},
   "outputs": [],
   "source": []
  },
  {
   "cell_type": "code",
   "execution_count": null,
   "metadata": {},
   "outputs": [],
   "source": []
  }
 ],
 "metadata": {
  "kernelspec": {
   "display_name": "Python 3",
   "language": "python",
   "name": "python3"
  },
  "language_info": {
   "codemirror_mode": {
    "name": "ipython",
    "version": 3
   },
   "file_extension": ".py",
   "mimetype": "text/x-python",
   "name": "python",
   "nbconvert_exporter": "python",
   "pygments_lexer": "ipython3",
   "version": "3.8.5"
  }
 },
 "nbformat": 4,
 "nbformat_minor": 4
}

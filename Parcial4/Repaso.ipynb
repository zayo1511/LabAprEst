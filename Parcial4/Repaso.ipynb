{
 "cells": [
  {
   "cell_type": "markdown",
   "metadata": {
    "vscode": {
     "languageId": "plaintext"
    }
   },
   "source": [
    "# KMeans\n",
    "\n",
    "Es un algorítmo de clusterización que divide un conjunto de datos en K grupos, de modo que los elementos dentro del mismo grupo sean lo más parecidos entre si posibles. Si se quiere dividir los clusters por cercanía los pasos para dividir son:\n",
    "\n",
    "1. Inicializa K centroides (centros de grupo) de forma aleatoria.\n",
    "2. Asigna cada punto al centro más cercano (según distancia euclidiana).\n",
    "3. Recalcula los centroides como el promedio de los puntos asignados a cada grupo.\n",
    "\n",
    "Repite los pasos 2 y 3 hasta que converge."
   ]
  },
  {
   "cell_type": "markdown",
   "metadata": {},
   "source": [
    "# Shap Values\n",
    "\n",
    "Se ordenan las variables con cada una de las perfmutaciones posibles. Para cada una de esos ordenes se calcula la contribución marginal por feature en ese orden en específico, para despues promediarlos y obtener el valor de Shap.\n",
    "\n",
    "La contribución marginal de una variable es el cambio de la predicción del modelo al agregar esa variable a un conjunto de variables ya conocidas.\n",
    "\n"
   ]
  },
  {
   "cell_type": "markdown",
   "metadata": {},
   "source": [
    "# PCA\n",
    "\n"
   ]
  },
  {
   "cell_type": "markdown",
   "metadata": {},
   "source": [
    "# S learner\n",
    "\n"
   ]
  },
  {
   "cell_type": "markdown",
   "metadata": {},
   "source": [
    "# T learner\n",
    "\n"
   ]
  },
  {
   "cell_type": "markdown",
   "metadata": {},
   "source": [
    "# X learner\n",
    "\n"
   ]
  },
  {
   "cell_type": "markdown",
   "metadata": {},
   "source": []
  }
 ],
 "metadata": {
  "language_info": {
   "name": "python"
  }
 },
 "nbformat": 4,
 "nbformat_minor": 2
}

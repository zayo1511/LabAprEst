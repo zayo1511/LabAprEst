{
 "cells": [
  {
   "cell_type": "markdown",
   "id": "1aff1812-3c90-492c-91a5-fc4bdd9e127c",
   "metadata": {},
   "source": [
    "# Rossman dataset \n",
    "\n",
    "Fuente lightgbm: https://lightgbm.readthedocs.io/en/stable/\n",
    "\n",
    "https://www.kaggle.com/competitions/rossmann-store-sales/data\n",
    "\n",
    "- Id - an Id that represents a (Store, Date) duple within the test set\n",
    "- Store - a unique Id for each store\n",
    "- Sales - the turnover for any given day (this is what you are predicting)\n",
    "- Customers - the number of customers on a given day\n",
    "- Open - an indicator for whether the store was open: 0 = closed, 1 = open\n",
    "- StateHoliday - indicates a state holiday. Normally all stores, with few exceptions, are closed on state holidays. Note that all schools are closed on public holidays and weekends. a = public holiday, b = Easter holiday, c = Christmas, 0 = None\n",
    "- SchoolHoliday - indicates if the (Store, Date) was affected by the closure of public schools\n",
    "- StoreType - differentiates between 4 different store models: a, b, c, d\n",
    "- Assortment - describes an assortment level: a = basic, b = extra, c = extended\n",
    "- CompetitionDistance - distance in meters to the nearest competitor store\n",
    "- CompetitionOpenSince[Month/Year] - gives the approximate year and month of the time the nearest competitor was opened\n",
    "- Promo - indicates whether a store is running a promo on that day\n",
    "- Promo2 - Promo2 is a continuing and consecutive promotion for some stores: 0 = store is not participating, 1 = store is participating\n",
    "- Promo2Since[Year/Week] - describes the year and calendar week when the store started participating in Promo2\n",
    "- PromoInterval - describes the consecutive intervals Promo2 is started, naming the months the promotion is started anew. E.g. \"Feb,May,Aug,Nov\" means each round starts in February, May, August, November of any given year for that store"
   ]
  },
  {
   "cell_type": "code",
   "execution_count": 1,
   "id": "5e87506d-9256-411c-a66b-569f18f3a90b",
   "metadata": {},
   "outputs": [
    {
     "name": "stderr",
     "output_type": "stream",
     "text": [
      "/var/folders/tr/mb4tgd2j63j6tf50s0kl_p680000gn/T/ipykernel_25919/1565231979.py:11: DtypeWarning: Columns (7) have mixed types. Specify dtype option on import or set low_memory=False.\n",
      "  train = pd.read_csv('Data/rossman.csv')\n"
     ]
    }
   ],
   "source": [
    "import pandas as pd\n",
    "import numpy as np\n",
    "from xgboost import XGBRegressor, plot_importance\n",
    "from sklearn.metrics import r2_score\n",
    "import matplotlib.pyplot as plt\n",
    "\n",
    "# ----------------------------\n",
    "# CARGA Y PREPROCESAMIENTO\n",
    "# ----------------------------\n",
    "# Carga de datos\n",
    "train = pd.read_csv('Data/rossman.csv')\n",
    "stores = pd.read_csv('Data/store.csv')\n",
    "\n",
    "# Merge de ambos datasets\n",
    "df = pd.merge(train, stores, on='Store')\n",
    "\n",
    "# Convertir la columna de fecha\n",
    "df['Date'] = pd.to_datetime(df['Date'])\n",
    "\n",
    "# Ordenar por fecha para evitar leakage\n",
    "df = df.sort_values('Date')\n",
    "\n",
    "# Filtrar solo tiendas abiertas\n",
    "df = df[df['Open'] == 1]\n",
    "\n",
    "# ----------------------------\n",
    "# FEATURE ENGINEERING\n",
    "# ----------------------------\n",
    "\n",
    "# Variables temporales útiles\n",
    "df['month'] = df['Date'].dt.month\n",
    "df['day_of_month'] = df['Date'].dt.day\n",
    "df['week_of_year'] = df['Date'].dt.isocalendar().week.astype(int)\n",
    "\n",
    "# Eliminar columnas que no usaremos\n",
    "df = df.drop(columns=['Date', 'Store', 'Customers', 'Open'])\n",
    "\n"
   ]
  },
  {
   "cell_type": "code",
   "execution_count": null,
   "id": "70e20e58-f596-4cfb-a062-6aa2a781579a",
   "metadata": {},
   "outputs": [],
   "source": []
  },
  {
   "cell_type": "code",
   "execution_count": 2,
   "id": "6419bd1a-a1de-4ea4-a3a6-cb45879dd8f3",
   "metadata": {},
   "outputs": [],
   "source": [
    "# ----------------------------\n",
    "# SEPARACIÓN TEMPORAL: 80% pasado, 20% futuro\n",
    "# ----------------------------\n",
    "split_index = int(len(df) * 0.8)\n",
    "train_df = df.iloc[:split_index]\n",
    "test_df = df.iloc[split_index:]\n",
    "\n",
    "# Separar X y y\n",
    "target = 'Sales'\n",
    "X_train = train_df.drop(columns=target)\n",
    "y_train = train_df[target]\n",
    "X_test = test_df.drop(columns=target)\n",
    "y_test = test_df[target]\n",
    "\n",
    "# Codificar variables categóricas (después del split para evitar leakage)\n",
    "X_train = pd.get_dummies(X_train, drop_first=True)\n",
    "X_test = pd.get_dummies(X_test, drop_first=True)\n",
    "\n",
    "# Alinear columnas en test con train\n",
    "X_test = X_test.reindex(columns=X_train.columns, fill_value=0)\n",
    "\n",
    "# Asegura que los nombres de columna sean strings y estén limpios\n",
    "X_train.columns = X_train.columns.str.replace(r'[^\\w]', '_', regex=True)\n",
    "\n",
    "X_test.columns = X_test.columns.str.replace(r'[^\\w]', '_', regex=True)\n"
   ]
  },
  {
   "cell_type": "markdown",
   "id": "3425b0f8-8557-4015-b5ae-4ba162554a7d",
   "metadata": {},
   "source": [
    "### ⚙️ Tuneando LightGBM\n",
    "\n",
    "- **`num_iterations`** (`n_estimators` en `sklearn`):  \n",
    "  Número total de árboles a entrenar. Si usas `early_stopping_rounds`, puedes poner un número alto sin preocuparte por overfitting.\n",
    "\n",
    "- **`max_depth`**:  \n",
    "  Profundidad máxima de cada árbol. Profundidades mayores capturan más complejidad, pero pueden sobreajustar.\n",
    "\n",
    "- **`learning_rate`**:  \n",
    "  Qué tan rápido aprende el modelo. Valores más bajos requieren más árboles, pero suelen generalizar mejor.\n",
    "\n",
    "- **`subsample`** (`bagging_fraction`):  \n",
    "  Fracción de observaciones usadas en cada árbol. Ayuda a reducir overfitting. Requiere activar también `bagging_freq`.\n",
    "\n",
    "- **`feature_fraction`** (equivalente a `colsample_bytree` en XGBoost):  \n",
    "  Fracción de columnas (features) usadas en cada árbol. También ayuda a evitar sobreajuste.\n",
    "\n",
    "- **`early_stopping_rounds`**:  \n",
    "  Detiene el entrenamiento si la métrica en el conjunto de validación no mejora en N iteraciones. Requiere `valid_sets` y `eval_metric`.\n",
    "\n",
    "- **`metric`** (`eval_metric` en sklearn):  \n",
    "  Métrica usada durante entrenamiento para monitorear desempeño (ej: `'rmse'`, `'mae'`, `'binary_logloss'`, `'auc'`).\n",
    "\n",
    "- **`min_data_in_leaf`**:  \n",
    "  Número mínimo de muestras requeridas en una hoja. Sirve para evitar sobreajuste. Similar a `min_child_samples` en XGBoost y `min_data_in_leaf` en CatBoost.\n",
    "\n",
    "- **`lambda_l2`** (`reg_lambda` en sklearn):  \n",
    "  Regularización L2 (Ridge) aplicada a los pesos de las hojas. Ayuda a controlar la complejidad.\n",
    "\n",
    "- **`min_gain_to_split`** (`gamma` en XGBoost):  \n",
    "  Ganancia mínima necesaria para hacer un split. Controla qué tan fácilmente el árbol se ramifica → útil contra overfitting.\n",
    "\n",
    "\n",
    "    eval_set=[(X_train, y_train), (X_test, y_test)],\n",
    "    callbacks=[\n",
    "        early_stopping(20),\n",
    "        log_evaluation(100)\n",
    "    ]"
   ]
  },
  {
   "cell_type": "code",
   "execution_count": 3,
   "id": "3f13826d-1e77-4e32-b2c4-a901b01e4488",
   "metadata": {},
   "outputs": [
    {
     "name": "stdout",
     "output_type": "stream",
     "text": [
      "Training until validation scores don't improve for 20 rounds\n",
      "[100]\ttraining's rmse: 2247.8\tvalid_1's rmse: 2311.62\n",
      "[200]\ttraining's rmse: 2034.12\tvalid_1's rmse: 2111.21\n",
      "[300]\ttraining's rmse: 1878.92\tvalid_1's rmse: 1969.95\n",
      "[400]\ttraining's rmse: 1758.68\tvalid_1's rmse: 1860.77\n",
      "[500]\ttraining's rmse: 1671.47\tvalid_1's rmse: 1779.67\n",
      "[600]\ttraining's rmse: 1585.37\tvalid_1's rmse: 1701.58\n",
      "[700]\ttraining's rmse: 1495.36\tvalid_1's rmse: 1610.77\n",
      "[800]\ttraining's rmse: 1442.72\tvalid_1's rmse: 1560.81\n",
      "[900]\ttraining's rmse: 1390.66\tvalid_1's rmse: 1514.07\n",
      "[1000]\ttraining's rmse: 1343.31\tvalid_1's rmse: 1469.38\n",
      "[1100]\ttraining's rmse: 1304.87\tvalid_1's rmse: 1439.98\n",
      "[1200]\ttraining's rmse: 1272.82\tvalid_1's rmse: 1414.55\n",
      "[1300]\ttraining's rmse: 1249.67\tvalid_1's rmse: 1399.36\n",
      "[1400]\ttraining's rmse: 1226.28\tvalid_1's rmse: 1380.2\n",
      "[1500]\ttraining's rmse: 1201.03\tvalid_1's rmse: 1356.79\n",
      "[1600]\ttraining's rmse: 1180.22\tvalid_1's rmse: 1339.81\n",
      "[1700]\ttraining's rmse: 1160.9\tvalid_1's rmse: 1326.9\n",
      "[1800]\ttraining's rmse: 1147.71\tvalid_1's rmse: 1318.85\n",
      "[1900]\ttraining's rmse: 1128.62\tvalid_1's rmse: 1304.2\n",
      "[2000]\ttraining's rmse: 1113.63\tvalid_1's rmse: 1292.55\n",
      "[2100]\ttraining's rmse: 1099.73\tvalid_1's rmse: 1281.59\n",
      "[2200]\ttraining's rmse: 1088.19\tvalid_1's rmse: 1274.08\n",
      "[2300]\ttraining's rmse: 1075.25\tvalid_1's rmse: 1265.43\n",
      "[2400]\ttraining's rmse: 1064.08\tvalid_1's rmse: 1257.31\n",
      "[2500]\ttraining's rmse: 1056.53\tvalid_1's rmse: 1252.8\n",
      "Early stopping, best iteration is:\n",
      "[2571]\ttraining's rmse: 1049.71\tvalid_1's rmse: 1247.42\n",
      "R²: 0.8342\n"
     ]
    }
   ],
   "source": [
    "from lightgbm import LGBMRegressor, early_stopping, log_evaluation\n",
    "from sklearn.metrics import r2_score\n",
    "\n",
    "# Definir modelo\n",
    "model = LGBMRegressor(\n",
    "    n_estimators=10000,\n",
    "    num_leaves=10,\n",
    "    max_depth=5,\n",
    "    learning_rate=0.1,\n",
    "    colsample_bytree=0.8, \n",
    "    subsample=0.8,              \n",
    "    metric='rmse',\n",
    "    verbosity=-1  \n",
    ")\n",
    "\n",
    "# Entrenar\n",
    "model.fit(\n",
    "    X_train, y_train,\n",
    "    eval_set=[(X_train, y_train), (X_test, y_test)],\n",
    "    callbacks=[\n",
    "        early_stopping(20),\n",
    "        log_evaluation(100)\n",
    "    ]\n",
    ")\n",
    "\n",
    "# Extraer resultados\n",
    "results = model.evals_result_\n",
    "\n",
    "# Predicción y métricas\n",
    "y_pred = model.predict(X_test)\n",
    "r2 = r2_score(y_test, y_pred)\n",
    "print(f\"R²: {r2:.4f}\")\n",
    "\n"
   ]
  },
  {
   "cell_type": "code",
   "execution_count": null,
   "id": "c6c5a6dc-b68e-45c6-a0d4-4e01365b1c5c",
   "metadata": {},
   "outputs": [],
   "source": []
  },
  {
   "cell_type": "markdown",
   "id": "302fc621-17d6-4dd9-94cf-5e3e0a515b0a",
   "metadata": {},
   "source": [
    "### Cross validation "
   ]
  },
  {
   "cell_type": "code",
   "execution_count": 4,
   "id": "2bb279ff-0b0f-4aa2-ba42-21de7e5b81f1",
   "metadata": {},
   "outputs": [
    {
     "data": {
      "image/png": "[encoded data removed]",
      "text/plain": [
       "<Figure size 640x480 with 1 Axes>"
      ]
     },
     "metadata": {},
     "output_type": "display_data"
    }
   ],
   "source": [
    "plt.plot(results['training']['rmse'], label='Train RMSE')\n",
    "plt.plot(results['valid_1']['rmse'], label='Validation RMSE')\n",
    "plt.xlabel('Iteration')\n",
    "plt.ylabel('RMSE')\n",
    "\n",
    "plt.title('Train vs Validation RMSE')\n",
    "plt.legend()\n",
    "plt.grid(True)\n",
    "plt.tight_layout()\n",
    "plt.show()"
   ]
  },
  {
   "cell_type": "markdown",
   "id": "7db01699-328f-4201-b74e-8ed697775905",
   "metadata": {},
   "source": [
    "### ¿Donde convienre dar promociones?\n"
   ]
  },
  {
   "cell_type": "code",
   "execution_count": 10,
   "id": "7e269b83-1ab5-4a18-9e6e-789b2b28fdab",
   "metadata": {},
   "outputs": [
    {
     "data": {
      "text/html": [
       "<div>\n",
       "<style scoped>\n",
       "    .dataframe tbody tr th:only-of-type {\n",
       "        vertical-align: middle;\n",
       "    }\n",
       "\n",
       "    .dataframe tbody tr th {\n",
       "        vertical-align: top;\n",
       "    }\n",
       "\n",
       "    .dataframe thead th {\n",
       "        text-align: right;\n",
       "    }\n",
       "</style>\n",
       "<table border=\"1\" class=\"dataframe\">\n",
       "  <thead>\n",
       "    <tr style=\"text-align: right;\">\n",
       "      <th></th>\n",
       "      <th>DayOfWeek</th>\n",
       "      <th>Promo</th>\n",
       "      <th>SchoolHoliday</th>\n",
       "      <th>CompetitionDistance</th>\n",
       "      <th>CompetitionOpenSinceMonth</th>\n",
       "      <th>CompetitionOpenSinceYear</th>\n",
       "      <th>Promo2</th>\n",
       "      <th>Promo2SinceWeek</th>\n",
       "      <th>Promo2SinceYear</th>\n",
       "      <th>month</th>\n",
       "      <th>...</th>\n",
       "      <th>StateHoliday_a</th>\n",
       "      <th>StateHoliday_b</th>\n",
       "      <th>StateHoliday_c</th>\n",
       "      <th>StoreType_b</th>\n",
       "      <th>StoreType_c</th>\n",
       "      <th>StoreType_d</th>\n",
       "      <th>Assortment_b</th>\n",
       "      <th>Assortment_c</th>\n",
       "      <th>PromoInterval_Jan_Apr_Jul_Oct</th>\n",
       "      <th>PromoInterval_Mar_Jun_Sept_Dec</th>\n",
       "    </tr>\n",
       "  </thead>\n",
       "  <tbody>\n",
       "    <tr>\n",
       "      <th>203883</th>\n",
       "      <td>5</td>\n",
       "      <td>1</td>\n",
       "      <td>0</td>\n",
       "      <td>390.0</td>\n",
       "      <td>2.0</td>\n",
       "      <td>2013.0</td>\n",
       "      <td>1</td>\n",
       "      <td>10.0</td>\n",
       "      <td>2014.0</td>\n",
       "      <td>1</td>\n",
       "      <td>...</td>\n",
       "      <td>False</td>\n",
       "      <td>False</td>\n",
       "      <td>0</td>\n",
       "      <td>False</td>\n",
       "      <td>False</td>\n",
       "      <td>False</td>\n",
       "      <td>False</td>\n",
       "      <td>False</td>\n",
       "      <td>True</td>\n",
       "      <td>False</td>\n",
       "    </tr>\n",
       "  </tbody>\n",
       "</table>\n",
       "<p>1 rows × 23 columns</p>\n",
       "</div>"
      ],
      "text/plain": [
       "        DayOfWeek  Promo  SchoolHoliday  CompetitionDistance  \\\n",
       "203883          5      1              0                390.0   \n",
       "\n",
       "        CompetitionOpenSinceMonth  CompetitionOpenSinceYear  Promo2  \\\n",
       "203883                        2.0                    2013.0       1   \n",
       "\n",
       "        Promo2SinceWeek  Promo2SinceYear  month  ...  StateHoliday_a  \\\n",
       "203883             10.0           2014.0      1  ...           False   \n",
       "\n",
       "        StateHoliday_b  StateHoliday_c  StoreType_b  StoreType_c  StoreType_d  \\\n",
       "203883           False               0        False        False        False   \n",
       "\n",
       "        Assortment_b  Assortment_c  PromoInterval_Jan_Apr_Jul_Oct  \\\n",
       "203883         False         False                           True   \n",
       "\n",
       "        PromoInterval_Mar_Jun_Sept_Dec  \n",
       "203883                           False  \n",
       "\n",
       "[1 rows x 23 columns]"
      ]
     },
     "execution_count": 10,
     "metadata": {},
     "output_type": "execute_result"
    }
   ],
   "source": [
    "ejemplo = X_test.iloc[[1]]\n",
    "ejemplo"
   ]
  },
  {
   "cell_type": "markdown",
   "id": "d26a05ba-bfde-4dfe-a811-e31c6dd3e251",
   "metadata": {},
   "source": [
    "¿Cuanto le voy a ganar a este ejemplo, si doy Promociones?"
   ]
  },
  {
   "cell_type": "code",
   "execution_count": 11,
   "id": "209f3b6c-248f-41a5-a1eb-3a7c51568293",
   "metadata": {},
   "outputs": [
    {
     "data": {
      "text/plain": [
       "8113.410674568001"
      ]
     },
     "execution_count": 11,
     "metadata": {},
     "output_type": "execute_result"
    }
   ],
   "source": [
    "model.predict(ejemplo)[0]"
   ]
  },
  {
   "cell_type": "code",
   "execution_count": 12,
   "id": "3bbc7106-5f58-48aa-b77a-ae06e52c8b92",
   "metadata": {},
   "outputs": [
    {
     "data": {
      "text/plain": [
       "6390.640819986537"
      ]
     },
     "execution_count": 12,
     "metadata": {},
     "output_type": "execute_result"
    }
   ],
   "source": [
    "ejemplo_contrafactual = ejemplo.copy()\n",
    "ejemplo_contrafactual['Promo'] = 0\n",
    "model.predict(ejemplo_contrafactual)[0]"
   ]
  },
  {
   "cell_type": "markdown",
   "id": "f94eeb76-4593-4d1a-9a58-7e4a9d4df436",
   "metadata": {},
   "source": [
    "Efecto"
   ]
  },
  {
   "cell_type": "code",
   "execution_count": 13,
   "id": "f86a57b1-a6e4-4033-be64-3d1708a61789",
   "metadata": {},
   "outputs": [
    {
     "data": {
      "text/plain": [
       "1722.7698545814637"
      ]
     },
     "execution_count": 13,
     "metadata": {},
     "output_type": "execute_result"
    }
   ],
   "source": [
    "cate = model.predict(ejemplo)[0] - model.predict(ejemplo_contrafactual)[0]\n",
    "cate"
   ]
  },
  {
   "cell_type": "markdown",
   "id": "aef25db0-8868-4b3d-bce9-55ca4c1676c6",
   "metadata": {},
   "source": [
    "## Conditional average treatment effect (CATE)\n",
    "\n",
    "Para una covariable \\( X = x \\), el CATE se define como:\n",
    "\n",
    "$$\n",
    "\\text{CATE}(x) = \\mathbb{E}[Y(1) - Y(0) \\mid X = x]\n",
    "$$\n",
    "\n",
    "> Es decir, **el efecto esperado del tratamiento para individuos con características \\( X = x \\)**.\n"
   ]
  },
  {
   "cell_type": "code",
   "execution_count": null,
   "id": "0acde40e-4a7a-4b4b-9a04-09a64653df23",
   "metadata": {},
   "outputs": [],
   "source": []
  },
  {
   "cell_type": "markdown",
   "id": "e2b4ca11-c1fe-47f5-ab84-dc169f06ed52",
   "metadata": {},
   "source": [
    "## S-Learner\n",
    "\n",
    "Entrenar un modelo, uno de los features es el tratamiento y probar diferentes contrafactuales"
   ]
  },
  {
   "cell_type": "markdown",
   "id": "8363c2df-c9d7-43be-9b5f-a027eae58800",
   "metadata": {},
   "source": [
    "### Para todos los ejemplos que tienes, dime cual es el CATE "
   ]
  },
  {
   "cell_type": "code",
   "execution_count": 5,
   "id": "d661a376-c466-4e09-a5d0-5b89143839f9",
   "metadata": {},
   "outputs": [],
   "source": [
    "# Pon 0 a todas las promos\n",
    "\n",
    "# Pon 1 toda las promos\n"
   ]
  },
  {
   "cell_type": "code",
   "execution_count": 6,
   "id": "3d0371aa-32bf-4527-96b3-fac503de4879",
   "metadata": {},
   "outputs": [],
   "source": [
    "# Pon las predicciones en un df "
   ]
  },
  {
   "cell_type": "code",
   "execution_count": 7,
   "id": "3850eb8f-5784-4b86-bcd3-86a844288ee0",
   "metadata": {},
   "outputs": [],
   "source": [
    "# Calcula el CATE\n"
   ]
  },
  {
   "cell_type": "markdown",
   "id": "0ebe64aa-428c-41c2-b2fc-dade9c729394",
   "metadata": {},
   "source": [
    "#### Supon que las promociones me cuetan, en promedio $2,000. ¿A quien le doy promoción?"
   ]
  },
  {
   "cell_type": "code",
   "execution_count": 8,
   "id": "4cc8e1dd-3cd1-4d6a-946f-11626f81a4f4",
   "metadata": {},
   "outputs": [],
   "source": [
    "# ¿A partir de cuanto incremento en ventas doy promoción?\n"
   ]
  },
  {
   "cell_type": "markdown",
   "id": "8777a6c2-cf5a-43d8-b91d-0892c70b5f15",
   "metadata": {},
   "source": [
    "### T learner"
   ]
  },
  {
   "cell_type": "code",
   "execution_count": 9,
   "id": "5031dd42-91da-46c4-95af-69d3c7b9ac39",
   "metadata": {},
   "outputs": [],
   "source": [
    "# ----------------------------\n",
    "# SEPARACIÓN TEMPORAL: 80% pasado, 20% futuro\n",
    "# ----------------------------\n",
    "split_index = int(len(df) * 0.8)\n",
    "train_df = df.iloc[:split_index]\n",
    "test_df = df.iloc[split_index:]\n",
    "\n",
    "# Separar X y y\n",
    "target = 'Sales'\n",
    "X_train = train_df.drop(columns=target)\n",
    "y_train = train_df[target]\n",
    "X_test = test_df.drop(columns=target)\n",
    "y_test = test_df[target]\n",
    "\n",
    "# Codificar variables categóricas\n",
    "X_train = pd.get_dummies(X_train, drop_first=True)\n",
    "X_test = pd.get_dummies(X_test, drop_first=True)\n",
    "\n",
    "# Alinear columnas\n",
    "X_test = X_test.reindex(columns=X_train.columns, fill_value=0)\n",
    "X_train.columns = X_train.columns.str.replace(r'[^\\w]', '_', regex=True)\n",
    "X_test.columns = X_test.columns.str.replace(r'[^\\w]', '_', regex=True)\n",
    "\n",
    "# ----------------------------\n",
    "# SEPARAR POR PROMO (entrenamiento y prueba)\n",
    "# ----------------------------\n",
    "\n",
    "# Detectar la columna codificada de Promo\n",
    "promo_col = [col for col in X_train.columns if 'Promo' in col][0]  # asume binaria\n",
    "\n",
    "# Train: Promo = 1\n",
    "X_train_promo1 = X_train[X_train[promo_col] == 1]\n",
    "y_train_promo1 = y_train.loc[X_train_promo1.index]\n",
    "\n",
    "# Train: Promo = 0\n",
    "X_train_promo0 = X_train[X_train[promo_col] == 0]\n",
    "y_train_promo0 = y_train.loc[X_train_promo0.index]\n",
    "\n",
    "# Test: Promo = 1\n",
    "X_test_promo1 = X_test[X_test[promo_col] == 1]\n",
    "y_test_promo1 = y_test.loc[X_test_promo1.index]\n",
    "\n",
    "# Test: Promo = 0\n",
    "X_test_promo0 = X_test[X_test[promo_col] == 0]\n",
    "y_test_promo0 = y_test.loc[X_test_promo0.index]\n"
   ]
  },
  {
   "cell_type": "code",
   "execution_count": null,
   "id": "e67ab24f-60a7-404d-99d1-ca00bbcf0197",
   "metadata": {},
   "outputs": [],
   "source": []
  },
  {
   "cell_type": "code",
   "execution_count": null,
   "id": "4e1a1fab-5000-4355-af51-406a4d2cab45",
   "metadata": {},
   "outputs": [],
   "source": []
  },
  {
   "cell_type": "markdown",
   "id": "3264f0c7-a8b4-4455-9a0b-9809f4ab37aa",
   "metadata": {},
   "source": [
    "### Juntar ambos "
   ]
  },
  {
   "cell_type": "code",
   "execution_count": null,
   "id": "4e2eb64f-2ab6-4e98-91ea-29bc99906a04",
   "metadata": {},
   "outputs": [],
   "source": []
  },
  {
   "cell_type": "code",
   "execution_count": null,
   "id": "ff1009df-a128-4cb1-a0a0-4982a2ce73a8",
   "metadata": {},
   "outputs": [],
   "source": []
  },
  {
   "cell_type": "code",
   "execution_count": null,
   "id": "ccd82d1a-344f-4ac3-86c1-a637217876e8",
   "metadata": {},
   "outputs": [],
   "source": []
  }
 ],
 "metadata": {
  "kernelspec": {
   "display_name": "base",
   "language": "python",
   "name": "python3"
  },
  "language_info": {
   "codemirror_mode": {
    "name": "ipython",
    "version": 3
   },
   "file_extension": ".py",
   "mimetype": "text/x-python",
   "name": "python",
   "nbconvert_exporter": "python",
   "pygments_lexer": "ipython3",
   "version": "3.12.7"
  }
 },
 "nbformat": 4,
 "nbformat_minor": 5
}

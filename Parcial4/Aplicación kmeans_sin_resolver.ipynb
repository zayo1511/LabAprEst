{
 "cells": [
  {
   "cell_type": "markdown",
   "id": "df6b9dfd",
   "metadata": {},
   "source": [
    "### Aplicación kmeans"
   ]
  },
  {
   "cell_type": "code",
   "execution_count": 7,
   "id": "53c95ae4",
   "metadata": {},
   "outputs": [],
   "source": [
    "from sklearn.preprocessing import StandardScaler\n",
    "from sklearn.cluster import KMeans\n",
    "from sklearn.pipeline import Pipeline\n",
    "import matplotlib.pyplot as plt\n",
    "import pandas as pd\n",
    "import warnings\n",
    "warnings.filterwarnings(\"ignore\")\n",
    "\n",
    "# Cargar el archivo CSV subido\n",
    "df = pd.read_csv(\"housing.csv\")\n",
    "\n",
    "# Solo quedate con longitud, latitud y precio \n",
    "df = df[['median_house_value', 'latitude', 'longitude']]\n",
    "\n",
    "\n",
    "### Crae al pipeline y haz fit \n",
    "\n"
   ]
  },
  {
   "cell_type": "markdown",
   "id": "1bf710f3-dc6c-4fa7-8415-3984fb237f08",
   "metadata": {},
   "source": [
    "pipeline.named_steps['kmeans'].labels_\n"
   ]
  },
  {
   "cell_type": "code",
   "execution_count": 4,
   "id": "d6f82391-fb15-4f29-ad47-02cd634d5d90",
   "metadata": {},
   "outputs": [],
   "source": [
    "# Obten los clusters"
   ]
  },
  {
   "cell_type": "code",
   "execution_count": 5,
   "id": "8a63a8a7",
   "metadata": {},
   "outputs": [],
   "source": [
    "# Graficar\n"
   ]
  },
  {
   "cell_type": "markdown",
   "id": "bd4af5e4",
   "metadata": {},
   "source": [
    "### ¿Cuantos clusters escoger?"
   ]
  },
  {
   "cell_type": "code",
   "execution_count": 6,
   "id": "ca23ae57",
   "metadata": {},
   "outputs": [],
   "source": [
    "from sklearn.pipeline import Pipeline\n",
    "from sklearn.preprocessing import StandardScaler\n",
    "from sklearn.cluster import KMeans\n",
    "import matplotlib.pyplot as plt\n",
    "\n",
    "# Datos: ya filtrados en df\n",
    "X = df[['median_house_value', 'latitude', 'longitude']]\n",
    "\n",
    "\n",
    "# Guarda la varianza del cluster o \"inertia\"\n",
    "inertias = []\n",
    "\n",
    "# ¿Cuantos clusters probar?\n",
    "K_range = range(1, 11)\n",
    "\n",
    "\n",
    "# Gráfica del codo\n"
   ]
  },
  {
   "cell_type": "code",
   "execution_count": null,
   "id": "f88e02d0",
   "metadata": {},
   "outputs": [],
   "source": []
  }
 ],
 "metadata": {
  "kernelspec": {
   "display_name": "Python 3 (ipykernel)",
   "language": "python",
   "name": "python3"
  },
  "language_info": {
   "codemirror_mode": {
    "name": "ipython",
    "version": 3
   },
   "file_extension": ".py",
   "mimetype": "text/x-python",
   "name": "python",
   "nbconvert_exporter": "python",
   "pygments_lexer": "ipython3",
   "version": "3.10.16"
  }
 },
 "nbformat": 4,
 "nbformat_minor": 5
}

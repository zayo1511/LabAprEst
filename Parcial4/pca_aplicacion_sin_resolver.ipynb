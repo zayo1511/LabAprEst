{
 "cells": [
  {
   "cell_type": "code",
   "execution_count": 1,
   "id": "7b21d0a4-a98f-46a2-9995-3397b95dc0e9",
   "metadata": {},
   "outputs": [],
   "source": [
    "from sklearn.preprocessing import StandardScaler\n",
    "from sklearn.pipeline import Pipeline\n",
    "from sklearn.decomposition import PCA\n",
    "import matplotlib.pyplot as plt\n",
    "import pandas as pd\n",
    "\n",
    "# Cargar el archivo CSV subido\n",
    "df = pd.read_csv(\"Data/housing.csv\")\n",
    "#del df['ocean_proximity']\n",
    "df = pd.get_dummies(df)\n",
    "df = df.fillna(df.mean())\n",
    "\n",
    "X = df.drop(['median_house_value'], axis=1)\n",
    "y = df['median_house_value']\n",
    "\n",
    "nombres_limpios = [col.replace('<', '').replace('>', '').replace('[', '').replace(']', '') for col in X.columns]\n",
    "X.columns = nombres_limpios"
   ]
  },
  {
   "cell_type": "markdown",
   "id": "a283029c-50fc-4dde-b2a5-e7dc65c79905",
   "metadata": {},
   "source": [
    "### Escalar datos y hacer PCA"
   ]
  },
  {
   "cell_type": "code",
   "execution_count": 4,
   "id": "4f7bee90-5f69-4ab1-b16f-eae357927515",
   "metadata": {},
   "outputs": [
    {
     "data": {
      "text/html": [
       "<style>#sk-container-id-3 {color: black;background-color: white;}#sk-container-id-3 pre{padding: 0;}#sk-container-id-3 div.sk-toggleable {background-color: white;}#sk-container-id-3 label.sk-toggleable__label {cursor: pointer;display: block;width: 100%;margin-bottom: 0;padding: 0.3em;box-sizing: border-box;text-align: center;}#sk-container-id-3 label.sk-toggleable__label-arrow:before {content: \"▸\";float: left;margin-right: 0.25em;color: #696969;}#sk-container-id-3 label.sk-toggleable__label-arrow:hover:before {color: black;}#sk-container-id-3 div.sk-estimator:hover label.sk-toggleable__label-arrow:before {color: black;}#sk-container-id-3 div.sk-toggleable__content {max-height: 0;max-width: 0;overflow: hidden;text-align: left;background-color: #f0f8ff;}#sk-container-id-3 div.sk-toggleable__content pre {margin: 0.2em;color: black;border-radius: 0.25em;background-color: #f0f8ff;}#sk-container-id-3 input.sk-toggleable__control:checked~div.sk-toggleable__content {max-height: 200px;max-width: 100%;overflow: auto;}#sk-container-id-3 input.sk-toggleable__control:checked~label.sk-toggleable__label-arrow:before {content: \"▾\";}#sk-container-id-3 div.sk-estimator input.sk-toggleable__control:checked~label.sk-toggleable__label {background-color: #d4ebff;}#sk-container-id-3 div.sk-label input.sk-toggleable__control:checked~label.sk-toggleable__label {background-color: #d4ebff;}#sk-container-id-3 input.sk-hidden--visually {border: 0;clip: rect(1px 1px 1px 1px);clip: rect(1px, 1px, 1px, 1px);height: 1px;margin: -1px;overflow: hidden;padding: 0;position: absolute;width: 1px;}#sk-container-id-3 div.sk-estimator {font-family: monospace;background-color: #f0f8ff;border: 1px dotted black;border-radius: 0.25em;box-sizing: border-box;margin-bottom: 0.5em;}#sk-container-id-3 div.sk-estimator:hover {background-color: #d4ebff;}#sk-container-id-3 div.sk-parallel-item::after {content: \"\";width: 100%;border-bottom: 1px solid gray;flex-grow: 1;}#sk-container-id-3 div.sk-label:hover label.sk-toggleable__label {background-color: #d4ebff;}#sk-container-id-3 div.sk-serial::before {content: \"\";position: absolute;border-left: 1px solid gray;box-sizing: border-box;top: 0;bottom: 0;left: 50%;z-index: 0;}#sk-container-id-3 div.sk-serial {display: flex;flex-direction: column;align-items: center;background-color: white;padding-right: 0.2em;padding-left: 0.2em;position: relative;}#sk-container-id-3 div.sk-item {position: relative;z-index: 1;}#sk-container-id-3 div.sk-parallel {display: flex;align-items: stretch;justify-content: center;background-color: white;position: relative;}#sk-container-id-3 div.sk-item::before, #sk-container-id-3 div.sk-parallel-item::before {content: \"\";position: absolute;border-left: 1px solid gray;box-sizing: border-box;top: 0;bottom: 0;left: 50%;z-index: -1;}#sk-container-id-3 div.sk-parallel-item {display: flex;flex-direction: column;z-index: 1;position: relative;background-color: white;}#sk-container-id-3 div.sk-parallel-item:first-child::after {align-self: flex-end;width: 50%;}#sk-container-id-3 div.sk-parallel-item:last-child::after {align-self: flex-start;width: 50%;}#sk-container-id-3 div.sk-parallel-item:only-child::after {width: 0;}#sk-container-id-3 div.sk-dashed-wrapped {border: 1px dashed gray;margin: 0 0.4em 0.5em 0.4em;box-sizing: border-box;padding-bottom: 0.4em;background-color: white;}#sk-container-id-3 div.sk-label label {font-family: monospace;font-weight: bold;display: inline-block;line-height: 1.2em;}#sk-container-id-3 div.sk-label-container {text-align: center;}#sk-container-id-3 div.sk-container {/* jupyter's `normalize.less` sets `[hidden] { display: none; }` but bootstrap.min.css set `[hidden] { display: none !important; }` so we also need the `!important` here to be able to override the default hidden behavior on the sphinx rendered scikit-learn.org. See: https://github.com/scikit-learn/scikit-learn/issues/21755 */display: inline-block !important;position: relative;}#sk-container-id-3 div.sk-text-repr-fallback {display: none;}</style><div id=\"sk-container-id-3\" class=\"sk-top-container\"><div class=\"sk-text-repr-fallback\"><pre>Pipeline(steps=[(&#x27;scaler&#x27;, StandardScaler()), (&#x27;pca&#x27;, PCA())])</pre><b>In a Jupyter environment, please rerun this cell to show the HTML representation or trust the notebook. <br />On GitHub, the HTML representation is unable to render, please try loading this page with nbviewer.org.</b></div><div class=\"sk-container\" hidden><div class=\"sk-item sk-dashed-wrapped\"><div class=\"sk-label-container\"><div class=\"sk-label sk-toggleable\"><input class=\"sk-toggleable__control sk-hidden--visually\" id=\"sk-estimator-id-7\" type=\"checkbox\" ><label for=\"sk-estimator-id-7\" class=\"sk-toggleable__label sk-toggleable__label-arrow\">Pipeline</label><div class=\"sk-toggleable__content\"><pre>Pipeline(steps=[(&#x27;scaler&#x27;, StandardScaler()), (&#x27;pca&#x27;, PCA())])</pre></div></div></div><div class=\"sk-serial\"><div class=\"sk-item\"><div class=\"sk-estimator sk-toggleable\"><input class=\"sk-toggleable__control sk-hidden--visually\" id=\"sk-estimator-id-8\" type=\"checkbox\" ><label for=\"sk-estimator-id-8\" class=\"sk-toggleable__label sk-toggleable__label-arrow\">StandardScaler</label><div class=\"sk-toggleable__content\"><pre>StandardScaler()</pre></div></div></div><div class=\"sk-item\"><div class=\"sk-estimator sk-toggleable\"><input class=\"sk-toggleable__control sk-hidden--visually\" id=\"sk-estimator-id-9\" type=\"checkbox\" ><label for=\"sk-estimator-id-9\" class=\"sk-toggleable__label sk-toggleable__label-arrow\">PCA</label><div class=\"sk-toggleable__content\"><pre>PCA()</pre></div></div></div></div></div></div></div>"
      ],
      "text/plain": [
       "Pipeline(steps=[('scaler', StandardScaler()), ('pca', PCA())])"
      ]
     },
     "execution_count": 4,
     "metadata": {},
     "output_type": "execute_result"
    }
   ],
   "source": [
    "pipeline = Pipeline([\n",
    "     ('scaler', StandardScaler()),\n",
    "     ('pca', PCA())\n",
    "     ])\n",
    "\n",
    "pipeline.fit(X)"
   ]
  },
  {
   "cell_type": "code",
   "execution_count": null,
   "id": "20a19b6b-7bf7-4302-8f4f-1ddd532b061a",
   "metadata": {},
   "outputs": [],
   "source": []
  },
  {
   "cell_type": "code",
   "execution_count": 6,
   "id": "7657a93f-a785-40b0-a589-088225291cdd",
   "metadata": {},
   "outputs": [],
   "source": [
    "# Obten el objeto de PCA\n",
    "\n",
    "objeto_pca = pipeline.named_steps['pca']\n",
    "#objeto_pca.components_"
   ]
  },
  {
   "cell_type": "code",
   "execution_count": 7,
   "id": "7a19dc4b",
   "metadata": {},
   "outputs": [
    {
     "name": "stderr",
     "output_type": "stream",
     "text": [
      "/opt/anaconda3/lib/python3.12/site-packages/sklearn/base.py:432: UserWarning: X has feature names, but PCA was fitted without feature names\n",
      "  warnings.warn(\n"
     ]
    },
    {
     "data": {
      "text/html": [
       "<div>\n",
       "<style scoped>\n",
       "    .dataframe tbody tr th:only-of-type {\n",
       "        vertical-align: middle;\n",
       "    }\n",
       "\n",
       "    .dataframe tbody tr th {\n",
       "        vertical-align: top;\n",
       "    }\n",
       "\n",
       "    .dataframe thead th {\n",
       "        text-align: right;\n",
       "    }\n",
       "</style>\n",
       "<table border=\"1\" class=\"dataframe\">\n",
       "  <thead>\n",
       "    <tr style=\"text-align: right;\">\n",
       "      <th></th>\n",
       "      <th>PC1</th>\n",
       "      <th>PC2</th>\n",
       "      <th>PC3</th>\n",
       "      <th>PC4</th>\n",
       "      <th>PC5</th>\n",
       "      <th>PC6</th>\n",
       "      <th>PC7</th>\n",
       "      <th>PC8</th>\n",
       "      <th>PC9</th>\n",
       "      <th>PC10</th>\n",
       "      <th>PC11</th>\n",
       "      <th>PC12</th>\n",
       "      <th>PC13</th>\n",
       "    </tr>\n",
       "  </thead>\n",
       "  <tbody>\n",
       "    <tr>\n",
       "      <th>0</th>\n",
       "      <td>670.895120</td>\n",
       "      <td>210.843899</td>\n",
       "      <td>129.131352</td>\n",
       "      <td>9.474301</td>\n",
       "      <td>3.798542</td>\n",
       "      <td>8.491312</td>\n",
       "      <td>11.464932</td>\n",
       "      <td>198.623175</td>\n",
       "      <td>-35.469912</td>\n",
       "      <td>595.346108</td>\n",
       "      <td>-140.442436</td>\n",
       "      <td>48.154212</td>\n",
       "      <td>-0.382432</td>\n",
       "    </tr>\n",
       "    <tr>\n",
       "      <th>1</th>\n",
       "      <td>5591.032808</td>\n",
       "      <td>1122.294768</td>\n",
       "      <td>667.484368</td>\n",
       "      <td>135.737310</td>\n",
       "      <td>31.559182</td>\n",
       "      <td>70.891581</td>\n",
       "      <td>452.168819</td>\n",
       "      <td>1249.620855</td>\n",
       "      <td>-528.021203</td>\n",
       "      <td>4765.291874</td>\n",
       "      <td>-790.928471</td>\n",
       "      <td>572.886605</td>\n",
       "      <td>-0.382432</td>\n",
       "    </tr>\n",
       "    <tr>\n",
       "      <th>2</th>\n",
       "      <td>1085.192016</td>\n",
       "      <td>288.818544</td>\n",
       "      <td>178.540231</td>\n",
       "      <td>20.693642</td>\n",
       "      <td>2.038146</td>\n",
       "      <td>15.242896</td>\n",
       "      <td>56.978047</td>\n",
       "      <td>302.495059</td>\n",
       "      <td>-81.905715</td>\n",
       "      <td>1019.642061</td>\n",
       "      <td>-203.819208</td>\n",
       "      <td>91.635435</td>\n",
       "      <td>-0.382432</td>\n",
       "    </tr>\n",
       "    <tr>\n",
       "      <th>3</th>\n",
       "      <td>1064.119044</td>\n",
       "      <td>280.393770</td>\n",
       "      <td>174.324012</td>\n",
       "      <td>20.590318</td>\n",
       "      <td>35.593715</td>\n",
       "      <td>5.995339</td>\n",
       "      <td>37.608858</td>\n",
       "      <td>282.408587</td>\n",
       "      <td>-0.503009</td>\n",
       "      <td>837.319303</td>\n",
       "      <td>-167.663229</td>\n",
       "      <td>57.191237</td>\n",
       "      <td>-0.382432</td>\n",
       "    </tr>\n",
       "    <tr>\n",
       "      <th>4</th>\n",
       "      <td>1277.418188</td>\n",
       "      <td>324.038396</td>\n",
       "      <td>198.688862</td>\n",
       "      <td>27.533506</td>\n",
       "      <td>21.978548</td>\n",
       "      <td>12.966057</td>\n",
       "      <td>65.281270</td>\n",
       "      <td>333.923453</td>\n",
       "      <td>-116.325659</td>\n",
       "      <td>1081.059978</td>\n",
       "      <td>-213.867952</td>\n",
       "      <td>97.567089</td>\n",
       "      <td>-0.382432</td>\n",
       "    </tr>\n",
       "    <tr>\n",
       "      <th>...</th>\n",
       "      <td>...</td>\n",
       "      <td>...</td>\n",
       "      <td>...</td>\n",
       "      <td>...</td>\n",
       "      <td>...</td>\n",
       "      <td>...</td>\n",
       "      <td>...</td>\n",
       "      <td>...</td>\n",
       "      <td>...</td>\n",
       "      <td>...</td>\n",
       "      <td>...</td>\n",
       "      <td>...</td>\n",
       "      <td>...</td>\n",
       "    </tr>\n",
       "    <tr>\n",
       "      <th>20635</th>\n",
       "      <td>1512.904104</td>\n",
       "      <td>358.273224</td>\n",
       "      <td>209.847185</td>\n",
       "      <td>28.489143</td>\n",
       "      <td>61.489455</td>\n",
       "      <td>4.552128</td>\n",
       "      <td>53.293637</td>\n",
       "      <td>343.800031</td>\n",
       "      <td>63.300166</td>\n",
       "      <td>1060.326230</td>\n",
       "      <td>-184.913382</td>\n",
       "      <td>49.574549</td>\n",
       "      <td>-0.566777</td>\n",
       "    </tr>\n",
       "    <tr>\n",
       "      <th>20636</th>\n",
       "      <td>608.442702</td>\n",
       "      <td>196.513535</td>\n",
       "      <td>109.576670</td>\n",
       "      <td>4.540253</td>\n",
       "      <td>15.053135</td>\n",
       "      <td>3.844248</td>\n",
       "      <td>-11.454720</td>\n",
       "      <td>157.912468</td>\n",
       "      <td>37.313301</td>\n",
       "      <td>454.010218</td>\n",
       "      <td>-104.635603</td>\n",
       "      <td>-0.827280</td>\n",
       "      <td>-0.566777</td>\n",
       "    </tr>\n",
       "    <tr>\n",
       "      <th>20637</th>\n",
       "      <td>1976.282395</td>\n",
       "      <td>445.257949</td>\n",
       "      <td>258.805808</td>\n",
       "      <td>40.680238</td>\n",
       "      <td>59.601392</td>\n",
       "      <td>11.584927</td>\n",
       "      <td>94.339826</td>\n",
       "      <td>437.533483</td>\n",
       "      <td>-21.510687</td>\n",
       "      <td>1444.455317</td>\n",
       "      <td>-246.929186</td>\n",
       "      <td>96.584292</td>\n",
       "      <td>-0.566777</td>\n",
       "    </tr>\n",
       "    <tr>\n",
       "      <th>20638</th>\n",
       "      <td>1585.111778</td>\n",
       "      <td>377.583591</td>\n",
       "      <td>217.443417</td>\n",
       "      <td>32.176542</td>\n",
       "      <td>36.797961</td>\n",
       "      <td>12.388897</td>\n",
       "      <td>70.020362</td>\n",
       "      <td>360.771298</td>\n",
       "      <td>-95.998710</td>\n",
       "      <td>1188.193683</td>\n",
       "      <td>-217.378430</td>\n",
       "      <td>77.839773</td>\n",
       "      <td>-0.566777</td>\n",
       "    </tr>\n",
       "    <tr>\n",
       "      <th>20639</th>\n",
       "      <td>2519.469223</td>\n",
       "      <td>538.749535</td>\n",
       "      <td>315.843586</td>\n",
       "      <td>52.484339</td>\n",
       "      <td>94.007651</td>\n",
       "      <td>9.834414</td>\n",
       "      <td>127.062642</td>\n",
       "      <td>543.103090</td>\n",
       "      <td>88.082522</td>\n",
       "      <td>1789.966043</td>\n",
       "      <td>-276.906573</td>\n",
       "      <td>88.990239</td>\n",
       "      <td>-0.566777</td>\n",
       "    </tr>\n",
       "  </tbody>\n",
       "</table>\n",
       "<p>20640 rows × 13 columns</p>\n",
       "</div>"
      ],
      "text/plain": [
       "               PC1          PC2         PC3         PC4        PC5        PC6  \\\n",
       "0       670.895120   210.843899  129.131352    9.474301   3.798542   8.491312   \n",
       "1      5591.032808  1122.294768  667.484368  135.737310  31.559182  70.891581   \n",
       "2      1085.192016   288.818544  178.540231   20.693642   2.038146  15.242896   \n",
       "3      1064.119044   280.393770  174.324012   20.590318  35.593715   5.995339   \n",
       "4      1277.418188   324.038396  198.688862   27.533506  21.978548  12.966057   \n",
       "...            ...          ...         ...         ...        ...        ...   \n",
       "20635  1512.904104   358.273224  209.847185   28.489143  61.489455   4.552128   \n",
       "20636   608.442702   196.513535  109.576670    4.540253  15.053135   3.844248   \n",
       "20637  1976.282395   445.257949  258.805808   40.680238  59.601392  11.584927   \n",
       "20638  1585.111778   377.583591  217.443417   32.176542  36.797961  12.388897   \n",
       "20639  2519.469223   538.749535  315.843586   52.484339  94.007651   9.834414   \n",
       "\n",
       "              PC7          PC8         PC9         PC10        PC11  \\\n",
       "0       11.464932   198.623175  -35.469912   595.346108 -140.442436   \n",
       "1      452.168819  1249.620855 -528.021203  4765.291874 -790.928471   \n",
       "2       56.978047   302.495059  -81.905715  1019.642061 -203.819208   \n",
       "3       37.608858   282.408587   -0.503009   837.319303 -167.663229   \n",
       "4       65.281270   333.923453 -116.325659  1081.059978 -213.867952   \n",
       "...           ...          ...         ...          ...         ...   \n",
       "20635   53.293637   343.800031   63.300166  1060.326230 -184.913382   \n",
       "20636  -11.454720   157.912468   37.313301   454.010218 -104.635603   \n",
       "20637   94.339826   437.533483  -21.510687  1444.455317 -246.929186   \n",
       "20638   70.020362   360.771298  -95.998710  1188.193683 -217.378430   \n",
       "20639  127.062642   543.103090   88.082522  1789.966043 -276.906573   \n",
       "\n",
       "             PC12      PC13  \n",
       "0       48.154212 -0.382432  \n",
       "1      572.886605 -0.382432  \n",
       "2       91.635435 -0.382432  \n",
       "3       57.191237 -0.382432  \n",
       "4       97.567089 -0.382432  \n",
       "...           ...       ...  \n",
       "20635   49.574549 -0.566777  \n",
       "20636   -0.827280 -0.566777  \n",
       "20637   96.584292 -0.566777  \n",
       "20638   77.839773 -0.566777  \n",
       "20639   88.990239 -0.566777  \n",
       "\n",
       "[20640 rows x 13 columns]"
      ]
     },
     "execution_count": 7,
     "metadata": {},
     "output_type": "execute_result"
    }
   ],
   "source": [
    "X_pca = objeto_pca.transform(X)\n",
    "x_componentes = pd.DataFrame(X_pca, columns=[f'PC{i+1}' for i in range(X_pca.shape[1])])\n",
    "x_componentes"
   ]
  },
  {
   "cell_type": "markdown",
   "id": "7389dec7-2bfd-4c1d-b10a-2ca855ed92ea",
   "metadata": {},
   "source": [
    "### Varianza explicada\n",
    "\n",
    "Si la primera componente principal se obtiene con el eigenvalor que máximiza la varianza.\n",
    "\n",
    "La varianza explicada por cada componente principal \n",
    "\n",
    "$$varianza_i = \\frac{Eigenvalor_i}{\\Sigma{Eigenvalores}}$$\n"
   ]
  },
  {
   "cell_type": "code",
   "execution_count": null,
   "id": "7bed79dd-56c9-4691-ae2f-90308a8e5226",
   "metadata": {},
   "outputs": [],
   "source": []
  },
  {
   "cell_type": "markdown",
   "id": "4b121ee6-0b2b-4961-a9f2-5801df7410ee",
   "metadata": {},
   "source": [
    "### Entendiendo primera componente"
   ]
  },
  {
   "cell_type": "code",
   "execution_count": null,
   "id": "a1d91a1b-2f71-4e42-acc9-28f9488fb5a3",
   "metadata": {},
   "outputs": [],
   "source": []
  },
  {
   "cell_type": "code",
   "execution_count": null,
   "id": "e814ad66-b302-4072-abc6-c8ed1a7b7865",
   "metadata": {},
   "outputs": [],
   "source": []
  },
  {
   "cell_type": "markdown",
   "id": "d471f0db-7f7b-44a9-8a73-fc3a99732c02",
   "metadata": {},
   "source": [
    "### Entendiendo segunda componente"
   ]
  },
  {
   "cell_type": "code",
   "execution_count": null,
   "id": "95bfbe5e-d126-4bb7-8b41-406b72502a97",
   "metadata": {},
   "outputs": [],
   "source": []
  },
  {
   "cell_type": "code",
   "execution_count": null,
   "id": "4b60f07c-a1e4-4fac-926c-c4f4a6133167",
   "metadata": {},
   "outputs": [],
   "source": []
  },
  {
   "cell_type": "markdown",
   "id": "b7f88c76-a6df-4755-a272-90dbda10e7b1",
   "metadata": {},
   "source": [
    "### Obtener las componentes principales\n",
    "\n",
    "pd.DataFrame(X_pca, columns=[f'PC{i+1}' for i in range(X_pca.shape[1])])"
   ]
  },
  {
   "cell_type": "code",
   "execution_count": 114,
   "id": "5f3f0204-94d7-4ee4-9330-63c3bb531a6d",
   "metadata": {},
   "outputs": [],
   "source": [
    "\n",
    "# Transformar los datos\n",
    "\n",
    "# Crear DataFrame con nombres de columnas\n"
   ]
  },
  {
   "cell_type": "code",
   "execution_count": null,
   "id": "fc528f10-fd98-4a15-a68e-bd35a625a383",
   "metadata": {},
   "outputs": [],
   "source": []
  },
  {
   "cell_type": "markdown",
   "id": "861ac17f-3ca1-446a-b79b-b79e7046ac8a",
   "metadata": {},
   "source": [
    "### Visualizar componentes principales"
   ]
  },
  {
   "cell_type": "code",
   "execution_count": null,
   "id": "5f4907fe-c147-4fd2-807e-29363d46a3f5",
   "metadata": {},
   "outputs": [],
   "source": []
  },
  {
   "cell_type": "code",
   "execution_count": null,
   "id": "a02e226d-9e86-4fc6-b922-2cfa21db028b",
   "metadata": {},
   "outputs": [],
   "source": []
  },
  {
   "cell_type": "markdown",
   "id": "27c7d040-cbb3-4997-a95e-faa7ccb0fddc",
   "metadata": {},
   "source": [
    "## Modelos de datos\n",
    "\n",
    "### Primero con todos los features"
   ]
  },
  {
   "cell_type": "code",
   "execution_count": 116,
   "id": "4ffc97bb-e6e2-4755-976d-ae7cee5527c5",
   "metadata": {},
   "outputs": [
    {
     "data": {
      "text/plain": [
       "0.9310218522655087"
      ]
     },
     "execution_count": 116,
     "metadata": {},
     "output_type": "execute_result"
    }
   ],
   "source": [
    "from xgboost import XGBRegressor\n",
    "from sklearn.metrics import r2_score\n",
    "\n"
   ]
  },
  {
   "cell_type": "markdown",
   "id": "cddfd0fa-a4e4-4a91-be1d-752943d34bea",
   "metadata": {},
   "source": [
    "### Ahora con las componentes principales"
   ]
  },
  {
   "cell_type": "code",
   "execution_count": null,
   "id": "65f8fd65-0fa3-4272-a3e4-f544f98d5a17",
   "metadata": {},
   "outputs": [],
   "source": []
  },
  {
   "cell_type": "markdown",
   "id": "672411e2-006a-4deb-9c19-3ea90cf160cc",
   "metadata": {},
   "source": [
    "### Ahora solo con las primeras 3 componentes"
   ]
  },
  {
   "cell_type": "code",
   "execution_count": null,
   "id": "2ce81c4e-bf66-411f-b822-8b026abbcb79",
   "metadata": {},
   "outputs": [],
   "source": []
  },
  {
   "cell_type": "code",
   "execution_count": null,
   "id": "8d1c97df-1fc8-4e95-be85-31b5ddd2a9ae",
   "metadata": {},
   "outputs": [],
   "source": []
  },
  {
   "cell_type": "markdown",
   "id": "d5bf4196-ff38-40f2-9616-212f89b5c997",
   "metadata": {},
   "source": [
    "### Conclusión: a medida que agregamos más componentes aumenta el poder predictivo pero se pierde el objetivo inicial que es tener menos dimensiones"
   ]
  },
  {
   "cell_type": "markdown",
   "id": "938c9bb7-9eba-4eb1-9e6d-8ac6e94b418f",
   "metadata": {},
   "source": [
    "### Clustering + PCA"
   ]
  },
  {
   "cell_type": "code",
   "execution_count": 3,
   "id": "f325a769-f06e-43e9-b4b6-ca4e9d6612eb",
   "metadata": {},
   "outputs": [],
   "source": [
    "from sklearn.cluster import KMeans\n",
    "\n",
    "\n"
   ]
  },
  {
   "cell_type": "code",
   "execution_count": null,
   "id": "22940e32-0498-4941-9b94-e46d6ceb02e2",
   "metadata": {},
   "outputs": [],
   "source": []
  },
  {
   "cell_type": "code",
   "execution_count": null,
   "id": "d0fb1586-a4a7-4a83-8377-1c78ca11656d",
   "metadata": {},
   "outputs": [],
   "source": []
  },
  {
   "cell_type": "code",
   "execution_count": null,
   "id": "62f76f65-c922-4236-aaaf-50d6d16e04b7",
   "metadata": {},
   "outputs": [],
   "source": []
  },
  {
   "cell_type": "code",
   "execution_count": null,
   "id": "efdb14e2-8590-43b4-aef6-c594c5fdea8a",
   "metadata": {},
   "outputs": [],
   "source": []
  }
 ],
 "metadata": {
  "kernelspec": {
   "display_name": "base",
   "language": "python",
   "name": "python3"
  },
  "language_info": {
   "codemirror_mode": {
    "name": "ipython",
    "version": 3
   },
   "file_extension": ".py",
   "mimetype": "text/x-python",
   "name": "python",
   "nbconvert_exporter": "python",
   "pygments_lexer": "ipython3",
   "version": "3.12.7"
  }
 },
 "nbformat": 4,
 "nbformat_minor": 5
}

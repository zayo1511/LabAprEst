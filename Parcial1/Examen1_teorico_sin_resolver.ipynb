{
 "cells": [
  {
   "cell_type": "markdown",
   "metadata": {},
   "source": [
    "Diego Lozoya Morales | 745345"
   ]
  },
  {
   "cell_type": "code",
   "execution_count": 7,
   "metadata": {},
   "outputs": [],
   "source": [
    "import pandas as pd\n",
    "from sklearn import linear_model\n",
    "from sklearn.metrics import r2_score\n",
    "import numpy as np\n",
    "import statsmodels.formula.api as smf\n",
    "\n",
    "pd.set_option('display.float_format', '{:,.4f}'.format)"
   ]
  },
  {
   "cell_type": "markdown",
   "metadata": {},
   "source": [
    "### Sección 1: Conceptos Teóricos (40 puntos)\n",
    "**(5 pts) ¿Cuál es la diferencia entre una regresión lineal simple y una regresión lineal múltiple? Da un ejemplo de cada una.**\n",
    "\n",
    "Ambar regresiones buscan predecir una única variable dependiente. Una regresión lineal simple únicamente utiliza a una variable independiente para tratar de predecir, mientras que una regresión lineal múltiple utiliza varias variables independientes para predecir esta misma variable dependiente.\n",
    "\n",
    "La forma de visualizar una regresión lineal simple es: $\\hat{y} = \\beta_0 + \\beta_1 x$\n",
    "\n",
    "La forma de visualizar una regresión lineal múltiple es: $\\hat{y} = \\beta_0 + \\beta_1 x_1 + \\beta_2 x_2 + ... + + \\beta_n x_n$\n",
    "\n",
    "Un ejemplo sería sobre la venta de helado. En una regresión simple podría considerarse solo la temperatura para predecir la cantidad de helados vendidos (solamente se tiene una x). Con la regresión múltiple podrían utilizarse temperatura, día de la semana, dia feriado, humedad, etc. (x1, x2, ..., xn)\n",
    "\n",
    "**(5 pts) Explica el problema de overfitting y cómo podrías mitigarlo**\n",
    "\n",
    "El overfitting ocurre al alimentar a tu modelo con información que es inecesaria y que muchas veces es repetida entre si, pero presentada de manera diferente. El problema del overfitting es que arroja un falso resultado de ajuste (r2) para el modelo, por la memorización/repetición de los datos. Esto se puede mitigar utilizando variables escenciales en el modelo y sustituyendo las ya existentes en caso de hacer alguna transformación.\n",
    "\n",
    "**(5 pts) En regresión polinomial, ¿por qué es necesario realizar un análisis de validación cruzada antes de elegir el grado del polinomio?**\n",
    "\n",
    "Es necesario utilizar un análisis de validación cruzada (cross validation), ya que con esto se dividen los datos en train y test, para crear un modelo únicamente con el train y comprobar esto con el test. Esto funciona para evitar overfitting, ya que el modelo no memoriza los datos.\n",
    "\n",
    "**(5 pts) ¿Qué es una prueba de hipótesis en el contexto de regresión lineal? Explica cómo se interpreta el p-value de un coeficiente.**\n",
    "\n",
    "La prueba de hipotesis es una prueba que se hace a los coeficientes de la regresión, para medir su significancia/impacto al modelo. La métrica más comúnmente utilizada es el p-value. Si el p-value es mayor a 0.05 se descarta esa variable para su implementación en el modelo, ya que se dice que no hay evidencia necesaria para afirmar que su impacto sea significativo.\n",
    "\n",
    "**(5 pts) ¿Por qué convertir variables categóricas en dummies puede mejorar el desempeño de un modelo? ¿En qué casos podríamos usar una codificación diferente?**\n",
    "\n",
    "Convertir variables categoricas en dummies ayuda a mejorar el desempeño del modelo, ya que hace que la escala de las variables convertidas sea igual, lo que es muy importante en la comparación de una misma métrica. Un ejemplo de esto son los días de la semana. Si solamente se utilizan los día de la semana segmentados/categorizados tendrían un rango de 1 a 7, pero probablemente el modelo interprete que es mejor encontrar un 7 que un 1 únicamente por la diferencia de magnitud. Al hacerlos dummies nada más diría lunes si o no, martes si o no, etc. lo que evita esa posible discrepacia por diferencia de magnitudes.\n",
    "\n",
    "Existen casos en donde el orden de las variables es significativo para el modelo, por lo que utilizar los dummies no es la mejor opción, y tendría que buscarse alguna alternativa que si respete el orden natural dado.\n",
    "\n",
    "**(5 pts) Explica como se obtienen los coeficientes de una regresión lineal con decenso en gradiente (tanto para lineal como polinomio), me tiene que quedar claro que le entiendes**\n",
    "\n",
    "Se tiene la función de perdida, la cual por su forma se sabe que es cuadrática.\n",
    "\n",
    "$$L = \\frac{1}{2} \\Sigma (\\hat{y} - y)^2$$\n",
    "\n",
    "Si es lineal: $\\hat{y} = \\beta_0 + \\beta_1 x_1 + ... + \\beta_n x_n$\n",
    "\n",
    "Si es polinomial: $\\hat{y} = \\beta_0 + \\beta_1 x + \\beta_2 x^2 + ... + \\beta_n x^n$\n",
    "\n",
    "Se busca minimizar la pérdida, lo cual se realiza de forma recursiva de la siguiente manera:\n",
    "\n",
    "$$\\beta_n = \\beta_{n-1} - \\alpha \\frac{\\partial L}{\\partial \\beta}$$\n",
    "\n",
    "donde la fracción parcial se multiplica por $-\\alpha$, para ir alternando el signo del error y para que la tasa de aprendizaje no sea tan alta. Ya que esto se repite iterativamente, se espera que el resultado de la pérdida converga a 0 al actualizar las betas que ya se tienen.\n",
    "\n",
    "**(5 pts) Explica que es el teorema de Frisch-Waugh-Lovell**\n",
    "\n",
    "El teorema parte de la suposición de una regresión lineal múltiple\n",
    "\n",
    "$$\\hat{y} = \\beta_0 + \\beta_1 x_1 + \\beta_2 x_2 + \\beta_3 x_3$$\n",
    "\n",
    "Se hace una regresión sobre \"y\" excluyendo a x1\n",
    "\n",
    "$$\\hat{y} = \\theta_0 + \\theta_1 x_2 + \\theta_2 x_3$$\n",
    "\n",
    "Está regresión funciona con el resto de variables excepto x1\n",
    "\n",
    "$$y - \\hat{y} = \\text{residuales y}$$\n",
    "\n",
    "Los residuales de y son lo que x2 y x3 no pudieron explicar sobre la variable dependiente\n",
    "\n",
    "$$\\hat{x_1} = \\gamma_0 + \\gamma_1 x_2 + \\gamma_2 x_3$$\n",
    "\n",
    "Se trata de hacer una predicción de x1, con el resto de variables\n",
    "\n",
    "$$x_1 - \\hat{x_1} = \\text{residuales de x}$$\n",
    "\n",
    "Los residuales de x es lo que x2 y x3 no pudieron explicar de x1\n",
    "\n",
    "$$y - \\hat{y} = \\beta_1 (x_1 - \\hat{x_1})$$\n",
    "\n",
    "Los residuales de \"y\" son equivalentes a los residuales de x con coeficiente igual a la misma beta de la regresión original, lo que quiere decir que los residuales exponen el efecto causal de la variable que se esté analizando, en este caso x1. Ya que con esto puedes determinar el efecto causal, puedes ver el impacto de una de las variables sobre la predicción lo que te ayudaría a tener un mayor entendimiento sobre el modelo de predicción.\n",
    "\n",
    "**(5 pts) Explica que es K-nearest neighboors**\n",
    "\n",
    "Es un método con el cuál se determina el número de vecinos con el que se quiere trabajar, se calculan las distancias entre los puntos y se promedian los valores del k numero de vecinos más cercanos. Con base en estos valores se crea el modelo de predicción, en donde si un dato nuevo entra en una de las categorías de predice que la predicción será el proomedio de esos vecinos. La eficacia de este modelo depende del número de vecinos, lo que quiere decir, que se debe buscar el óptimo numero de vecinos para tener el modelo que mejor se ajuste a los datos.\n",
    "\n",
    "### Sección 2 (20 puntos)\n",
    "\n",
    "(10 pts) Dado el siguiente dataset de casas:\n",
    "\n",
    "```\n",
    "data = pd.DataFrame({\n",
    "    \"Tamaño_m2\": [50, 80, 120, 200, 150, 90, 175, 60, 220, 130],\n",
    "    \"Habitaciones\": [1, 2, 3, 4, 3, 2, 3, 1, 5, 3],\n",
    "    \"Precio_1000s\": [110, 170, 250, 400, 270, 200, 330, 190, 600, 380]  })\n",
    "````\n",
    "\n",
    "\n",
    "\n",
    "a) Ajusta una regresión lineal para predecir el precio en función del tamaño y número de habitaciones, dime el R2 y coeficientes.\n",
    "\n",
    "\n",
    "b) Imagina que el coeficiente de Tamaño es 2.5 y el coeficiente de Habitaciones es 20, ¿cómo interpretarías estos valores?  \n",
    "\n",
    "(20 pts) Imagina que entrenas un modelo de regresión polinomial de grado 5 y obtienes un 𝑅2 de 0.98 en el conjunto de entrenamiento y 0.65 en el conjunto de prueba.\n",
    "\n",
    "- a) ¿Qué problema podrías estar enfrentando?\n",
    "- b) ¿Cómo lo solucionarías sin reducir demasiado la capacidad del modelo?\n"
   ]
  },
  {
   "cell_type": "markdown",
   "metadata": {},
   "source": [
    "#### a)"
   ]
  },
  {
   "cell_type": "code",
   "execution_count": 8,
   "metadata": {},
   "outputs": [
    {
     "data": {
      "text/html": [
       "<div>\n",
       "<style scoped>\n",
       "    .dataframe tbody tr th:only-of-type {\n",
       "        vertical-align: middle;\n",
       "    }\n",
       "\n",
       "    .dataframe tbody tr th {\n",
       "        vertical-align: top;\n",
       "    }\n",
       "\n",
       "    .dataframe thead th {\n",
       "        text-align: right;\n",
       "    }\n",
       "</style>\n",
       "<table border=\"1\" class=\"dataframe\">\n",
       "  <thead>\n",
       "    <tr style=\"text-align: right;\">\n",
       "      <th></th>\n",
       "      <th>Tamaño_m2</th>\n",
       "      <th>Habitaciones</th>\n",
       "      <th>Precio_1000s</th>\n",
       "    </tr>\n",
       "  </thead>\n",
       "  <tbody>\n",
       "    <tr>\n",
       "      <th>0</th>\n",
       "      <td>50</td>\n",
       "      <td>1</td>\n",
       "      <td>110</td>\n",
       "    </tr>\n",
       "    <tr>\n",
       "      <th>1</th>\n",
       "      <td>80</td>\n",
       "      <td>2</td>\n",
       "      <td>170</td>\n",
       "    </tr>\n",
       "    <tr>\n",
       "      <th>2</th>\n",
       "      <td>120</td>\n",
       "      <td>3</td>\n",
       "      <td>250</td>\n",
       "    </tr>\n",
       "    <tr>\n",
       "      <th>3</th>\n",
       "      <td>200</td>\n",
       "      <td>4</td>\n",
       "      <td>400</td>\n",
       "    </tr>\n",
       "    <tr>\n",
       "      <th>4</th>\n",
       "      <td>150</td>\n",
       "      <td>3</td>\n",
       "      <td>270</td>\n",
       "    </tr>\n",
       "  </tbody>\n",
       "</table>\n",
       "</div>"
      ],
      "text/plain": [
       "   Tamaño_m2  Habitaciones  Precio_1000s\n",
       "0         50             1           110\n",
       "1         80             2           170\n",
       "2        120             3           250\n",
       "3        200             4           400\n",
       "4        150             3           270"
      ]
     },
     "execution_count": 8,
     "metadata": {},
     "output_type": "execute_result"
    }
   ],
   "source": [
    "data = pd.DataFrame({\n",
    "    \"Tamaño_m2\": [50, 80, 120, 200, 150, 90, 175, 60, 220, 130],\n",
    "    \"Habitaciones\": [1, 2, 3, 4, 3, 2, 3, 1, 5, 3],\n",
    "    \"Precio_1000s\": [110, 170, 250, 400, 270, 200, 330, 190, 600, 380]  })\n",
    "\n",
    "data.head()"
   ]
  },
  {
   "cell_type": "code",
   "execution_count": 9,
   "metadata": {},
   "outputs": [
    {
     "name": "stdout",
     "output_type": "stream",
     "text": [
      "R² Score: 0.8662\n",
      "\n",
      "Intercepto del modelo: -0.0869\n",
      "Coeficientes del modelo:\n"
     ]
    },
    {
     "data": {
      "text/html": [
       "<div>\n",
       "<style scoped>\n",
       "    .dataframe tbody tr th:only-of-type {\n",
       "        vertical-align: middle;\n",
       "    }\n",
       "\n",
       "    .dataframe tbody tr th {\n",
       "        vertical-align: top;\n",
       "    }\n",
       "\n",
       "    .dataframe thead th {\n",
       "        text-align: right;\n",
       "    }\n",
       "</style>\n",
       "<table border=\"1\" class=\"dataframe\">\n",
       "  <thead>\n",
       "    <tr style=\"text-align: right;\">\n",
       "      <th></th>\n",
       "      <th>names</th>\n",
       "      <th>coeficientes</th>\n",
       "    </tr>\n",
       "  </thead>\n",
       "  <tbody>\n",
       "    <tr>\n",
       "      <th>0</th>\n",
       "      <td>Tamaño_m2</td>\n",
       "      <td>0.4469</td>\n",
       "    </tr>\n",
       "    <tr>\n",
       "      <th>1</th>\n",
       "      <td>Habitaciones</td>\n",
       "      <td>86.3339</td>\n",
       "    </tr>\n",
       "  </tbody>\n",
       "</table>\n",
       "</div>"
      ],
      "text/plain": [
       "          names  coeficientes\n",
       "0     Tamaño_m2        0.4469\n",
       "1  Habitaciones       86.3339"
      ]
     },
     "metadata": {},
     "output_type": "display_data"
    }
   ],
   "source": [
    "target = 'Precio_1000s'\n",
    "y = data[target]\n",
    "\n",
    "X = data.copy().drop(target, axis=1)\n",
    "\n",
    "model = linear_model.LinearRegression().fit(X, y)\n",
    "predicciones = model.predict(X)\n",
    "\n",
    "r2 = r2_score(y_true=y, y_pred=predicciones)\n",
    "print(f\"R² Score: {r2:.4f}\")\n",
    "\n",
    "coeficientes = pd.DataFrame({\n",
    "     'names': X.keys(),\n",
    "     'coeficientes': model.coef_\n",
    "})\n",
    "\n",
    "print()\n",
    "print(f\"Intercepto del modelo: {model.intercept_:,.4f}\\nCoeficientes del modelo:\")\n",
    "display(coeficientes)"
   ]
  },
  {
   "cell_type": "markdown",
   "metadata": {},
   "source": [
    "#### b)\n",
    "\n",
    "Suponiendo que los coeficientes son 2.5 (Tamaño_m2) y 20 (Habitaciones), significarían que por cada metro cuadrado más que tenga la casa se espera un incremento en el precio de $2.5 mil, mientras que por cada habitación se espera un incremento en el precio de la casa de $20 mil. "
   ]
  },
  {
   "cell_type": "markdown",
   "metadata": {},
   "source": [
    "#### a)\n",
    "\n",
    "Suponiendo que se tiene un R2 de 0.98 en train y un R2 de 0.65 en test con un polinomio de grado 5, claramente indica overfitting, ya que el modelo se ajusta demasiado bien a los puntos ya conocidos, pero al momento de extrapolarlo a puntos no conocidos por el modelo pero si por el usuario, este tiene un ajuste muy inferior en comparación al train\n",
    "\n",
    "\n",
    "#### b)\n",
    "\n",
    "Para evitar esto podría tratar de aplicar regularizaciones Ridge que es menos intensa o Lasso en caso que esto no funcione. En ultima instancia quedaría reducir el grado del polinomio, por ejemplo a grado 4 y compara los R2 de train y test, para ver que tanto sigue memorizando el modelo. El optimo sería en el que el R2 del test sea el mayor, ya que quiere decir que es el que mejor capacidad de ajuste tiene ante datos nuevos."
   ]
  },
  {
   "cell_type": "markdown",
   "metadata": {},
   "source": [
    "### Sección 3: Implementación de Código (40 puntos)\n"
   ]
  },
  {
   "cell_type": "markdown",
   "metadata": {},
   "source": [
    "\n",
    "1- En el dataset Advertising.csv estan las ventas de una empresa y hay 3 canales de distribuición:\n",
    "    \n",
    "- radio\n",
    "- Televisión\n",
    "- Periodico\n",
    "\n",
    "\n",
    "La empresa quiere simplificar su operción y eliminar aquellos canales que no traen ventas.\n",
    "\n",
    "Dime que canal o canales no sirven con una prueba de hipotesis y una regresión\n",
    "\n",
    "\n",
    "    "
   ]
  },
  {
   "cell_type": "code",
   "execution_count": 10,
   "metadata": {},
   "outputs": [
    {
     "data": {
      "text/html": [
       "<div>\n",
       "<style scoped>\n",
       "    .dataframe tbody tr th:only-of-type {\n",
       "        vertical-align: middle;\n",
       "    }\n",
       "\n",
       "    .dataframe tbody tr th {\n",
       "        vertical-align: top;\n",
       "    }\n",
       "\n",
       "    .dataframe thead th {\n",
       "        text-align: right;\n",
       "    }\n",
       "</style>\n",
       "<table border=\"1\" class=\"dataframe\">\n",
       "  <thead>\n",
       "    <tr style=\"text-align: right;\">\n",
       "      <th></th>\n",
       "      <th>TV</th>\n",
       "      <th>radio</th>\n",
       "      <th>newspaper</th>\n",
       "      <th>sales</th>\n",
       "    </tr>\n",
       "  </thead>\n",
       "  <tbody>\n",
       "    <tr>\n",
       "      <th>0</th>\n",
       "      <td>230.1000</td>\n",
       "      <td>37.8000</td>\n",
       "      <td>69.2000</td>\n",
       "      <td>22.1000</td>\n",
       "    </tr>\n",
       "    <tr>\n",
       "      <th>1</th>\n",
       "      <td>44.5000</td>\n",
       "      <td>39.3000</td>\n",
       "      <td>45.1000</td>\n",
       "      <td>10.4000</td>\n",
       "    </tr>\n",
       "    <tr>\n",
       "      <th>2</th>\n",
       "      <td>17.2000</td>\n",
       "      <td>45.9000</td>\n",
       "      <td>69.3000</td>\n",
       "      <td>9.3000</td>\n",
       "    </tr>\n",
       "    <tr>\n",
       "      <th>3</th>\n",
       "      <td>151.5000</td>\n",
       "      <td>41.3000</td>\n",
       "      <td>58.5000</td>\n",
       "      <td>18.5000</td>\n",
       "    </tr>\n",
       "    <tr>\n",
       "      <th>4</th>\n",
       "      <td>180.8000</td>\n",
       "      <td>10.8000</td>\n",
       "      <td>58.4000</td>\n",
       "      <td>12.9000</td>\n",
       "    </tr>\n",
       "  </tbody>\n",
       "</table>\n",
       "</div>"
      ],
      "text/plain": [
       "        TV   radio  newspaper   sales\n",
       "0 230.1000 37.8000    69.2000 22.1000\n",
       "1  44.5000 39.3000    45.1000 10.4000\n",
       "2  17.2000 45.9000    69.3000  9.3000\n",
       "3 151.5000 41.3000    58.5000 18.5000\n",
       "4 180.8000 10.8000    58.4000 12.9000"
      ]
     },
     "execution_count": 10,
     "metadata": {},
     "output_type": "execute_result"
    }
   ],
   "source": [
    "data = pd.read_csv('Data/Advertising.csv')\n",
    "data.drop('Unnamed: 0', axis=1, inplace=True)\n",
    "data.head()"
   ]
  },
  {
   "cell_type": "code",
   "execution_count": 11,
   "metadata": {},
   "outputs": [
    {
     "data": {
      "text/html": [
       "<table class=\"simpletable\">\n",
       "<tr>\n",
       "      <td></td>         <th>coef</th>     <th>std err</th>      <th>t</th>      <th>P>|t|</th>  <th>[0.025</th>    <th>0.975]</th>  \n",
       "</tr>\n",
       "<tr>\n",
       "  <th>Intercept</th> <td>    2.9389</td> <td>    0.312</td> <td>    9.422</td> <td> 0.000</td> <td>    2.324</td> <td>    3.554</td>\n",
       "</tr>\n",
       "<tr>\n",
       "  <th>TV</th>        <td>    0.0458</td> <td>    0.001</td> <td>   32.809</td> <td> 0.000</td> <td>    0.043</td> <td>    0.049</td>\n",
       "</tr>\n",
       "<tr>\n",
       "  <th>radio</th>     <td>    0.1885</td> <td>    0.009</td> <td>   21.893</td> <td> 0.000</td> <td>    0.172</td> <td>    0.206</td>\n",
       "</tr>\n",
       "<tr>\n",
       "  <th>newspaper</th> <td>   -0.0010</td> <td>    0.006</td> <td>   -0.177</td> <td> 0.860</td> <td>   -0.013</td> <td>    0.011</td>\n",
       "</tr>\n",
       "</table>"
      ],
      "text/latex": [
       "\\begin{center}\n",
       "\\begin{tabular}{lcccccc}\n",
       "\\toprule\n",
       "                   & \\textbf{coef} & \\textbf{std err} & \\textbf{t} & \\textbf{P$> |$t$|$} & \\textbf{[0.025} & \\textbf{0.975]}  \\\\\n",
       "\\midrule\n",
       "\\textbf{Intercept} &       2.9389  &        0.312     &     9.422  &         0.000        &        2.324    &        3.554     \\\\\n",
       "\\textbf{TV}        &       0.0458  &        0.001     &    32.809  &         0.000        &        0.043    &        0.049     \\\\\n",
       "\\textbf{radio}     &       0.1885  &        0.009     &    21.893  &         0.000        &        0.172    &        0.206     \\\\\n",
       "\\textbf{newspaper} &      -0.0010  &        0.006     &    -0.177  &         0.860        &       -0.013    &        0.011     \\\\\n",
       "\\bottomrule\n",
       "\\end{tabular}\n",
       "\\end{center}"
      ],
      "text/plain": [
       "<class 'statsmodels.iolib.table.SimpleTable'>"
      ]
     },
     "execution_count": 11,
     "metadata": {},
     "output_type": "execute_result"
    }
   ],
   "source": [
    "result = smf.ols('sales ~ TV + radio + newspaper', data=data).fit()\n",
    "result.summary().tables[1]"
   ]
  },
  {
   "cell_type": "markdown",
   "metadata": {},
   "source": [
    "Con base en esta regresión lineal, se puede ver como cada uno de los medios de comunicación afecta a las ventas de la empresa. Tanto la televisión como el radio tienen coeficientes apreciables, 0.0458 y 0.1885 respectivamente. Además ambar cuantan con un p-value de 0, loq ue significa que si son importantes/influyentes en la construcción del modelo. Por otra parte el periodico unicamente cuenta con un coeficiente de -0.001 y un p-value de 0.86, lo que indica que es totalmente despreciable el efecto del periodico en el modelo, ya que supera el p-value de 0.05. Con base en esto se debería de realizar otra predicción ahora sin el periodico."
   ]
  },
  {
   "cell_type": "code",
   "execution_count": 12,
   "metadata": {},
   "outputs": [
    {
     "data": {
      "text/html": [
       "<table class=\"simpletable\">\n",
       "<tr>\n",
       "      <td></td>         <th>coef</th>     <th>std err</th>      <th>t</th>      <th>P>|t|</th>  <th>[0.025</th>    <th>0.975]</th>  \n",
       "</tr>\n",
       "<tr>\n",
       "  <th>Intercept</th> <td>    2.9211</td> <td>    0.294</td> <td>    9.919</td> <td> 0.000</td> <td>    2.340</td> <td>    3.502</td>\n",
       "</tr>\n",
       "<tr>\n",
       "  <th>TV</th>        <td>    0.0458</td> <td>    0.001</td> <td>   32.909</td> <td> 0.000</td> <td>    0.043</td> <td>    0.048</td>\n",
       "</tr>\n",
       "<tr>\n",
       "  <th>radio</th>     <td>    0.1880</td> <td>    0.008</td> <td>   23.382</td> <td> 0.000</td> <td>    0.172</td> <td>    0.204</td>\n",
       "</tr>\n",
       "</table>"
      ],
      "text/latex": [
       "\\begin{center}\n",
       "\\begin{tabular}{lcccccc}\n",
       "\\toprule\n",
       "                   & \\textbf{coef} & \\textbf{std err} & \\textbf{t} & \\textbf{P$> |$t$|$} & \\textbf{[0.025} & \\textbf{0.975]}  \\\\\n",
       "\\midrule\n",
       "\\textbf{Intercept} &       2.9211  &        0.294     &     9.919  &         0.000        &        2.340    &        3.502     \\\\\n",
       "\\textbf{TV}        &       0.0458  &        0.001     &    32.909  &         0.000        &        0.043    &        0.048     \\\\\n",
       "\\textbf{radio}     &       0.1880  &        0.008     &    23.382  &         0.000        &        0.172    &        0.204     \\\\\n",
       "\\bottomrule\n",
       "\\end{tabular}\n",
       "\\end{center}"
      ],
      "text/plain": [
       "<class 'statsmodels.iolib.table.SimpleTable'>"
      ]
     },
     "execution_count": 12,
     "metadata": {},
     "output_type": "execute_result"
    }
   ],
   "source": [
    "result = smf.ols('sales ~ TV + radio', data=data).fit()\n",
    "result.summary().tables[1]"
   ]
  },
  {
   "cell_type": "markdown",
   "metadata": {},
   "source": [
    "Se puede apreciar que se mantuvieron aproximadamente iguales los coeficientes anteriormente calculados y que aún son significativas ya que cuentan con un p-value menor a 0.05. Con base en esta ultima regresion se infiere que el metodo de más impacto es el radio, seguido de la televisión, lo que podría ser útil en caso de tener que priorizar su forma de publicidad."
   ]
  },
  {
   "cell_type": "code",
   "execution_count": null,
   "metadata": {},
   "outputs": [],
   "source": []
  }
 ],
 "metadata": {
  "kernelspec": {
   "display_name": "base",
   "language": "python",
   "name": "python3"
  },
  "language_info": {
   "codemirror_mode": {
    "name": "ipython",
    "version": 3
   },
   "file_extension": ".py",
   "mimetype": "text/x-python",
   "name": "python",
   "nbconvert_exporter": "python",
   "pygments_lexer": "ipython3",
   "version": "3.12.7"
  }
 },
 "nbformat": 4,
 "nbformat_minor": 4
}

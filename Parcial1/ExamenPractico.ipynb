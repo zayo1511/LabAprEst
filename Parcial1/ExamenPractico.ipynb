{
 "cells": [
  {
   "cell_type": "markdown",
   "metadata": {},
   "source": [
    "# Examen práctico \n",
    "## Parcial 1 Laboratorio de Aprendizaje Estadístico\n",
    "Diego Lozoya Morales | 745345"
   ]
  },
  {
   "cell_type": "markdown",
   "metadata": {},
   "source": [
    "# Paqueterías"
   ]
  },
  {
   "cell_type": "code",
   "execution_count": 1,
   "metadata": {},
   "outputs": [],
   "source": [
    "import numpy as np\n",
    "import pandas as pd\n",
    "import matplotlib.pyplot as plt\n",
    "from sklearn import linear_model\n",
    "from sklearn.metrics import mean_squared_error, r2_score\n",
    "from sklearn.model_selection import train_test_split\n",
    "from sklearn.preprocessing import PolynomialFeatures, StandardScaler\n",
    "from scipy import stats\n",
    "import statsmodels.formula.api as smf\n",
    "from sklearn.neighbors import KNeighborsRegressor\n",
    "from IPython.display import display\n",
    "\n",
    "import warnings\n",
    "warnings.filterwarnings('ignore')\n",
    "\n",
    "colors = [\"cornflowerblue\", \"indianred\", \"darkseagreen\", \"plum\", \"dimgray\"]"
   ]
  },
  {
   "cell_type": "markdown",
   "metadata": {},
   "source": [
    "# Funciones"
   ]
  },
  {
   "cell_type": "code",
   "execution_count": 2,
   "metadata": {},
   "outputs": [],
   "source": [
    "def calibracion(predicciones, y, bins):\n",
    "    df_calibracion = pd.DataFrame({\n",
    "        'predicciones':predicciones,\n",
    "        'y':y\n",
    "    })\n",
    "    df_calibracion['bins'] = pd.qcut(df_calibracion['predicciones'], q=bins, labels=False)+1\n",
    "    grouped = df_calibracion.groupby('bins').mean()\n",
    "\n",
    "    plt.figure(figsize=(10, 5))\n",
    "    plt.plot(grouped.predicciones, grouped.y, label=\"Modelo\", marker=\"o\", color=colors[0])\n",
    "    plt.plot(grouped.predicciones, grouped.predicciones, label=\"Real\", marker=\"o\", color=colors[1])\n",
    "    plt.xlabel(\"Prediccion\")\n",
    "    plt.ylabel(\"Real\")\n",
    "    plt.title(\"Calibración\")\n",
    "    plt.grid()\n",
    "    plt.legend()\n",
    "    plt.show()\n",
    "\n",
    "def vibariado(df, target):\n",
    "     for i in df.keys():\n",
    "          X = df[[i]]\n",
    "          model = linear_model.LinearRegression().fit(X, y)\n",
    "\n",
    "          if len(X.iloc[:, 0].unique()) < 5:\n",
    "               q = len(X.iloc[:, 0].unique())\n",
    "          else:\n",
    "               q = 10\n",
    "\n",
    "          df[X.keys()[0] + str(\"bin\")] = pd.qcut(df[X.keys()[0]], q=q, labels=False, duplicates=\"drop\") + 1\n",
    "          grouped = df.groupby((X.keys()[0] + str(\"bin\"))).mean()\n",
    "\n",
    "          plt.figure(figsize=(10,5))\n",
    "          plt.plot(grouped[X.keys()[0]].values, grouped.cnt.values, color=colors[0], marker='o')\n",
    "          plt.xlabel(f\"{X.keys()[0]} bins\")\n",
    "          plt.ylabel(target)\n",
    "          plt.title(f\"Análisis bivariado entre {X.keys()[0]} y {target}\")\n",
    "          plt.grid()\n",
    "          plt.show()\n",
    "\n",
    "          df = df.drop(columns=[X.keys()[0] + str(\"bin\")])\n",
    "\n",
    "          print()\n",
    "\n",
    "def comparacion(modelos, y):\n",
    "     plt.figure(figsize=(10, 5))\n",
    "\n",
    "     for i, modelo in enumerate(modelos):\n",
    "          col_pred = f'predicciones_{modelo}'\n",
    "\n",
    "          df_calibracion = pd.DataFrame({\n",
    "               'predicciones': globals()[col_pred],\n",
    "               'y': y\n",
    "          })\n",
    "\n",
    "          df_calibracion['bins'] = pd.qcut(df_calibracion['predicciones'], q=10, labels=False)+1\n",
    "          grouped = df_calibracion.groupby('bins').mean()\n",
    "          plt.plot(grouped['predicciones'].values, grouped['y'].values, marker='o', color=colors[i], label=modelos[i])\n",
    "\n",
    "     plt.plot(grouped['predicciones'].values, grouped['predicciones'].values, color=colors[4], linestyle=\"--\", label=\"Real\")\n",
    "     plt.xlabel(\"Valores predichos\")\n",
    "     plt.ylabel(\"Valores reales\")\n",
    "     plt.title(\"Comparación de modelos\")\n",
    "     plt.grid()\n",
    "     plt.legend()\n",
    "     plt.show()\n",
    "\n",
    "def graficas_KNN(resultados, nn_opt):\n",
    "     fig, axes = plt.subplots(1, 2, figsize=(15, 5))  \n",
    "\n",
    "     axes[0].plot(resultados.nn, resultados.r2, label='real', color=colors[0], marker='o')\n",
    "     axes[0].grid()\n",
    "     axes[0].set_title(\"$R^2$ Real\")\n",
    "     axes[0].set_xlabel(\"Nearest Neighbors\")\n",
    "     axes[0].set_ylabel(\"$R^2$\")\n",
    "\n",
    "     axes[1].plot(resultados.nn, resultados.r2_train, label='train', color=colors[1], marker='o')\n",
    "     axes[1].grid()\n",
    "     axes[1].set_title(\"$R^2$ Train\")\n",
    "     axes[1].set_xlabel(\"Nearest Neighbors\")\n",
    "     axes[1].set_ylabel(\"$R^2$\")\n",
    "\n",
    "     plt.show()\n",
    "\n",
    "     plt.figure(figsize=(15, 5))\n",
    "     plt.plot(resultados.nn, resultados.r2, label='Real', color=colors[0], marker='o')\n",
    "     plt.plot(resultados.nn, resultados.r2_train, label='Train', color=colors[1], marker='o')\n",
    "     plt.scatter(nn_opt, max(resultados.r2), label=f'Óptimo nn = {nn_opt}', color=colors[2], s=50, zorder=3)\n",
    "     plt.text(nn_opt, max(resultados.r2)-0.05, f\"Máximo $R^2$\", va='bottom')\n",
    "     plt.grid()\n",
    "     plt.legend()\n",
    "     plt.title(\"$R^2$ Real vs Train\")\n",
    "     plt.xlabel(\"Nearest Neighbors\")\n",
    "     plt.ylabel(\"$R^2$\")\n",
    "     plt.show()\n",
    "\n",
    "def AB_test(test, control):\n",
    "    # Mu\n",
    "    mu_test = test.mean()\n",
    "    mu_control = control.mean()\n",
    "\n",
    "    # SE\n",
    "    se_test = test.sem()\n",
    "    se_control = control.sem()\n",
    "\n",
    "    # Differences\n",
    "    mu_diff = mu_control - mu_test\n",
    "    se_diff = np.sqrt((test.var() / len(test) + (control.var() / len(control))))\n",
    "\n",
    "    # Z score and p value \n",
    "    z = mu_diff / se_diff\n",
    "\n",
    "    p_value = stats.norm.cdf(z)\n",
    "\n",
    "    print(f\"Intervalo variable test: ({mu_test - 2*se_test:,.4f}, {mu_test + 2*se_test:,.4f})\")\n",
    "    print(f\"Intervalo variable control: ({mu_control - 2*se_control:,.4f}, {mu_control + 2*se_control:,.4f})\")\n",
    "    print(f'Intervalo de confianza del efecto causal: ({mu_diff - 2*se_diff:,.4f}, {mu_diff + 2*se_diff:,.4f})')\n",
    "    print(f\"Z score {z:,.4f}\")\n",
    "    print(f\"P-value {p_value:,.4f}\")"
   ]
  },
  {
   "cell_type": "markdown",
   "metadata": {},
   "source": [
    "# Data"
   ]
  },
  {
   "cell_type": "code",
   "execution_count": null,
   "metadata": {},
   "outputs": [],
   "source": []
  },
  {
   "cell_type": "markdown",
   "metadata": {},
   "source": [
    "## Limpieza de datos"
   ]
  },
  {
   "cell_type": "code",
   "execution_count": null,
   "metadata": {},
   "outputs": [],
   "source": []
  },
  {
   "cell_type": "markdown",
   "metadata": {},
   "source": [
    "## Variable dependiente"
   ]
  },
  {
   "cell_type": "code",
   "execution_count": null,
   "metadata": {},
   "outputs": [],
   "source": []
  },
  {
   "cell_type": "markdown",
   "metadata": {},
   "source": [
    "# Análisis vibariado"
   ]
  },
  {
   "cell_type": "code",
   "execution_count": null,
   "metadata": {},
   "outputs": [],
   "source": []
  },
  {
   "cell_type": "markdown",
   "metadata": {},
   "source": [
    "# Preparación de datos"
   ]
  },
  {
   "cell_type": "markdown",
   "metadata": {},
   "source": [
    "## Cross validation"
   ]
  },
  {
   "cell_type": "code",
   "execution_count": null,
   "metadata": {},
   "outputs": [],
   "source": []
  },
  {
   "cell_type": "markdown",
   "metadata": {},
   "source": [
    "## Scaler"
   ]
  },
  {
   "cell_type": "code",
   "execution_count": null,
   "metadata": {},
   "outputs": [],
   "source": []
  },
  {
   "cell_type": "markdown",
   "metadata": {},
   "source": [
    "# Regresión lineal simple"
   ]
  },
  {
   "cell_type": "code",
   "execution_count": null,
   "metadata": {},
   "outputs": [],
   "source": []
  },
  {
   "cell_type": "markdown",
   "metadata": {},
   "source": [
    "# Regresión lineal múltiple"
   ]
  },
  {
   "cell_type": "code",
   "execution_count": null,
   "metadata": {},
   "outputs": [],
   "source": []
  },
  {
   "cell_type": "markdown",
   "metadata": {},
   "source": [
    "# Regresión polinomial"
   ]
  },
  {
   "cell_type": "code",
   "execution_count": null,
   "metadata": {},
   "outputs": [],
   "source": []
  },
  {
   "cell_type": "markdown",
   "metadata": {},
   "source": [
    "# AB testing"
   ]
  },
  {
   "cell_type": "code",
   "execution_count": null,
   "metadata": {},
   "outputs": [],
   "source": []
  },
  {
   "cell_type": "markdown",
   "metadata": {},
   "source": [
    "# KNN"
   ]
  },
  {
   "cell_type": "code",
   "execution_count": null,
   "metadata": {},
   "outputs": [],
   "source": []
  },
  {
   "cell_type": "markdown",
   "metadata": {},
   "source": [
    "# Conclusiones generales"
   ]
  },
  {
   "cell_type": "markdown",
   "metadata": {},
   "source": []
  }
 ],
 "metadata": {
  "kernelspec": {
   "display_name": "base",
   "language": "python",
   "name": "python3"
  },
  "language_info": {
   "codemirror_mode": {
    "name": "ipython",
    "version": 3
   },
   "file_extension": ".py",
   "mimetype": "text/x-python",
   "name": "python",
   "nbconvert_exporter": "python",
   "pygments_lexer": "ipython3",
   "version": "3.12.7"
  }
 },
 "nbformat": 4,
 "nbformat_minor": 2
}

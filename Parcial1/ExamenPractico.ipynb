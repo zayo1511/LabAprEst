{
 "cells": [
  {
   "cell_type": "markdown",
   "metadata": {},
   "source": [
    "# Examen práctico \n",
    "## Parcial 1 Laboratorio de Aprendizaje Estadístico\n",
    "Diego Lozoya Morales | 745345"
   ]
  },
  {
   "cell_type": "markdown",
   "metadata": {},
   "source": [
    "# Paqueterías"
   ]
  },
  {
   "cell_type": "code",
   "execution_count": 1,
   "metadata": {},
   "outputs": [],
   "source": [
    "import numpy as np\n",
    "import pandas as pd\n",
    "import matplotlib.pyplot as plt\n",
    "from sklearn import linear_model\n",
    "from sklearn.metrics import mean_squared_error, r2_score\n",
    "from sklearn.model_selection import train_test_split\n",
    "from sklearn.preprocessing import PolynomialFeatures, StandardScaler\n",
    "from scipy import stats\n",
    "import statsmodels.formula.api as smf\n",
    "from sklearn.neighbors import KNeighborsRegressor\n",
    "from IPython.display import display\n",
    "\n",
    "import warnings\n",
    "warnings.filterwarnings('ignore')\n",
    "\n",
    "colors = [\"cornflowerblue\", \"indianred\", \"darkseagreen\", \"plum\", \"dimgray\"]"
   ]
  },
  {
   "cell_type": "markdown",
   "metadata": {},
   "source": [
    "# Funciones"
   ]
  },
  {
   "cell_type": "code",
   "execution_count": 23,
   "metadata": {},
   "outputs": [],
   "source": [
    "def calibracion(predicciones, y, bins):\n",
    "    df_calibracion = pd.DataFrame({\n",
    "        'predicciones':predicciones,\n",
    "        'y':y\n",
    "    })\n",
    "    df_calibracion['bins'] = pd.qcut(df_calibracion['predicciones'], q=bins, labels=False)+1\n",
    "    grouped = df_calibracion.groupby('bins').mean()\n",
    "\n",
    "    plt.figure(figsize=(10, 5))\n",
    "    plt.plot(grouped.predicciones, grouped.y, label=\"Modelo\", marker=\"o\", color=colors[0])\n",
    "    plt.plot(grouped.predicciones, grouped.predicciones, label=\"Real\", marker=\"o\", color=colors[1])\n",
    "    plt.xlabel(\"Prediccion\")\n",
    "    plt.ylabel(\"Real\")\n",
    "    plt.title(\"Calibración\")\n",
    "    plt.grid()\n",
    "    plt.legend()\n",
    "    plt.show()\n",
    "\n",
    "def vibariado(df, y):\n",
    "    target = y.name\n",
    "    num_vars = len(df.keys().drop(target))\n",
    "    num_rows = (num_vars + 1) // 2  # Asegura que haya suficientes filas\n",
    "    \n",
    "    fig, axes = plt.subplots(num_rows, 2, figsize=(15, 5 * num_rows))\n",
    "    axes = axes.flatten()\n",
    "    \n",
    "    for idx, i in enumerate(df.keys().drop(target)):\n",
    "        X = df[[i]]\n",
    "        model = linear_model.LinearRegression().fit(X, y)\n",
    "        \n",
    "        q = len(X.iloc[:, 0].unique()) if len(X.iloc[:, 0].unique()) < 5 else 10\n",
    "        df[i + \"_bin\"] = pd.qcut(df[i], q=q, labels=False, duplicates=\"drop\") + 1\n",
    "        grouped = df.groupby(i + \"_bin\").mean()\n",
    "        \n",
    "        ax = axes[idx]\n",
    "        ax.plot(grouped[i].values, grouped[target].values, color=colors[0], marker='o')\n",
    "        ax.set_xlabel(f\"{i} bins\")\n",
    "        ax.set_ylabel(target)\n",
    "        ax.set_title(f\"Análisis bivariado entre {i} y {target}\")\n",
    "        ax.grid()\n",
    "        \n",
    "        df.drop(columns=[i + \"_bin\"], inplace=True)\n",
    "    \n",
    "    plt.tight_layout()\n",
    "    plt.show()\n",
    "\n",
    "def comparacion(modelos, y):\n",
    "     plt.figure(figsize=(10, 5))\n",
    "\n",
    "     for i, modelo in enumerate(modelos):\n",
    "          col_pred = f'predicciones_{modelo}'\n",
    "\n",
    "          df_calibracion = pd.DataFrame({\n",
    "               'predicciones': globals()[col_pred],\n",
    "               'y': y\n",
    "          })\n",
    "\n",
    "          df_calibracion['bins'] = pd.qcut(df_calibracion['predicciones'], q=10, labels=False)+1\n",
    "          grouped = df_calibracion.groupby('bins').mean()\n",
    "          plt.plot(grouped['predicciones'].values, grouped['y'].values, marker='o', color=colors[i], label=modelos[i])\n",
    "\n",
    "     plt.plot(grouped['predicciones'].values, grouped['predicciones'].values, color=colors[-1], linestyle=\"--\", label=\"Real\")\n",
    "     plt.xlabel(\"Valores predichos\")\n",
    "     plt.ylabel(\"Valores reales\")\n",
    "     plt.title(\"Comparación de modelos\")\n",
    "     plt.grid()\n",
    "     plt.legend()\n",
    "     plt.show()\n",
    "\n",
    "def graficas_KNN(resultados, nn_opt):\n",
    "     fig, axes = plt.subplots(1, 2, figsize=(15, 5))  \n",
    "\n",
    "     axes[0].plot(resultados.nn, resultados.r2, label='real', color=colors[0], marker='o')\n",
    "     axes[0].grid()\n",
    "     axes[0].set_title(\"$R^2$ Real\")\n",
    "     axes[0].set_xlabel(\"Nearest Neighbors\")\n",
    "     axes[0].set_ylabel(\"$R^2$\")\n",
    "\n",
    "     axes[1].plot(resultados.nn, resultados.r2_train, label='train', color=colors[1], marker='o')\n",
    "     axes[1].grid()\n",
    "     axes[1].set_title(\"$R^2$ Train\")\n",
    "     axes[1].set_xlabel(\"Nearest Neighbors\")\n",
    "     axes[1].set_ylabel(\"$R^2$\")\n",
    "\n",
    "     plt.show()\n",
    "\n",
    "     plt.figure(figsize=(15, 5))\n",
    "     plt.plot(resultados.nn, resultados.r2, label='Real', color=colors[0], marker='o')\n",
    "     plt.plot(resultados.nn, resultados.r2_train, label='Train', color=colors[1], marker='o')\n",
    "     plt.scatter(nn_opt, max(resultados.r2), label=f'Óptimo nn = {nn_opt}', color=colors[2], s=50, zorder=3)\n",
    "     plt.text(nn_opt, max(resultados.r2)-0.05, f\"Máximo $R^2$\", va='bottom')\n",
    "     plt.grid()\n",
    "     plt.legend()\n",
    "     plt.title(\"$R^2$ Real vs Train\")\n",
    "     plt.xlabel(\"Nearest Neighbors\")\n",
    "     plt.ylabel(\"$R^2$\")\n",
    "     plt.show()\n",
    "\n",
    "def AB_test(test, control):\n",
    "    # Mu\n",
    "    mu_test = test.mean()\n",
    "    mu_control = control.mean()\n",
    "\n",
    "    # SE\n",
    "    se_test = test.sem()\n",
    "    se_control = control.sem()\n",
    "\n",
    "    # Differences\n",
    "    mu_diff = mu_control - mu_test\n",
    "    se_diff = np.sqrt((test.var() / len(test) + (control.var() / len(control))))\n",
    "\n",
    "    # Z score and p value \n",
    "    z = mu_diff / se_diff\n",
    "\n",
    "    p_value = stats.norm.cdf(z)\n",
    "\n",
    "    print(f\"Intervalo variable test: ({mu_test - 2*se_test:,.4f}, {mu_test + 2*se_test:,.4f})\")\n",
    "    print(f\"Intervalo variable control: ({mu_control - 2*se_control:,.4f}, {mu_control + 2*se_control:,.4f})\")\n",
    "    print(f'Intervalo de confianza del efecto causal: ({mu_diff - 2*se_diff:,.4f}, {mu_diff + 2*se_diff:,.4f})')\n",
    "    print(f\"Z score {z:,.4f}\")\n",
    "    print(f\"P-value {p_value:,.4f}\")"
   ]
  },
  {
   "cell_type": "markdown",
   "metadata": {},
   "source": [
    "# Data"
   ]
  },
  {
   "cell_type": "code",
   "execution_count": null,
   "metadata": {},
   "outputs": [],
   "source": [
    "data = pd.read_csv(\"Data/Boston.csv\")\n",
    "data.head()"
   ]
  },
  {
   "cell_type": "markdown",
   "metadata": {},
   "source": [
    "## Explicación variables Dataset\n",
    "\n",
    "CRIM - per capita crime rate by town\n",
    "\n",
    "ZN - proportion of residential land zoned for lots over 25,000 sq.ft.\n",
    "\n",
    "INDUS - proportion of non-retail business acres per town.\n",
    "\n",
    "CHAS - Charles River dummy variable (1 if tract bounds river; 0 otherwise)\n",
    "\n",
    "NOX - nitric oxides concentration (parts per 10 million)\n",
    "\n",
    "RM - average number of rooms per dwelling\n",
    "\n",
    "AGE - proportion of owner-occupied units built prior to 1940\n",
    "\n",
    "DIS - weighted distances to five Boston employment centres\n",
    "\n",
    "RAD - index of accessibility to radial highways\n",
    "\n",
    "TAX - full-value property-tax rate per $10,000\n",
    "\n",
    "PTRATIO - pupil-teacher ratio by town\n",
    "\n",
    "B - 1000(Bk - 0.63)^2 where Bk is the proportion of blacks by town\n",
    "\n",
    "LSTAT - % lower status of the population\n",
    "\n",
    "MEDV - Median value of owner-occupied homes in $1000's"
   ]
  },
  {
   "cell_type": "markdown",
   "metadata": {},
   "source": [
    "## Limpieza de datos"
   ]
  },
  {
   "cell_type": "code",
   "execution_count": null,
   "metadata": {},
   "outputs": [],
   "source": [
    "data.drop('Unnamed: 0', axis=1, inplace=True)\n",
    "data.head()"
   ]
  },
  {
   "cell_type": "markdown",
   "metadata": {},
   "source": [
    "## Variable dependiente"
   ]
  },
  {
   "cell_type": "code",
   "execution_count": 5,
   "metadata": {},
   "outputs": [],
   "source": [
    "target = 'medv'\n",
    "y = data[target]"
   ]
  },
  {
   "cell_type": "markdown",
   "metadata": {},
   "source": [
    "# Análisis vibariado Dataset original"
   ]
  },
  {
   "cell_type": "code",
   "execution_count": null,
   "metadata": {},
   "outputs": [],
   "source": [
    "vibariado(data, y)"
   ]
  },
  {
   "cell_type": "markdown",
   "metadata": {},
   "source": [
    "# Feature engineering"
   ]
  },
  {
   "cell_type": "markdown",
   "metadata": {},
   "source": [
    "## Transformaciones\n",
    "\n",
    "- Logaritmo de la tasa de crimen per capita por ciudad\n",
    "- Logaritmo de la concentración de óxido nitrico\n",
    "- Cuadrado de número de cuartos promedio por vivienda\n",
    "- Raíz de la distancia ponderada de 5 centros de empleo en Boston\n",
    "- Logaritmo del valor total de la propiedad por la tasa de impuestos por $10,000"
   ]
  },
  {
   "cell_type": "code",
   "execution_count": null,
   "metadata": {},
   "outputs": [],
   "source": [
    "data['log_crim'] = np.log(data['crim'])\n",
    "data['log_nox'] = np.log(data['nox'])\n",
    "data['rm_2'] = data['rm'] ** 2\n",
    "data['sqrt_dis'] = np.sqrt(data['dis'])\n",
    "data['log_tax'] = np.log(data['tax'])"
   ]
  },
  {
   "cell_type": "markdown",
   "metadata": {},
   "source": [
    "## Análisis vibariado"
   ]
  },
  {
   "cell_type": "code",
   "execution_count": null,
   "metadata": {},
   "outputs": [],
   "source": [
    "vibariado(data, y)"
   ]
  },
  {
   "cell_type": "markdown",
   "metadata": {},
   "source": [
    "# Significancia de variables"
   ]
  },
  {
   "cell_type": "code",
   "execution_count": null,
   "metadata": {},
   "outputs": [],
   "source": [
    "controls = data.keys().drop(target)\n",
    "\n",
    "result = smf.ols('medv ~ ' + '+'.join(controls), data=data).fit()\n",
    "result.summary().tables[1]"
   ]
  },
  {
   "cell_type": "code",
   "execution_count": null,
   "metadata": {},
   "outputs": [],
   "source": [
    "controls = controls.drop('indus')\n",
    "data.drop('indus', axis=1, inplace=True)\n",
    "\n",
    "result = smf.ols('medv ~ ' + '+'.join(controls), data=data).fit()\n",
    "result.summary().tables[1]"
   ]
  },
  {
   "cell_type": "code",
   "execution_count": null,
   "metadata": {},
   "outputs": [],
   "source": [
    "controls = controls.drop('age')\n",
    "data.drop('age', axis=1, inplace=True)\n",
    "\n",
    "\n",
    "result = smf.ols('medv ~ ' + '+'.join(controls), data=data).fit()\n",
    "result.summary().tables[1]"
   ]
  },
  {
   "cell_type": "markdown",
   "metadata": {},
   "source": [
    "# Preparación de datos"
   ]
  },
  {
   "cell_type": "markdown",
   "metadata": {},
   "source": [
    "## Cross validation"
   ]
  },
  {
   "cell_type": "code",
   "execution_count": 11,
   "metadata": {},
   "outputs": [],
   "source": [
    "X = data.copy().drop(target, axis=1)\n",
    "X = pd.get_dummies(X, columns=['rad'])\n",
    "\n",
    "X_train, X_test, y_train, y_test = train_test_split(X, y, test_size=0.2, random_state=42)"
   ]
  },
  {
   "cell_type": "markdown",
   "metadata": {},
   "source": [
    "## Scaler"
   ]
  },
  {
   "cell_type": "code",
   "execution_count": 12,
   "metadata": {},
   "outputs": [],
   "source": [
    "scaler = StandardScaler()\n",
    "X_train_scaled = scaler.fit_transform(X_train)\n",
    "X_test_scaled = scaler.transform(X_test)"
   ]
  },
  {
   "cell_type": "markdown",
   "metadata": {},
   "source": [
    "# Regresión lineal múltiple"
   ]
  },
  {
   "cell_type": "markdown",
   "metadata": {},
   "source": [
    "## Modelo normal"
   ]
  },
  {
   "cell_type": "code",
   "execution_count": null,
   "metadata": {},
   "outputs": [],
   "source": [
    "model = linear_model.LinearRegression().fit(X_train_scaled, y_train)\n",
    "predicciones_RLM = model.predict(X_test_scaled)\n",
    "\n",
    "r2 = r2_score(y_true=y_test, y_pred=predicciones_RLM)\n",
    "print(f\"R² Score: {r2:,.4f}\")\n",
    "\n",
    "mse = mean_squared_error(y_true=y_test, y_pred=predicciones_RLM)\n",
    "print(f\"MSE: {mse:,.4f}\")\n",
    "\n",
    "coeficientes = pd.DataFrame({\n",
    "     'names': X.keys(),\n",
    "     'coeficientes': model.coef_\n",
    "})\n",
    "\n",
    "print()\n",
    "print(f\"Intercepto del modelo: {model.intercept_:,.2f}\\nCoeficientes del modelo:\")\n",
    "display(coeficientes)"
   ]
  },
  {
   "cell_type": "markdown",
   "metadata": {},
   "source": [
    "### Calibración"
   ]
  },
  {
   "cell_type": "code",
   "execution_count": null,
   "metadata": {},
   "outputs": [],
   "source": [
    "calibracion(predicciones_RLM, y_test, 25)"
   ]
  },
  {
   "cell_type": "markdown",
   "metadata": {},
   "source": [
    "## Regularización Ridge"
   ]
  },
  {
   "cell_type": "code",
   "execution_count": null,
   "metadata": {},
   "outputs": [],
   "source": [
    "model = linear_model.Ridge().fit(X_train_scaled, y_train)\n",
    "predicciones_RLM_ridge = model.predict(X_test_scaled)\n",
    "\n",
    "r2 = r2_score(y_true=y_test, y_pred=predicciones_RLM_ridge)\n",
    "print(f\"R² Score: {r2:,.4f}\")\n",
    "\n",
    "mse = mean_squared_error(y_true=y_test, y_pred=predicciones_RLM_ridge)\n",
    "print(f\"MSE: {mse:,.4f}\")\n",
    "\n",
    "coeficientes = pd.DataFrame({\n",
    "     'names': X.keys(),\n",
    "     'coeficientes': model.coef_\n",
    "})\n",
    "\n",
    "print()\n",
    "print(f\"Intercepto del modelo: {model.intercept_:,.2f}\\nCoeficientes del modelo:\")\n",
    "display(coeficientes)"
   ]
  },
  {
   "cell_type": "markdown",
   "metadata": {},
   "source": [
    "### Calibración"
   ]
  },
  {
   "cell_type": "code",
   "execution_count": null,
   "metadata": {},
   "outputs": [],
   "source": [
    "calibracion(predicciones_RLM_ridge, y_test, 25)"
   ]
  },
  {
   "cell_type": "markdown",
   "metadata": {},
   "source": [
    "## Regularización Lasso"
   ]
  },
  {
   "cell_type": "code",
   "execution_count": null,
   "metadata": {},
   "outputs": [],
   "source": [
    "model = linear_model.Lasso().fit(X_train_scaled, y_train)\n",
    "predicciones_RLM_lasso = model.predict(X_test_scaled)\n",
    "\n",
    "r2 = r2_score(y_true=y_test, y_pred=predicciones_RLM_lasso)\n",
    "print(f\"R² Score: {r2:,.4f}\")\n",
    "\n",
    "mse = mean_squared_error(y_true=y_test, y_pred=predicciones_RLM_lasso)\n",
    "print(f\"MSE: {mse:,.4f}\")\n",
    "\n",
    "coeficientes = pd.DataFrame({\n",
    "     'names': X.keys(),\n",
    "     'coeficientes': model.coef_\n",
    "})\n",
    "\n",
    "print()\n",
    "print(f\"Intercepto del modelo: {model.intercept_:,.2f}\\nCoeficientes del modelo:\")\n",
    "display(coeficientes)"
   ]
  },
  {
   "cell_type": "markdown",
   "metadata": {},
   "source": [
    "### Calibración"
   ]
  },
  {
   "cell_type": "code",
   "execution_count": null,
   "metadata": {},
   "outputs": [],
   "source": [
    "calibracion(predicciones_RLM_lasso, y_test, 25)"
   ]
  },
  {
   "cell_type": "markdown",
   "metadata": {},
   "source": [
    "## Comparación modelos"
   ]
  },
  {
   "cell_type": "code",
   "execution_count": null,
   "metadata": {},
   "outputs": [],
   "source": [
    "modelos = ['RLM', 'RLM_ridge', 'RLM_lasso']\n",
    "\n",
    "comparacion(modelos, y_test)"
   ]
  },
  {
   "cell_type": "markdown",
   "metadata": {},
   "source": [
    "# Regresión polinomial"
   ]
  },
  {
   "cell_type": "markdown",
   "metadata": {},
   "source": [
    "## Grado 2"
   ]
  },
  {
   "cell_type": "code",
   "execution_count": null,
   "metadata": {},
   "outputs": [],
   "source": [
    "degree = 2\n",
    "\n",
    "poly_features = PolynomialFeatures(degree=degree)\n",
    "X_poly_train = poly_features.fit_transform(X_train_scaled)\n",
    "X_poly_test = poly_features.fit_transform(X_test_scaled)"
   ]
  },
  {
   "cell_type": "markdown",
   "metadata": {},
   "source": [
    "### Modelo Normal"
   ]
  },
  {
   "cell_type": "code",
   "execution_count": null,
   "metadata": {},
   "outputs": [],
   "source": [
    "model = linear_model.LinearRegression().fit(X_poly_train, y_train)\n",
    "predicciones_poly2 = model.predict(X_poly_test)\n",
    "\n",
    "r2 = r2_score(y_true=y_test, y_pred=predicciones_poly2)\n",
    "print(f\"R² Score: {r2:,.4f}\")\n",
    "\n",
    "mse = mean_squared_error(y_true=y_test, y_pred=predicciones_poly2)\n",
    "print(f\"MSE: {mse:,.4f}\")"
   ]
  },
  {
   "cell_type": "markdown",
   "metadata": {},
   "source": [
    "#### Calibración"
   ]
  },
  {
   "cell_type": "code",
   "execution_count": null,
   "metadata": {},
   "outputs": [],
   "source": [
    "calibracion(predicciones_poly2, y_test, 25)"
   ]
  },
  {
   "cell_type": "markdown",
   "metadata": {},
   "source": [
    "### Regularización Ridge"
   ]
  },
  {
   "cell_type": "code",
   "execution_count": null,
   "metadata": {},
   "outputs": [],
   "source": [
    "model = linear_model.Ridge().fit(X_poly_train, y_train)\n",
    "predicciones_poly2_ridge = model.predict(X_poly_test)\n",
    "\n",
    "r2 = r2_score(y_true=y_test, y_pred=predicciones_poly2_ridge)\n",
    "print(f\"R² Score: {r2:,.4f}\")\n",
    "\n",
    "mse = mean_squared_error(y_true=y_test, y_pred=predicciones_poly2_ridge)\n",
    "print(f\"MSE: {mse:,.4f}\")"
   ]
  },
  {
   "cell_type": "markdown",
   "metadata": {},
   "source": [
    "#### Calibración"
   ]
  },
  {
   "cell_type": "code",
   "execution_count": null,
   "metadata": {},
   "outputs": [],
   "source": [
    "calibracion(predicciones_poly2_ridge, y_test, 25)"
   ]
  },
  {
   "cell_type": "markdown",
   "metadata": {},
   "source": [
    "### Regularización Lasso"
   ]
  },
  {
   "cell_type": "code",
   "execution_count": null,
   "metadata": {},
   "outputs": [],
   "source": [
    "model = linear_model.Lasso().fit(X_poly_train, y_train)\n",
    "predicciones_poly2_lasso = model.predict(X_poly_test)\n",
    "\n",
    "r2 = r2_score(y_true=y_test, y_pred=predicciones_poly2_lasso)\n",
    "print(f\"R² Score: {r2:,.4f}\")\n",
    "\n",
    "mse = mean_squared_error(y_true=y_test, y_pred=predicciones_poly2_lasso)\n",
    "print(f\"MSE: {mse:,.4f}\")"
   ]
  },
  {
   "cell_type": "markdown",
   "metadata": {},
   "source": [
    "#### Calibración"
   ]
  },
  {
   "cell_type": "code",
   "execution_count": null,
   "metadata": {},
   "outputs": [],
   "source": [
    "calibracion(predicciones_poly2_lasso, y_test, 25)"
   ]
  },
  {
   "cell_type": "markdown",
   "metadata": {},
   "source": [
    "## Comparación modelos"
   ]
  },
  {
   "cell_type": "code",
   "execution_count": null,
   "metadata": {},
   "outputs": [],
   "source": [
    "modelos = ['poly2', 'poly2_ridge', 'poly2_lasso']\n",
    "\n",
    "comparacion(modelos, y_test)"
   ]
  },
  {
   "cell_type": "markdown",
   "metadata": {},
   "source": [
    "## Grado 3"
   ]
  },
  {
   "cell_type": "code",
   "execution_count": null,
   "metadata": {},
   "outputs": [],
   "source": [
    "degree = 3\n",
    "\n",
    "poly_features = PolynomialFeatures(degree=degree)\n",
    "X_poly_train = poly_features.fit_transform(X_train_scaled)\n",
    "X_poly_test = poly_features.fit_transform(X_test_scaled)"
   ]
  },
  {
   "cell_type": "markdown",
   "metadata": {},
   "source": [
    "### Modelo Normal"
   ]
  },
  {
   "cell_type": "code",
   "execution_count": null,
   "metadata": {},
   "outputs": [],
   "source": [
    "model = linear_model.LinearRegression().fit(X_poly_train, y_train)\n",
    "predicciones_poly3 = model.predict(X_poly_test)\n",
    "\n",
    "r2 = r2_score(y_true=y_test, y_pred=predicciones_poly3)\n",
    "print(f\"R² Score: {r2:,.4f}\")\n",
    "\n",
    "mse = mean_squared_error(y_true=y_test, y_pred=predicciones_poly3)\n",
    "print(f\"MSE: {mse:,.4f}\")"
   ]
  },
  {
   "cell_type": "markdown",
   "metadata": {},
   "source": [
    "#### Calibración"
   ]
  },
  {
   "cell_type": "code",
   "execution_count": null,
   "metadata": {},
   "outputs": [],
   "source": [
    "calibracion(predicciones_poly3, y_test, 25)"
   ]
  },
  {
   "cell_type": "markdown",
   "metadata": {},
   "source": [
    "### Regularización Ridge"
   ]
  },
  {
   "cell_type": "code",
   "execution_count": null,
   "metadata": {},
   "outputs": [],
   "source": [
    "model = linear_model.Ridge().fit(X_poly_train, y_train)\n",
    "predicciones_poly3_ridge = model.predict(X_poly_test)\n",
    "\n",
    "r2 = r2_score(y_true=y_test, y_pred=predicciones_poly3_ridge)\n",
    "print(f\"R² Score: {r2:,.4f}\")\n",
    "\n",
    "mse = mean_squared_error(y_true=y_test, y_pred=predicciones_poly3_ridge)\n",
    "print(f\"MSE: {mse:,.4f}\")"
   ]
  },
  {
   "cell_type": "markdown",
   "metadata": {},
   "source": [
    "#### Calibración"
   ]
  },
  {
   "cell_type": "code",
   "execution_count": null,
   "metadata": {},
   "outputs": [],
   "source": [
    "calibracion(predicciones_poly3_ridge, y_test, 25)"
   ]
  },
  {
   "cell_type": "markdown",
   "metadata": {},
   "source": [
    "### Regularización Lasso"
   ]
  },
  {
   "cell_type": "code",
   "execution_count": null,
   "metadata": {},
   "outputs": [],
   "source": [
    "model = linear_model.Lasso().fit(X_poly_train, y_train)\n",
    "predicciones_poly3_lasso = model.predict(X_poly_test)\n",
    "\n",
    "r2 = r2_score(y_true=y_test, y_pred=predicciones_poly3_lasso)\n",
    "print(f\"R² Score: {r2:,.4f}\")\n",
    "\n",
    "mse = mean_squared_error(y_true=y_test, y_pred=predicciones_poly3_lasso)\n",
    "print(f\"MSE: {mse:,.4f}\")"
   ]
  },
  {
   "cell_type": "markdown",
   "metadata": {},
   "source": [
    "#### Calibración"
   ]
  },
  {
   "cell_type": "code",
   "execution_count": null,
   "metadata": {},
   "outputs": [],
   "source": [
    "calibracion(predicciones_poly3_lasso, y_test, 25)"
   ]
  },
  {
   "cell_type": "markdown",
   "metadata": {},
   "source": [
    "## Comparación modelos"
   ]
  },
  {
   "cell_type": "code",
   "execution_count": null,
   "metadata": {},
   "outputs": [],
   "source": [
    "modelos = ['poly3', 'poly3_ridge', 'poly3_lasso']\n",
    "\n",
    "comparacion(modelos, y_test)"
   ]
  },
  {
   "cell_type": "markdown",
   "metadata": {},
   "source": [
    "## Grado 4"
   ]
  },
  {
   "cell_type": "code",
   "execution_count": null,
   "metadata": {},
   "outputs": [],
   "source": [
    "degree = 4\n",
    "\n",
    "poly_features = PolynomialFeatures(degree=degree)\n",
    "X_poly_train = poly_features.fit_transform(X_train_scaled)\n",
    "X_poly_test = poly_features.fit_transform(X_test_scaled)"
   ]
  },
  {
   "cell_type": "markdown",
   "metadata": {},
   "source": [
    "### Modelo Normal"
   ]
  },
  {
   "cell_type": "code",
   "execution_count": null,
   "metadata": {},
   "outputs": [],
   "source": [
    "model = linear_model.LinearRegression().fit(X_poly_train, y_train)\n",
    "predicciones_poly4 = model.predict(X_poly_test)\n",
    "\n",
    "r2 = r2_score(y_true=y_test, y_pred=predicciones_poly4)\n",
    "print(f\"R² Score: {r2:,.4f}\")\n",
    "\n",
    "mse = mean_squared_error(y_true=y_test, y_pred=predicciones_poly4)\n",
    "print(f\"MSE: {mse:,.4f}\")"
   ]
  },
  {
   "cell_type": "markdown",
   "metadata": {},
   "source": [
    "#### Calibración"
   ]
  },
  {
   "cell_type": "code",
   "execution_count": null,
   "metadata": {},
   "outputs": [],
   "source": [
    "calibracion(predicciones_poly4, y_test, 25)"
   ]
  },
  {
   "cell_type": "markdown",
   "metadata": {},
   "source": [
    "### Regularización Ridge"
   ]
  },
  {
   "cell_type": "code",
   "execution_count": null,
   "metadata": {},
   "outputs": [],
   "source": [
    "model = linear_model.Ridge().fit(X_poly_train, y_train)\n",
    "predicciones_poly4_ridge = model.predict(X_poly_test)\n",
    "\n",
    "r2 = r2_score(y_true=y_test, y_pred=predicciones_poly4_ridge)\n",
    "print(f\"R² Score: {r2:,.4f}\")\n",
    "\n",
    "mse = mean_squared_error(y_true=y_test, y_pred=predicciones_poly4_ridge)\n",
    "print(f\"MSE: {mse:,.4f}\")"
   ]
  },
  {
   "cell_type": "markdown",
   "metadata": {},
   "source": [
    "#### Calibración"
   ]
  },
  {
   "cell_type": "code",
   "execution_count": null,
   "metadata": {},
   "outputs": [],
   "source": [
    "calibracion(predicciones_poly4_ridge, y_test, 25)"
   ]
  },
  {
   "cell_type": "markdown",
   "metadata": {},
   "source": [
    "### Regularización Lasso"
   ]
  },
  {
   "cell_type": "code",
   "execution_count": null,
   "metadata": {},
   "outputs": [],
   "source": [
    "model = linear_model.Lasso().fit(X_poly_train, y_train)\n",
    "predicciones_poly4_lasso = model.predict(X_poly_test)\n",
    "\n",
    "r2 = r2_score(y_true=y_test, y_pred=predicciones_poly4_lasso)\n",
    "print(f\"R² Score: {r2:,.4f}\")\n",
    "\n",
    "mse = mean_squared_error(y_true=y_test, y_pred=predicciones_poly4_lasso)\n",
    "print(f\"MSE: {mse:,.4f}\")"
   ]
  },
  {
   "cell_type": "markdown",
   "metadata": {},
   "source": [
    "#### Calibración"
   ]
  },
  {
   "cell_type": "code",
   "execution_count": null,
   "metadata": {},
   "outputs": [],
   "source": [
    "calibracion(predicciones_poly4_lasso, y_test, 25)"
   ]
  },
  {
   "cell_type": "markdown",
   "metadata": {},
   "source": [
    "## Comparación modelos"
   ]
  },
  {
   "cell_type": "code",
   "execution_count": null,
   "metadata": {},
   "outputs": [],
   "source": [
    "modelos = ['poly4', 'poly4_ridge', 'poly4_lasso']\n",
    "\n",
    "comparacion(modelos, y_test)"
   ]
  },
  {
   "cell_type": "markdown",
   "metadata": {},
   "source": [
    "# KNN"
   ]
  },
  {
   "cell_type": "markdown",
   "metadata": {},
   "source": [
    "## Aproximación gráfica"
   ]
  },
  {
   "cell_type": "code",
   "execution_count": null,
   "metadata": {},
   "outputs": [],
   "source": [
    "nn = []\n",
    "r2 = []\n",
    "r2_train = []\n",
    "for i in range(1, 50):\n",
    "    \n",
    "    model = KNeighborsRegressor(n_neighbors=i).fit(X_train_scaled, y_train)\n",
    "    predicciones = model.predict(X_test_scaled)\n",
    "\n",
    "    r2.append(r2_score(y_true=y_test, y_pred=predicciones))\n",
    "    nn.append(i)\n",
    "\n",
    "    predicciones_train = model.predict(X_train_scaled)\n",
    "    r2_train.append(r2_score(y_true=y_train, y_pred=predicciones_train))\n",
    "\n",
    "resultados = pd.DataFrame({'r2': r2, 'nn': nn, 'r2_train': r2_train})\n",
    "\n",
    "nn_opt = resultados[resultados.r2 == max(resultados.r2)].nn.values[0]\n",
    "\n",
    "graficas_KNN(resultados, nn_opt)"
   ]
  },
  {
   "cell_type": "markdown",
   "metadata": {},
   "source": [
    "## Prueba y error"
   ]
  },
  {
   "cell_type": "code",
   "execution_count": null,
   "metadata": {},
   "outputs": [],
   "source": [
    "model = KNeighborsRegressor(n_neighbors=nn_opt-1).fit(X_train_scaled, y_train)\n",
    "predicciones = model.predict(X_test_scaled)\n",
    "nn_opt_nbr_minus = r2_score(y_true=y_test, y_pred=predicciones)\n",
    "\n",
    "model = KNeighborsRegressor(n_neighbors=nn_opt).fit(X_train_scaled, y_train)\n",
    "predicciones = model.predict(X_test_scaled)\n",
    "nn_opt_nbr = r2_score(y_true=y_test, y_pred=predicciones)\n",
    "\n",
    "model = KNeighborsRegressor(n_neighbors=nn_opt+1).fit(X_train_scaled, y_train)\n",
    "predicciones = model.predict(X_test_scaled)\n",
    "nn_opt_nbr_plus = r2_score(y_true=y_test, y_pred=predicciones)\n",
    "\n",
    "print(f\"R2 con {nn_opt-1} neighbors: {nn_opt_nbr_minus:.4f} \\nR2 con {nn_opt} neighbors: {nn_opt_nbr:.4f} \\nR2 con {nn_opt+1} neighbors: {nn_opt_nbr_plus:.4f}\")"
   ]
  },
  {
   "cell_type": "markdown",
   "metadata": {},
   "source": [
    "# Conclusiones generales"
   ]
  },
  {
   "cell_type": "markdown",
   "metadata": {},
   "source": []
  }
 ],
 "metadata": {
  "kernelspec": {
   "display_name": "base",
   "language": "python",
   "name": "python3"
  },
  "language_info": {
   "codemirror_mode": {
    "name": "ipython",
    "version": 3
   },
   "file_extension": ".py",
   "mimetype": "text/x-python",
   "name": "python",
   "nbconvert_exporter": "python",
   "pygments_lexer": "ipython3",
   "version": "3.12.7"
  }
 },
 "nbformat": 4,
 "nbformat_minor": 2
}

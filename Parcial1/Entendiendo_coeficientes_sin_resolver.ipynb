{
 "cells": [
  {
   "cell_type": "code",
   "execution_count": 1,
   "metadata": {},
   "outputs": [
    {
     "name": "stderr",
     "output_type": "stream",
     "text": [
      "/Users/antoniomanguart/opt/anaconda3/lib/python3.8/site-packages/pandas/core/computation/expressions.py:20: UserWarning: Pandas requires version '2.7.3' or newer of 'numexpr' (version '2.7.1' currently installed).\n",
      "  from pandas.core.computation.check import NUMEXPR_INSTALLED\n"
     ]
    }
   ],
   "source": [
    "import pandas as pd\n",
    "import numpy as np\n",
    "import matplotlib.pyplot as plt\n",
    "import statsmodels.formula.api as smf\n",
    "\n",
    "import warnings\n",
    "warnings.filterwarnings('ignore')\n",
    "\n",
    "\n",
    "wage = pd.read_csv('wage.csv').dropna()\n",
    "wage['hwage'] = wage[\"wage\"]/wage[\"hours\"]"
   ]
  },
  {
   "cell_type": "markdown",
   "metadata": {},
   "source": [
    "Efecto de la educación en el salario (logaritmo)"
   ]
  },
  {
   "cell_type": "code",
   "execution_count": null,
   "metadata": {},
   "outputs": [],
   "source": []
  },
  {
   "cell_type": "markdown",
   "metadata": {},
   "source": [
    "Utiliza los demás controles"
   ]
  },
  {
   "cell_type": "code",
   "execution_count": 3,
   "metadata": {},
   "outputs": [],
   "source": [
    "controls = ['IQ', 'exper', 'tenure', 'age', 'married', 'black',\n",
    "            'south', 'urban', 'sibs', 'brthord', 'meduc', 'feduc']"
   ]
  },
  {
   "cell_type": "code",
   "execution_count": null,
   "metadata": {},
   "outputs": [],
   "source": []
  },
  {
   "cell_type": "code",
   "execution_count": null,
   "metadata": {},
   "outputs": [],
   "source": []
  },
  {
   "cell_type": "markdown",
   "metadata": {},
   "source": [
    "\n",
    "\n",
    "# Teorema de Frisch-Waugh-Lovell\n",
    "\n",
    "El **Teorema de Frisch-Waugh-Lovell** establece que en una regresión múltiple:\n",
    "\n",
    "$$\n",
    "Y = \\beta_0 + \\beta_1 X_1 + \\beta_2 X_2 + \\dots + \\beta_k X_k + \\epsilon\n",
    "$$\n",
    "\n",
    "el coeficiente $(\\beta_1$) puede obtenerse de manera equivalente en tres pasos:\n",
    "\n",
    "##  Paso 1: Regresión de $Y$ contra $(X_2, ..., X_k)$\n",
    "Regresamos $Y$ contra $(X_2, X_3, ..., X_k)$ y obtenemos los residuos $R_Y$:\n",
    "\n",
    "$$\n",
    "Y = \\gamma_0 + \\gamma_2 X_2 + \\dots + \\gamma_k X_k + R_Y\n",
    "$$\n",
    "\n",
    "Donde $R_Y$ representa la parte de $Y$ que *no* está explicada por $X_2, ..., X_k$.\n",
    "\n",
    "## Paso 2: Regresión de $X_1$ contra $(X_2, ..., X_k)$\n",
    "Regresamos $X_1$ contra $(X_2, X_3, ..., X_k)$ y obtenemos los residuos $R_{X_1}$:\n",
    "\n",
    "$$\n",
    "X_1 = \\delta_0 + \\delta_2 X_2 + \\dots + \\delta_k X_k + R_{X_1}\n",
    "$$\n",
    "\n",
    "Donde $R_{X_1}$ representa la parte de $X_1$ que no está explicada por $(X_2, ..., X_k)$.\n",
    "\n",
    "## Paso 3: Regresión de $R_Y$ contra $R_{X_1}$\n",
    "\n",
    "Finalmente, regresamos $R_Y$ contra $R_{X_1}$:\n",
    "\n",
    "$$\n",
    "R_Y = \\beta_1 R_{X_1} + \\nu\n",
    "$$\n",
    "\n",
    "El coeficiente $\\beta_1$ obtenido en esta regresión es **idéntico** al de la regresión original:\n",
    "\n",
    "$$\n",
    "Y = \\beta_0 + \\beta_1 X_1 + \\beta_2 X_2 + \\dots + \\beta_k X_k + \\epsilon\n",
    "$$\n",
    "\n",
    "## Conclusión  \n",
    "El teorema demuestra que el **efecto de $X_1$ sobre $Y$ ** se puede calcular sin necesidad de incluir todas las variables en una misma regresión, utilizando residuos de regresiones auxiliares.\n",
    "\n"
   ]
  },
  {
   "cell_type": "markdown",
   "metadata": {},
   "source": [
    "### Implementando el teorema "
   ]
  },
  {
   "cell_type": "code",
   "execution_count": null,
   "metadata": {},
   "outputs": [],
   "source": []
  },
  {
   "cell_type": "markdown",
   "metadata": {},
   "source": [
    "### Parte 1\n",
    "\n",
    "Predice el salario a partir de todos los controles excepto por la educación"
   ]
  },
  {
   "cell_type": "code",
   "execution_count": null,
   "metadata": {},
   "outputs": [],
   "source": []
  },
  {
   "cell_type": "markdown",
   "metadata": {},
   "source": [
    "Obten los residuales, que es la parte del salario que no esta explicada por los controles"
   ]
  },
  {
   "cell_type": "code",
   "execution_count": null,
   "metadata": {},
   "outputs": [],
   "source": []
  },
  {
   "cell_type": "markdown",
   "metadata": {},
   "source": [
    "### Parte 2\n",
    "\n",
    "Predice la educación a partir de los demás controles "
   ]
  },
  {
   "cell_type": "code",
   "execution_count": null,
   "metadata": {},
   "outputs": [],
   "source": []
  },
  {
   "cell_type": "markdown",
   "metadata": {},
   "source": [
    "Obten los residuales, que es la información que está en educación que no puede ser explicada por los controles"
   ]
  },
  {
   "cell_type": "code",
   "execution_count": null,
   "metadata": {},
   "outputs": [],
   "source": []
  },
  {
   "cell_type": "markdown",
   "metadata": {},
   "source": [
    "### Parte 3\n",
    "\n",
    "Crea un modelo que prediga los residuales del modelo 1 a partir de los residuales del modelo 2"
   ]
  },
  {
   "cell_type": "code",
   "execution_count": null,
   "metadata": {},
   "outputs": [],
   "source": []
  },
  {
   "cell_type": "markdown",
   "metadata": {},
   "source": [
    "Esto tiene que ser *exactamente igual* que predecir con todos \n",
    "\n",
    "\n",
    "¿Por qué esto es importante?\n",
    "\n",
    "*quiere decir que cuando hacemos una regresión, el coeficiente $\\beta_1$ es el efecto de $x_1$ tomando en cuenta toda la información contenida en los demás coeficientes*\n",
    "\n",
    "¿Por qué esto es importante?\n",
    "\n",
    "Quiere decir que si hacemos una regresión y usamos todos los controles, podemos aislar el efecto particular de cualquier tratamiento, siempre y cuando se usen los controles pertinentes. \n"
   ]
  },
  {
   "cell_type": "markdown",
   "metadata": {},
   "source": [
    "### Ejemplo de data en el mundo real\n",
    "\n",
    "Tenemos las ventas de una tienda de helados.\n",
    "\n",
    "El vendedor de helados quiere cobrar siempre lo más que pueda pero hay una intuición obvia. \n",
    "\n",
    "*Si cobro muy caro, nadie va venir*\n",
    "\n",
    "Contrata a un Data Scientist para que le ayude a entender cuanto cobrar.\n",
    "\n",
    "Primer paso, regresión lineal"
   ]
  },
  {
   "cell_type": "code",
   "execution_count": 76,
   "metadata": {},
   "outputs": [],
   "source": [
    "df = pd.read_csv('ice_cream_sales.csv')"
   ]
  },
  {
   "cell_type": "code",
   "execution_count": null,
   "metadata": {},
   "outputs": [],
   "source": []
  },
  {
   "cell_type": "markdown",
   "metadata": {},
   "source": [
    "Esto suena absurdo, ¿como es posible que a mayor precio, más ventas?\n",
    "\n",
    "Bivariado de las ventas\n",
    "\n",
    "pd.qcut(df_calibracion['predicciones'], q=5, labels=False, duplicates='drop')"
   ]
  },
  {
   "cell_type": "code",
   "execution_count": null,
   "metadata": {},
   "outputs": [],
   "source": []
  },
  {
   "cell_type": "code",
   "execution_count": null,
   "metadata": {},
   "outputs": [],
   "source": []
  },
  {
   "cell_type": "markdown",
   "metadata": {},
   "source": [
    "Efectiamente, según los datos a mayor precio, mayor venta.\n",
    "\n",
    "\n",
    "Pasa que los vendedores no son tontos, algunos días donde es feriado o que hace mucho calor suben el precio ... y es justamente donde se vende más.\n",
    "\n",
    "Podemos usar una regrsion linal _controlando por esos factores_.\n"
   ]
  },
  {
   "cell_type": "code",
   "execution_count": null,
   "metadata": {},
   "outputs": [],
   "source": []
  },
  {
   "cell_type": "markdown",
   "metadata": {},
   "source": [
    "Aqui ya podemos ver que el precio tiene un coeficiente negativo, dejando todo lo demás igual si sube el precio las ventas caen "
   ]
  },
  {
   "cell_type": "markdown",
   "metadata": {},
   "source": [
    "### Aplicando el teorema de Teorema de Frisch-Waugh-Lovell"
   ]
  },
  {
   "cell_type": "code",
   "execution_count": null,
   "metadata": {},
   "outputs": [],
   "source": []
  },
  {
   "cell_type": "markdown",
   "metadata": {},
   "source": [
    "### Caso 2\n",
    "\n",
    "¿Qué tan buena es una medicina?"
   ]
  },
  {
   "cell_type": "code",
   "execution_count": null,
   "metadata": {},
   "outputs": [],
   "source": [
    "hospital = pd.read_csv('hospital_treatment.csv')"
   ]
  },
  {
   "cell_type": "markdown",
   "metadata": {},
   "source": [
    "Regresion días y treatment"
   ]
  },
  {
   "cell_type": "code",
   "execution_count": null,
   "metadata": {},
   "outputs": [],
   "source": []
  },
  {
   "cell_type": "markdown",
   "metadata": {},
   "source": [
    "De entrada, parece que la medicina hace que los pacientes duren _más días en el hospital_\n",
    "\n",
    "\n",
    "Pero ...\n",
    "\n",
    "En realidad esta medicina se le da a los pacientes que están muy muy mal, aquí hay un sesgo en los datos.\n",
    "\n",
    "Afortunadamente podemos controlar por severidad"
   ]
  },
  {
   "cell_type": "code",
   "execution_count": null,
   "metadata": {},
   "outputs": [],
   "source": []
  },
  {
   "cell_type": "markdown",
   "metadata": {},
   "source": [
    "Ahora la medicina parece que si tiene buen efecto \n",
    "\n",
    "Pasa que también depende mucho de los hopspitales, hay hospitales que tienen más pacientes con severidad"
   ]
  },
  {
   "cell_type": "code",
   "execution_count": 8,
   "metadata": {},
   "outputs": [],
   "source": [
    "# Group by hospital\n"
   ]
  },
  {
   "cell_type": "markdown",
   "metadata": {},
   "source": [
    "Pues hago un modelo que tenga todo, de una vez ... no puede ser malo-"
   ]
  },
  {
   "cell_type": "code",
   "execution_count": null,
   "metadata": {},
   "outputs": [],
   "source": []
  },
  {
   "cell_type": "markdown",
   "metadata": {},
   "source": [
    "El tratamiento tiene un p-value no significativo, ¿qué está pasando?\n",
    "\n",
    "\n",
    "Recordar la formula del error estadard en una regresión:\n",
    "\n",
    "\n",
    "$$\\sigma^2 = \\frac{\\Sigma (y_i - \\hat{y})^2}{n}$$\n",
    "\n",
    "$$SE(\\beta) = \\sqrt{\\frac{\\sigma^2}{\\Sigma (x - E[X])^2}} $$\n",
    "\n",
    "Si la varianza de X es muy baja, el error estandard será *mayor*\n",
    "\n",
    "\n",
    "¿Cómo es que la varianza de el tratamiento puede bajar en este caso?\n",
    "\n",
    "A la hora de aplicar el Teorema de Frisch-Waugh-Lovel el hospital puede predecir la severidad, los residuales serán más pequeños y le predicción del efecto se ve afectada.\n"
   ]
  },
  {
   "cell_type": "code",
   "execution_count": null,
   "metadata": {},
   "outputs": [],
   "source": []
  },
  {
   "cell_type": "markdown",
   "metadata": {},
   "source": [
    "Si hacemos lo mismo, pero sin hospital el p-value ya es significativo"
   ]
  },
  {
   "cell_type": "code",
   "execution_count": null,
   "metadata": {},
   "outputs": [],
   "source": []
  },
  {
   "cell_type": "markdown",
   "metadata": {},
   "source": [
    "*Si el objetivo de su regresión está fuertemente ligado a interpretar los coeficientes, no agregar controles que predigan el tratamiento pero no tenga relación real con $y$*"
   ]
  },
  {
   "cell_type": "markdown",
   "metadata": {},
   "source": [
    "### Un poco más sobre modelado \n",
    "\n",
    "Tenemos los datos de tarjeta de crédito de una empresa, queremos predecir cuanto va a gastar un usuario y en función de eso darle un límite de crédito.\n",
    "\n",
    "Podemos asumir que :\n",
    "\n",
    "1- A mayor ingreso, mayor gasto\n",
    "\n",
    "2- A mayor límite de crédito, mayor gasto pero no en la misma proporción\n"
   ]
  },
  {
   "cell_type": "code",
   "execution_count": 9,
   "metadata": {},
   "outputs": [],
   "source": [
    "spend = pd.read_csv('spend_data.csv')\n"
   ]
  },
  {
   "cell_type": "code",
   "execution_count": null,
   "metadata": {},
   "outputs": [],
   "source": [
    "spend['wage_bins'] = pd.qcut(spend['wage'], q=5, labels=False) + 1"
   ]
  },
  {
   "cell_type": "markdown",
   "metadata": {},
   "source": [
    "Grafica el límite de crédito vs gasto, segmentado por salario "
   ]
  },
  {
   "cell_type": "code",
   "execution_count": null,
   "metadata": {},
   "outputs": [],
   "source": []
  },
  {
   "cell_type": "markdown",
   "metadata": {},
   "source": [
    "Efectivamente, líite de crédito, mayor gasto pero no es lineal al segmentar por ingreso.\n",
    "\n",
    "Predice el gasto usando una regresión simple de salrio y límite de crédito"
   ]
  },
  {
   "cell_type": "code",
   "execution_count": null,
   "metadata": {},
   "outputs": [],
   "source": []
  },
  {
   "cell_type": "code",
   "execution_count": null,
   "metadata": {},
   "outputs": [],
   "source": []
  },
  {
   "cell_type": "markdown",
   "metadata": {},
   "source": [
    "### Utilizando una función no lineal vamos a linearizar el modelo"
   ]
  },
  {
   "cell_type": "code",
   "execution_count": null,
   "metadata": {},
   "outputs": [],
   "source": []
  },
  {
   "cell_type": "code",
   "execution_count": null,
   "metadata": {},
   "outputs": [],
   "source": []
  },
  {
   "cell_type": "code",
   "execution_count": null,
   "metadata": {},
   "outputs": [],
   "source": []
  },
  {
   "cell_type": "markdown",
   "metadata": {},
   "source": [
    "¿Por qué esto mejora?\n",
    "\n",
    "Bivarido segmentado por el límite de crédito con predicciones 1"
   ]
  },
  {
   "cell_type": "code",
   "execution_count": null,
   "metadata": {},
   "outputs": [],
   "source": []
  },
  {
   "cell_type": "markdown",
   "metadata": {},
   "source": [
    "Ahora con la segunda prediccion"
   ]
  },
  {
   "cell_type": "code",
   "execution_count": null,
   "metadata": {},
   "outputs": [],
   "source": []
  },
  {
   "cell_type": "markdown",
   "metadata": {},
   "source": [
    "La predicción 2 se parece más a la realidad"
   ]
  },
  {
   "cell_type": "code",
   "execution_count": null,
   "metadata": {},
   "outputs": [],
   "source": []
  }
 ],
 "metadata": {
  "kernelspec": {
   "display_name": "Python 3",
   "language": "python",
   "name": "python3"
  },
  "language_info": {
   "codemirror_mode": {
    "name": "ipython",
    "version": 3
   },
   "file_extension": ".py",
   "mimetype": "text/x-python",
   "name": "python",
   "nbconvert_exporter": "python",
   "pygments_lexer": "ipython3",
   "version": "3.8.5"
  }
 },
 "nbformat": 4,
 "nbformat_minor": 4
}

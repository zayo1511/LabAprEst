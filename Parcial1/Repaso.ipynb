{
 "cells": [
  {
   "cell_type": "markdown",
   "metadata": {},
   "source": [
    "# Cross validation"
   ]
  },
  {
   "cell_type": "markdown",
   "metadata": {},
   "source": [
    "Dividir los datos en train y test, para crear un modelo únicamente con el train y comprobar esto con el test. Esto funciona para evitar overfitting, ya que el modelo no memoriza los datos. Por convención se suele utilizar el random state 42 y una particion de datos de 0.2 o 0.3."
   ]
  },
  {
   "cell_type": "markdown",
   "metadata": {},
   "source": [
    "# Descenso en gradiente"
   ]
  },
  {
   "cell_type": "markdown",
   "metadata": {},
   "source": [
    "Se tiene la función de perdida, la cual por su forma se sabe que es cuadrática.\n",
    "\n",
    "$$L = \\frac{1}{2} \\Sigma (\\hat{y} - y)^2$$\n",
    "$$\\hat{y} = \\beta_0 + \\beta_1 x_1 + ... + \\beta_n x_n$$\n",
    "\n",
    "Se busca minimizar la pérdida, lo cual se realiza de forma recursiva de la siguiente manera:\n",
    "\n",
    "$$\\beta_n = \\beta_{n-1} - \\alpha \\frac{\\partial L}{\\partial \\beta}$$\n",
    "\n",
    "donde la fracción parcial se multiplica por $-\\alpha$, para ir alternando el signo del error y para que la tasa de aprendizaje no sea tan alta. Ya que esto se repite iterativamente, se espera que el resultado de la pérdida converga a 0 al actualizar las betas que ya se tienen.\n",
    "\n",
    "A esto se le pueden agregar regularizaciones:\n",
    "- Ridge: $L = \\frac{1}{2} \\Sigma (\\hat{y} - y)^2 + \\Sigma (\\beta^2)$\n",
    "\n",
    "Penaliza mucho a las betas mayores numéricamente ya que las eleva al cuadrado (con esto se eliminan resultados negativos, evitando que se cancelen entre si)\n",
    "\n",
    "- Lasso: $L = \\frac{1}{2} \\Sigma (\\hat{y} - y)^2 + \\Sigma |\\beta|$\n",
    "\n",
    "De igual manera penaliza a las betas, pero en una menor medida, ya que únicamente utiliza el valor absoluto (para que no se resten y se cancelen entre si)"
   ]
  },
  {
   "cell_type": "markdown",
   "metadata": {},
   "source": [
    "# Catogorizar variables"
   ]
  },
  {
   "cell_type": "markdown",
   "metadata": {},
   "source": [
    "Dividir una variable en diferentes segmentos para buscar una mayor explicación de la variable dependiente. Generalmente estas suelen convetir variables no numéricas en numéricas. Se crean variables dummies con base en las columnas categóricas, de modo que se puedan introducir al modelo de predicción."
   ]
  },
  {
   "cell_type": "markdown",
   "metadata": {},
   "source": [
    "# Análisis vibariado"
   ]
  },
  {
   "cell_type": "markdown",
   "metadata": {},
   "source": [
    "Te ayuda a ver la relación entre 2 variables, generalmente entre la variable dependiente y elr esto de variables. Gráficamente esto te ayuda a ver tendencias y realizar transformaciones en caso de ser necesario."
   ]
  },
  {
   "cell_type": "markdown",
   "metadata": {},
   "source": [
    "# Teorema Frisch-Waugh-Lovell"
   ]
  },
  {
   "cell_type": "markdown",
   "metadata": {},
   "source": [
    "$$\\hat{y} = \\beta_0 + \\beta_1 x_1 + \\beta_2 x_2 + \\beta_3 x_3$$\n",
    "\n",
    "Haces una regresión sobre y excluyendo a x1\n",
    "\n",
    "$$\\hat{y} = \\theta_0 + \\theta_1 x_2 + \\theta_2 x_3$$\n",
    "\n",
    "Está regresión funciona con el resto de variables excepto x1\n",
    "\n",
    "$$y - \\hat{y} = \\text{residuales y}$$\n",
    "\n",
    "Los residuales de y son lo que x2 y x3 no pudieron explicar sobre la variable dependiente\n",
    "\n",
    "$$\\hat{x_1} = \\gamma_0 + \\gamma_1 x_2 + \\gamma_2 x_3$$\n",
    "\n",
    "Se trata de hacer una predicción de x1, con el resto de variables\n",
    "\n",
    "$$x_1 - \\hat{x_1} = \\text{residuales de x}$$\n",
    "\n",
    "Los residuales de x es lo que x2 y x3 no pudieron explicar de x1\n",
    "\n",
    "$$y - \\hat{y} = \\beta_1 (x_1 - \\hat{x_1})$$\n",
    "\n",
    "Los residuales de y son equivalentes a los residuales de x con coeficiente igual a la misma beta de la regresión original, lo que quiere decir que los residuales exponen el efecto causal de la variable que se esté analizando, en este caso x1. Ya que con esto puedes determinar el efecto causal, puedes ver el impacto de una de las variables sobre la predicción lo que te ayudaría a tener un mayor entendimiento sobre el modelo de predicción."
   ]
  },
  {
   "cell_type": "markdown",
   "metadata": {},
   "source": [
    "# R2 score"
   ]
  },
  {
   "cell_type": "markdown",
   "metadata": {},
   "source": [
    "El R2 es una métrica que te ayuda a medir el ajuste de tu modelo, frente a la variable dependiente. Te ayuda a explicar el porcentaje de variablilidad de los datos que es explicada por el modelo."
   ]
  },
  {
   "cell_type": "markdown",
   "metadata": {},
   "source": [
    "# KNN"
   ]
  },
  {
   "cell_type": "markdown",
   "metadata": {},
   "source": [
    "Es un método con el cuál se determina el número de vecinos con el que se quiere trabajar, se calculan las distancias entre los puntos y se promedian los valores del n numero de vecinos más cercanos. Con base en estos valores se crea el modelo de predicción. La eficacia de este modelo depende del númro de vecinos."
   ]
  },
  {
   "cell_type": "markdown",
   "metadata": {},
   "source": []
  }
 ],
 "metadata": {
  "language_info": {
   "name": "python"
  }
 },
 "nbformat": 4,
 "nbformat_minor": 2
}

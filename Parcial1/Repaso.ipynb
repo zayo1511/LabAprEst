{
 "cells": [
  {
   "cell_type": "markdown",
   "metadata": {},
   "source": [
    "# Cross validation"
   ]
  },
  {
   "cell_type": "markdown",
   "metadata": {},
   "source": [
    "Dividir los datos en train y test, para crear un modelo únicamente con el train y comprobar esto con el test. Esto funciona para evitar overfitting, ya que el modelo no memoriza los datos. Por convención se suele utilizar el random state 42 y una particion de datos de 0.2 o 0.3."
   ]
  },
  {
   "cell_type": "markdown",
   "metadata": {},
   "source": [
    "# Descenso en gradiente"
   ]
  },
  {
   "cell_type": "markdown",
   "metadata": {},
   "source": []
  },
  {
   "cell_type": "markdown",
   "metadata": {},
   "source": [
    "# Regresión lineal simple"
   ]
  },
  {
   "cell_type": "markdown",
   "metadata": {},
   "source": []
  },
  {
   "cell_type": "markdown",
   "metadata": {},
   "source": [
    "# Regresión polinomial"
   ]
  },
  {
   "cell_type": "markdown",
   "metadata": {},
   "source": []
  },
  {
   "cell_type": "markdown",
   "metadata": {},
   "source": [
    "# Catogorizar variables"
   ]
  },
  {
   "cell_type": "markdown",
   "metadata": {},
   "source": []
  },
  {
   "cell_type": "markdown",
   "metadata": {},
   "source": [
    "# Prueba de hipótesis"
   ]
  },
  {
   "cell_type": "markdown",
   "metadata": {},
   "source": []
  },
  {
   "cell_type": "markdown",
   "metadata": {},
   "source": [
    "# Análisis vibariado"
   ]
  },
  {
   "cell_type": "markdown",
   "metadata": {},
   "source": []
  },
  {
   "cell_type": "markdown",
   "metadata": {},
   "source": [
    "# Teorema Frisch-Waugh-Lovell"
   ]
  },
  {
   "cell_type": "markdown",
   "metadata": {},
   "source": [
    "$$\\hat{y} = \\beta_0 + beta_1 x_1 + beta_2 x_2 + beta_3 x_3$$\n",
    "\n",
    "Haces una regresión sobre y excluyendo a x1\n",
    "\n",
    "$$\\hat{y} = \\theta_0 + theta_1 x_2 + theta_2 x_3$$\n",
    "\n",
    "Está regresión funciona con el resto de variables excepto x1\n",
    "\n",
    "$$y - \\hat{y} = \\text{residuales y}$$\n",
    "\n",
    "Los residuales de y son lo que x2 y x3 no pudieron explicar sobre la variable dependiente\n",
    "\n",
    "$$\\hat{x_1} = \\gamma_0 + \\gamma_1 x_2 + \\gamma_2 x_3$$\n",
    "\n",
    "Se trata de hacer una predicción de x1, con el resto de variables\n",
    "\n",
    "$$x_1 - \\hat{x_1} = \\text{residuales de x}$$\n",
    "\n",
    "Los desiduales de x es lo que x2 y x3 no pudieron explicar de x1\n",
    "\n",
    "$$y - \\hat{y} = \\beta_1 (x_1 - \\hat{x_1})$$\n",
    "\n",
    "Los residuales de y son equivalentes a los residuales de x multiplicados por la misma beta de la regresión original, lo que quiere decir que los residuales exponen el efecto causal de la variable que se esté analizando, en este caso x1. Ya que con esto puedes determiar el efecto causal, puedes determinar el impacto de unas variables sobre otras lo que te ayudaría a identificar "
   ]
  },
  {
   "cell_type": "markdown",
   "metadata": {},
   "source": [
    "# R2 score"
   ]
  },
  {
   "cell_type": "markdown",
   "metadata": {},
   "source": []
  },
  {
   "cell_type": "markdown",
   "metadata": {},
   "source": [
    "# KNN"
   ]
  },
  {
   "cell_type": "markdown",
   "metadata": {},
   "source": []
  }
 ],
 "metadata": {
  "language_info": {
   "name": "python"
  }
 },
 "nbformat": 4,
 "nbformat_minor": 2
}
